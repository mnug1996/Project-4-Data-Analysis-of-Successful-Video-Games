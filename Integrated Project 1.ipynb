{
 "cells": [
  {
   "cell_type": "markdown",
   "metadata": {},
   "source": [
    "# ICE Data analysis\n",
    "\n",
    "**The objective for this analysis is to spot potential big winners and plan advertising campaigns. This will be achieved by following a series of steps to identify patterns that determine whether a game succeeds or not. There will be 6 steps:\n",
    "\n",
    "Step 1. Open the data file and study the general information\n",
    "\n",
    "Step 2. Prepare the data\n",
    "\n",
    "Step 3. Analyze the data\n",
    "\n",
    "Step 4. Create a user profile for each region\n",
    "\n",
    "Step 5. Test the following hypotheses:\n",
    "\n",
    "—Average user ratings of the Xbox One and PC platforms are the same.\n",
    "\n",
    "—Average user ratings for the Action and Sports genres are different.\n",
    "\n",
    "Step 6. Form a general conclusion\n",
    "\n",
    "\n",
    "\n"
   ]
  },
  {
   "cell_type": "markdown",
   "metadata": {},
   "source": [
    "## Open the data file and study the general information"
   ]
  },
  {
   "cell_type": "code",
   "execution_count": 1,
   "metadata": {},
   "outputs": [
    {
     "name": "stdout",
     "output_type": "stream",
     "text": [
      "<class 'pandas.core.frame.DataFrame'>\n",
      "RangeIndex: 16715 entries, 0 to 16714\n",
      "Data columns (total 11 columns):\n",
      "Name               16713 non-null object\n",
      "Platform           16715 non-null object\n",
      "Year_of_Release    16446 non-null float64\n",
      "Genre              16713 non-null object\n",
      "NA_sales           16715 non-null float64\n",
      "EU_sales           16715 non-null float64\n",
      "JP_sales           16715 non-null float64\n",
      "Other_sales        16715 non-null float64\n",
      "Critic_Score       8137 non-null float64\n",
      "User_Score         10014 non-null object\n",
      "Rating             9949 non-null object\n",
      "dtypes: float64(6), object(5)\n",
      "memory usage: 1.4+ MB\n"
     ]
    },
    {
     "data": {
      "text/html": [
       "<div>\n",
       "<style scoped>\n",
       "    .dataframe tbody tr th:only-of-type {\n",
       "        vertical-align: middle;\n",
       "    }\n",
       "\n",
       "    .dataframe tbody tr th {\n",
       "        vertical-align: top;\n",
       "    }\n",
       "\n",
       "    .dataframe thead th {\n",
       "        text-align: right;\n",
       "    }\n",
       "</style>\n",
       "<table border=\"1\" class=\"dataframe\">\n",
       "  <thead>\n",
       "    <tr style=\"text-align: right;\">\n",
       "      <th></th>\n",
       "      <th>Name</th>\n",
       "      <th>Platform</th>\n",
       "      <th>Year_of_Release</th>\n",
       "      <th>Genre</th>\n",
       "      <th>NA_sales</th>\n",
       "      <th>EU_sales</th>\n",
       "      <th>JP_sales</th>\n",
       "      <th>Other_sales</th>\n",
       "      <th>Critic_Score</th>\n",
       "      <th>User_Score</th>\n",
       "      <th>Rating</th>\n",
       "    </tr>\n",
       "  </thead>\n",
       "  <tbody>\n",
       "    <tr>\n",
       "      <td>0</td>\n",
       "      <td>Wii Sports</td>\n",
       "      <td>Wii</td>\n",
       "      <td>2006.0</td>\n",
       "      <td>Sports</td>\n",
       "      <td>41.36</td>\n",
       "      <td>28.96</td>\n",
       "      <td>3.77</td>\n",
       "      <td>8.45</td>\n",
       "      <td>76.0</td>\n",
       "      <td>8</td>\n",
       "      <td>E</td>\n",
       "    </tr>\n",
       "    <tr>\n",
       "      <td>1</td>\n",
       "      <td>Super Mario Bros.</td>\n",
       "      <td>NES</td>\n",
       "      <td>1985.0</td>\n",
       "      <td>Platform</td>\n",
       "      <td>29.08</td>\n",
       "      <td>3.58</td>\n",
       "      <td>6.81</td>\n",
       "      <td>0.77</td>\n",
       "      <td>NaN</td>\n",
       "      <td>NaN</td>\n",
       "      <td>NaN</td>\n",
       "    </tr>\n",
       "    <tr>\n",
       "      <td>2</td>\n",
       "      <td>Mario Kart Wii</td>\n",
       "      <td>Wii</td>\n",
       "      <td>2008.0</td>\n",
       "      <td>Racing</td>\n",
       "      <td>15.68</td>\n",
       "      <td>12.76</td>\n",
       "      <td>3.79</td>\n",
       "      <td>3.29</td>\n",
       "      <td>82.0</td>\n",
       "      <td>8.3</td>\n",
       "      <td>E</td>\n",
       "    </tr>\n",
       "    <tr>\n",
       "      <td>3</td>\n",
       "      <td>Wii Sports Resort</td>\n",
       "      <td>Wii</td>\n",
       "      <td>2009.0</td>\n",
       "      <td>Sports</td>\n",
       "      <td>15.61</td>\n",
       "      <td>10.93</td>\n",
       "      <td>3.28</td>\n",
       "      <td>2.95</td>\n",
       "      <td>80.0</td>\n",
       "      <td>8</td>\n",
       "      <td>E</td>\n",
       "    </tr>\n",
       "    <tr>\n",
       "      <td>4</td>\n",
       "      <td>Pokemon Red/Pokemon Blue</td>\n",
       "      <td>GB</td>\n",
       "      <td>1996.0</td>\n",
       "      <td>Role-Playing</td>\n",
       "      <td>11.27</td>\n",
       "      <td>8.89</td>\n",
       "      <td>10.22</td>\n",
       "      <td>1.00</td>\n",
       "      <td>NaN</td>\n",
       "      <td>NaN</td>\n",
       "      <td>NaN</td>\n",
       "    </tr>\n",
       "    <tr>\n",
       "      <td>5</td>\n",
       "      <td>Tetris</td>\n",
       "      <td>GB</td>\n",
       "      <td>1989.0</td>\n",
       "      <td>Puzzle</td>\n",
       "      <td>23.20</td>\n",
       "      <td>2.26</td>\n",
       "      <td>4.22</td>\n",
       "      <td>0.58</td>\n",
       "      <td>NaN</td>\n",
       "      <td>NaN</td>\n",
       "      <td>NaN</td>\n",
       "    </tr>\n",
       "    <tr>\n",
       "      <td>6</td>\n",
       "      <td>New Super Mario Bros.</td>\n",
       "      <td>DS</td>\n",
       "      <td>2006.0</td>\n",
       "      <td>Platform</td>\n",
       "      <td>11.28</td>\n",
       "      <td>9.14</td>\n",
       "      <td>6.50</td>\n",
       "      <td>2.88</td>\n",
       "      <td>89.0</td>\n",
       "      <td>8.5</td>\n",
       "      <td>E</td>\n",
       "    </tr>\n",
       "    <tr>\n",
       "      <td>7</td>\n",
       "      <td>Wii Play</td>\n",
       "      <td>Wii</td>\n",
       "      <td>2006.0</td>\n",
       "      <td>Misc</td>\n",
       "      <td>13.96</td>\n",
       "      <td>9.18</td>\n",
       "      <td>2.93</td>\n",
       "      <td>2.84</td>\n",
       "      <td>58.0</td>\n",
       "      <td>6.6</td>\n",
       "      <td>E</td>\n",
       "    </tr>\n",
       "    <tr>\n",
       "      <td>8</td>\n",
       "      <td>New Super Mario Bros. Wii</td>\n",
       "      <td>Wii</td>\n",
       "      <td>2009.0</td>\n",
       "      <td>Platform</td>\n",
       "      <td>14.44</td>\n",
       "      <td>6.94</td>\n",
       "      <td>4.70</td>\n",
       "      <td>2.24</td>\n",
       "      <td>87.0</td>\n",
       "      <td>8.4</td>\n",
       "      <td>E</td>\n",
       "    </tr>\n",
       "    <tr>\n",
       "      <td>9</td>\n",
       "      <td>Duck Hunt</td>\n",
       "      <td>NES</td>\n",
       "      <td>1984.0</td>\n",
       "      <td>Shooter</td>\n",
       "      <td>26.93</td>\n",
       "      <td>0.63</td>\n",
       "      <td>0.28</td>\n",
       "      <td>0.47</td>\n",
       "      <td>NaN</td>\n",
       "      <td>NaN</td>\n",
       "      <td>NaN</td>\n",
       "    </tr>\n",
       "  </tbody>\n",
       "</table>\n",
       "</div>"
      ],
      "text/plain": [
       "                        Name Platform  Year_of_Release         Genre  \\\n",
       "0                 Wii Sports      Wii           2006.0        Sports   \n",
       "1          Super Mario Bros.      NES           1985.0      Platform   \n",
       "2             Mario Kart Wii      Wii           2008.0        Racing   \n",
       "3          Wii Sports Resort      Wii           2009.0        Sports   \n",
       "4   Pokemon Red/Pokemon Blue       GB           1996.0  Role-Playing   \n",
       "5                     Tetris       GB           1989.0        Puzzle   \n",
       "6      New Super Mario Bros.       DS           2006.0      Platform   \n",
       "7                   Wii Play      Wii           2006.0          Misc   \n",
       "8  New Super Mario Bros. Wii      Wii           2009.0      Platform   \n",
       "9                  Duck Hunt      NES           1984.0       Shooter   \n",
       "\n",
       "   NA_sales  EU_sales  JP_sales  Other_sales  Critic_Score User_Score Rating  \n",
       "0     41.36     28.96      3.77         8.45          76.0          8      E  \n",
       "1     29.08      3.58      6.81         0.77           NaN        NaN    NaN  \n",
       "2     15.68     12.76      3.79         3.29          82.0        8.3      E  \n",
       "3     15.61     10.93      3.28         2.95          80.0          8      E  \n",
       "4     11.27      8.89     10.22         1.00           NaN        NaN    NaN  \n",
       "5     23.20      2.26      4.22         0.58           NaN        NaN    NaN  \n",
       "6     11.28      9.14      6.50         2.88          89.0        8.5      E  \n",
       "7     13.96      9.18      2.93         2.84          58.0        6.6      E  \n",
       "8     14.44      6.94      4.70         2.24          87.0        8.4      E  \n",
       "9     26.93      0.63      0.28         0.47           NaN        NaN    NaN  "
      ]
     },
     "metadata": {},
     "output_type": "display_data"
    },
    {
     "data": {
      "text/plain": [
       "None"
      ]
     },
     "metadata": {},
     "output_type": "display_data"
    }
   ],
   "source": [
    "import pandas as pd\n",
    "games = pd.read_csv('/datasets/games.csv')\n",
    "try:\n",
    "    display(games.head(10), games.info())\n",
    "except:\n",
    "    display('cannot read csv')\n",
    "#The data is readable"
   ]
  },
  {
   "cell_type": "markdown",
   "metadata": {},
   "source": [
    "### Conclusion\n",
    "\n",
    "1) The data is readable and not corrupted\n",
    "\n",
    "2) There are 11 columns: 6 quantitative, 1 continuous, 4 categorical and 16,715 rows\n",
    "\n",
    "3) Quantitative: NA_sales, EU_sales, JP_sales, Other_sales, Critic_Score, User_Score\n",
    "\n",
    "4) Categorical: Name, Platform, Genre, Rating\n",
    "\n",
    "5) Continuous: Year_of_Release\n",
    "\n",
    "6) Data types for all columns look acceptable, except for year which should be converted to int64 type\n",
    "\n",
    "7) The data is now ready to be preprocessed (duplicates, missing values)"
   ]
  },
  {
   "cell_type": "markdown",
   "metadata": {},
   "source": [
    "## Prepare the data"
   ]
  },
  {
   "cell_type": "code",
   "execution_count": 2,
   "metadata": {},
   "outputs": [
    {
     "data": {
      "text/html": [
       "<div>\n",
       "<style scoped>\n",
       "    .dataframe tbody tr th:only-of-type {\n",
       "        vertical-align: middle;\n",
       "    }\n",
       "\n",
       "    .dataframe tbody tr th {\n",
       "        vertical-align: top;\n",
       "    }\n",
       "\n",
       "    .dataframe thead th {\n",
       "        text-align: right;\n",
       "    }\n",
       "</style>\n",
       "<table border=\"1\" class=\"dataframe\">\n",
       "  <thead>\n",
       "    <tr style=\"text-align: right;\">\n",
       "      <th></th>\n",
       "      <th>name</th>\n",
       "      <th>platform</th>\n",
       "      <th>year_of_release</th>\n",
       "      <th>genre</th>\n",
       "      <th>na_sales</th>\n",
       "      <th>eu_sales</th>\n",
       "      <th>jp_sales</th>\n",
       "      <th>other_sales</th>\n",
       "      <th>critic_score</th>\n",
       "      <th>user_score</th>\n",
       "      <th>rating</th>\n",
       "    </tr>\n",
       "  </thead>\n",
       "  <tbody>\n",
       "    <tr>\n",
       "      <td>0</td>\n",
       "      <td>Wii Sports</td>\n",
       "      <td>Wii</td>\n",
       "      <td>2006.0</td>\n",
       "      <td>Sports</td>\n",
       "      <td>41.36</td>\n",
       "      <td>28.96</td>\n",
       "      <td>3.77</td>\n",
       "      <td>8.45</td>\n",
       "      <td>76.0</td>\n",
       "      <td>8</td>\n",
       "      <td>E</td>\n",
       "    </tr>\n",
       "    <tr>\n",
       "      <td>1</td>\n",
       "      <td>Super Mario Bros.</td>\n",
       "      <td>NES</td>\n",
       "      <td>1985.0</td>\n",
       "      <td>Platform</td>\n",
       "      <td>29.08</td>\n",
       "      <td>3.58</td>\n",
       "      <td>6.81</td>\n",
       "      <td>0.77</td>\n",
       "      <td>NaN</td>\n",
       "      <td>NaN</td>\n",
       "      <td>NaN</td>\n",
       "    </tr>\n",
       "    <tr>\n",
       "      <td>2</td>\n",
       "      <td>Mario Kart Wii</td>\n",
       "      <td>Wii</td>\n",
       "      <td>2008.0</td>\n",
       "      <td>Racing</td>\n",
       "      <td>15.68</td>\n",
       "      <td>12.76</td>\n",
       "      <td>3.79</td>\n",
       "      <td>3.29</td>\n",
       "      <td>82.0</td>\n",
       "      <td>8.3</td>\n",
       "      <td>E</td>\n",
       "    </tr>\n",
       "    <tr>\n",
       "      <td>3</td>\n",
       "      <td>Wii Sports Resort</td>\n",
       "      <td>Wii</td>\n",
       "      <td>2009.0</td>\n",
       "      <td>Sports</td>\n",
       "      <td>15.61</td>\n",
       "      <td>10.93</td>\n",
       "      <td>3.28</td>\n",
       "      <td>2.95</td>\n",
       "      <td>80.0</td>\n",
       "      <td>8</td>\n",
       "      <td>E</td>\n",
       "    </tr>\n",
       "    <tr>\n",
       "      <td>4</td>\n",
       "      <td>Pokemon Red/Pokemon Blue</td>\n",
       "      <td>GB</td>\n",
       "      <td>1996.0</td>\n",
       "      <td>Role-Playing</td>\n",
       "      <td>11.27</td>\n",
       "      <td>8.89</td>\n",
       "      <td>10.22</td>\n",
       "      <td>1.00</td>\n",
       "      <td>NaN</td>\n",
       "      <td>NaN</td>\n",
       "      <td>NaN</td>\n",
       "    </tr>\n",
       "  </tbody>\n",
       "</table>\n",
       "</div>"
      ],
      "text/plain": [
       "                       name platform  year_of_release         genre  na_sales  \\\n",
       "0                Wii Sports      Wii           2006.0        Sports     41.36   \n",
       "1         Super Mario Bros.      NES           1985.0      Platform     29.08   \n",
       "2            Mario Kart Wii      Wii           2008.0        Racing     15.68   \n",
       "3         Wii Sports Resort      Wii           2009.0        Sports     15.61   \n",
       "4  Pokemon Red/Pokemon Blue       GB           1996.0  Role-Playing     11.27   \n",
       "\n",
       "   eu_sales  jp_sales  other_sales  critic_score user_score rating  \n",
       "0     28.96      3.77         8.45          76.0          8      E  \n",
       "1      3.58      6.81         0.77           NaN        NaN    NaN  \n",
       "2     12.76      3.79         3.29          82.0        8.3      E  \n",
       "3     10.93      3.28         2.95          80.0          8      E  \n",
       "4      8.89     10.22         1.00           NaN        NaN    NaN  "
      ]
     },
     "execution_count": 2,
     "metadata": {},
     "output_type": "execute_result"
    }
   ],
   "source": [
    "#First, columns need to be in lower case\n",
    "games = games.rename(columns = {'Name': 'name', 'Platform': 'platform', \n",
    "                                'Year_of_Release': 'year_of_release', 'Genre': 'genre', \n",
    "                                'NA_sales': 'na_sales', 'EU_sales': 'eu_sales', \n",
    "                                'JP_sales': 'jp_sales', 'Other_sales': 'other_sales', \n",
    "                                'Critic_Score': 'critic_score', 'User_Score': 'user_score', \n",
    "                                'Rating': 'rating'})\n",
    "games.head()"
   ]
  },
  {
   "cell_type": "code",
   "execution_count": 3,
   "metadata": {},
   "outputs": [
    {
     "data": {
      "text/html": [
       "<div>\n",
       "<style scoped>\n",
       "    .dataframe tbody tr th:only-of-type {\n",
       "        vertical-align: middle;\n",
       "    }\n",
       "\n",
       "    .dataframe tbody tr th {\n",
       "        vertical-align: top;\n",
       "    }\n",
       "\n",
       "    .dataframe thead th {\n",
       "        text-align: right;\n",
       "    }\n",
       "</style>\n",
       "<table border=\"1\" class=\"dataframe\">\n",
       "  <thead>\n",
       "    <tr style=\"text-align: right;\">\n",
       "      <th></th>\n",
       "      <th>missing_values</th>\n",
       "      <th>% of total</th>\n",
       "    </tr>\n",
       "  </thead>\n",
       "  <tbody>\n",
       "    <tr>\n",
       "      <td>critic_score</td>\n",
       "      <td>8578</td>\n",
       "      <td>0.51</td>\n",
       "    </tr>\n",
       "    <tr>\n",
       "      <td>rating</td>\n",
       "      <td>6766</td>\n",
       "      <td>0.40</td>\n",
       "    </tr>\n",
       "    <tr>\n",
       "      <td>user_score</td>\n",
       "      <td>6701</td>\n",
       "      <td>0.40</td>\n",
       "    </tr>\n",
       "    <tr>\n",
       "      <td>year_of_release</td>\n",
       "      <td>269</td>\n",
       "      <td>0.02</td>\n",
       "    </tr>\n",
       "    <tr>\n",
       "      <td>name</td>\n",
       "      <td>2</td>\n",
       "      <td>0.00</td>\n",
       "    </tr>\n",
       "    <tr>\n",
       "      <td>genre</td>\n",
       "      <td>2</td>\n",
       "      <td>0.00</td>\n",
       "    </tr>\n",
       "    <tr>\n",
       "      <td>platform</td>\n",
       "      <td>0</td>\n",
       "      <td>0.00</td>\n",
       "    </tr>\n",
       "    <tr>\n",
       "      <td>na_sales</td>\n",
       "      <td>0</td>\n",
       "      <td>0.00</td>\n",
       "    </tr>\n",
       "    <tr>\n",
       "      <td>eu_sales</td>\n",
       "      <td>0</td>\n",
       "      <td>0.00</td>\n",
       "    </tr>\n",
       "    <tr>\n",
       "      <td>jp_sales</td>\n",
       "      <td>0</td>\n",
       "      <td>0.00</td>\n",
       "    </tr>\n",
       "    <tr>\n",
       "      <td>other_sales</td>\n",
       "      <td>0</td>\n",
       "      <td>0.00</td>\n",
       "    </tr>\n",
       "  </tbody>\n",
       "</table>\n",
       "</div>"
      ],
      "text/plain": [
       "                 missing_values  % of total\n",
       "critic_score               8578        0.51\n",
       "rating                     6766        0.40\n",
       "user_score                 6701        0.40\n",
       "year_of_release             269        0.02\n",
       "name                          2        0.00\n",
       "genre                         2        0.00\n",
       "platform                      0        0.00\n",
       "na_sales                      0        0.00\n",
       "eu_sales                      0        0.00\n",
       "jp_sales                      0        0.00\n",
       "other_sales                   0        0.00"
      ]
     },
     "execution_count": 3,
     "metadata": {},
     "output_type": "execute_result"
    }
   ],
   "source": [
    "#Convert year_of_release to int64\n",
    "games.isna().mean() * 100\n",
    "\n",
    "report = games.isna().sum().to_frame()\n",
    "report = report.rename(columns = {0: 'missing_values'})\n",
    "report['% of total'] = (report['missing_values'] / games.shape[0]).round(2)\n",
    "report.sort_values(by = 'missing_values', ascending = False)"
   ]
  },
  {
   "cell_type": "markdown",
   "metadata": {},
   "source": [
    "**Conclusion 2.1: Missing Values Report**\n",
    "\n",
    "1) The highest percentage of missing values was critic_score at 51%, more than half\n",
    "\n",
    "2) Other values such as rating and user_score were high as well (both 40%)\n",
    "\n",
    "3) Year_of_release is only 2%, however, these missing missing values need to be filled in to convert to int64 type\n",
    "\n",
    "4) name and genre are negligible.\n",
    "\n",
    "5) Possible reasons for missing values are that the games were not popular enough to receive ratings and year_of_release, the games could be remasters and the name was not clear enough to decipher between the remaster and the original.\n",
    "\n",
    "6) Missing values should be filled in because they effect 50% of the data and the lower percentages will also be filled "
   ]
  },
  {
   "cell_type": "code",
   "execution_count": 4,
   "metadata": {
    "scrolled": true
   },
   "outputs": [
    {
     "name": "stderr",
     "output_type": "stream",
     "text": [
      "/opt/conda/lib/python3.7/site-packages/pandas/core/ops/__init__.py:1115: FutureWarning: elementwise comparison failed; returning scalar instead, but in the future will perform elementwise comparison\n",
      "  result = method(y)\n"
     ]
    },
    {
     "data": {
      "text/plain": [
       "name               0.0\n",
       "platform           0.0\n",
       "year_of_release    0.0\n",
       "genre              0.0\n",
       "na_sales           0.0\n",
       "eu_sales           0.0\n",
       "jp_sales           0.0\n",
       "other_sales        0.0\n",
       "critic_score       0.0\n",
       "user_score         0.0\n",
       "rating             0.0\n",
       "dtype: float64"
      ]
     },
     "metadata": {},
     "output_type": "display_data"
    },
    {
     "data": {
      "text/plain": [
       "name               0.0\n",
       "platform           0.0\n",
       "year_of_release    0.0\n",
       "genre              0.0\n",
       "na_sales           0.0\n",
       "eu_sales           0.0\n",
       "jp_sales           0.0\n",
       "other_sales        0.0\n",
       "critic_score       0.0\n",
       "user_score         0.0\n",
       "rating             0.0\n",
       "dtype: float64"
      ]
     },
     "metadata": {},
     "output_type": "display_data"
    },
    {
     "data": {
      "text/plain": [
       "name               0.0\n",
       "platform           0.0\n",
       "year_of_release    0.0\n",
       "genre              0.0\n",
       "na_sales           0.0\n",
       "eu_sales           0.0\n",
       "jp_sales           0.0\n",
       "other_sales        0.0\n",
       "critic_score       0.0\n",
       "user_score         0.0\n",
       "rating             0.0\n",
       "dtype: float64"
      ]
     },
     "metadata": {},
     "output_type": "display_data"
    }
   ],
   "source": [
    "#Next, checking if any 'None' values exist for categorical data\n",
    "none_values = games[games == 'None'].sum()\n",
    "\n",
    "n_one_values = games[games == 'none'].sum()\n",
    "\n",
    "na_values = games[games == 'NA'].sum()\n",
    "display(none_values, n_one_values, na_values)"
   ]
  },
  {
   "cell_type": "markdown",
   "metadata": {},
   "source": [
    "**Conclusion 2.2: None values in categorical data are non-existent**"
   ]
  },
  {
   "cell_type": "markdown",
   "metadata": {},
   "source": [
    "#### Filling in missing values\n",
    "\n",
    "1) Since there is more than 10% of the data being effected by missing values, using the medians for all the columns is the safest strategy\n"
   ]
  },
  {
   "cell_type": "code",
   "execution_count": 5,
   "metadata": {
    "scrolled": true
   },
   "outputs": [
    {
     "data": {
      "text/html": [
       "<div>\n",
       "<style scoped>\n",
       "    .dataframe tbody tr th:only-of-type {\n",
       "        vertical-align: middle;\n",
       "    }\n",
       "\n",
       "    .dataframe tbody tr th {\n",
       "        vertical-align: top;\n",
       "    }\n",
       "\n",
       "    .dataframe thead th {\n",
       "        text-align: right;\n",
       "    }\n",
       "</style>\n",
       "<table border=\"1\" class=\"dataframe\">\n",
       "  <thead>\n",
       "    <tr style=\"text-align: right;\">\n",
       "      <th></th>\n",
       "      <th>tbd_count</th>\n",
       "      <th>% of total</th>\n",
       "    </tr>\n",
       "  </thead>\n",
       "  <tbody>\n",
       "    <tr>\n",
       "      <td>name</td>\n",
       "      <td>0</td>\n",
       "      <td>0.00</td>\n",
       "    </tr>\n",
       "    <tr>\n",
       "      <td>platform</td>\n",
       "      <td>0</td>\n",
       "      <td>0.00</td>\n",
       "    </tr>\n",
       "    <tr>\n",
       "      <td>year_of_release</td>\n",
       "      <td>0</td>\n",
       "      <td>0.00</td>\n",
       "    </tr>\n",
       "    <tr>\n",
       "      <td>genre</td>\n",
       "      <td>0</td>\n",
       "      <td>0.00</td>\n",
       "    </tr>\n",
       "    <tr>\n",
       "      <td>na_sales</td>\n",
       "      <td>0</td>\n",
       "      <td>0.00</td>\n",
       "    </tr>\n",
       "    <tr>\n",
       "      <td>eu_sales</td>\n",
       "      <td>0</td>\n",
       "      <td>0.00</td>\n",
       "    </tr>\n",
       "    <tr>\n",
       "      <td>jp_sales</td>\n",
       "      <td>0</td>\n",
       "      <td>0.00</td>\n",
       "    </tr>\n",
       "    <tr>\n",
       "      <td>other_sales</td>\n",
       "      <td>0</td>\n",
       "      <td>0.00</td>\n",
       "    </tr>\n",
       "    <tr>\n",
       "      <td>critic_score</td>\n",
       "      <td>0</td>\n",
       "      <td>0.00</td>\n",
       "    </tr>\n",
       "    <tr>\n",
       "      <td>user_score</td>\n",
       "      <td>2424</td>\n",
       "      <td>0.15</td>\n",
       "    </tr>\n",
       "    <tr>\n",
       "      <td>rating</td>\n",
       "      <td>0</td>\n",
       "      <td>0.00</td>\n",
       "    </tr>\n",
       "  </tbody>\n",
       "</table>\n",
       "</div>"
      ],
      "text/plain": [
       "                 tbd_count  % of total\n",
       "name                     0        0.00\n",
       "platform                 0        0.00\n",
       "year_of_release          0        0.00\n",
       "genre                    0        0.00\n",
       "na_sales                 0        0.00\n",
       "eu_sales                 0        0.00\n",
       "jp_sales                 0        0.00\n",
       "other_sales              0        0.00\n",
       "critic_score             0        0.00\n",
       "user_score            2424        0.15\n",
       "rating                   0        0.00"
      ]
     },
     "execution_count": 5,
     "metadata": {},
     "output_type": "execute_result"
    }
   ],
   "source": [
    "tbd_report = games[games == 'tbd'].count().to_frame()\n",
    "tbd_report = tbd_report.rename(columns = {0: 'tbd_count'})\n",
    "tbd_report['% of total'] = (tbd_report['tbd_count'] / games.shape[0]).round(2)\n",
    "\n",
    "tbd_report\n",
    "#tbd effects more than 10% of the data -- median should be used"
   ]
  },
  {
   "cell_type": "markdown",
   "metadata": {},
   "source": [
    "**Conclusion 2.3**\n",
    "\n",
    "1) the amount of tbd's in user_score effects 15% of the data, therefore median should be substitute these values\n",
    "\n",
    "2) to do this, a seperate df without the tbd rows will be used to calculate the median and then this value will then be used to fill in rows with 'tbd' under 'user_score"
   ]
  },
  {
   "cell_type": "code",
   "execution_count": 6,
   "metadata": {
    "scrolled": true
   },
   "outputs": [
    {
     "name": "stdout",
     "output_type": "stream",
     "text": [
      "<class 'pandas.core.frame.DataFrame'>\n",
      "RangeIndex: 16715 entries, 0 to 16714\n",
      "Data columns (total 11 columns):\n",
      "name               16713 non-null object\n",
      "platform           16715 non-null object\n",
      "year_of_release    16446 non-null float64\n",
      "genre              16713 non-null object\n",
      "na_sales           16715 non-null float64\n",
      "eu_sales           16715 non-null float64\n",
      "jp_sales           16715 non-null float64\n",
      "other_sales        16715 non-null float64\n",
      "critic_score       8137 non-null float64\n",
      "user_score         10014 non-null object\n",
      "rating             9949 non-null object\n",
      "dtypes: float64(6), object(5)\n",
      "memory usage: 1.4+ MB\n",
      "<class 'pandas.core.frame.DataFrame'>\n",
      "Int64Index: 14291 entries, 0 to 16714\n",
      "Data columns (total 11 columns):\n",
      "name               14289 non-null object\n",
      "platform           14291 non-null object\n",
      "year_of_release    14070 non-null float64\n",
      "genre              14289 non-null object\n",
      "na_sales           14291 non-null float64\n",
      "eu_sales           14291 non-null float64\n",
      "jp_sales           14291 non-null float64\n",
      "other_sales        14291 non-null float64\n",
      "critic_score       7055 non-null float64\n",
      "user_score         7590 non-null float64\n",
      "rating             7575 non-null object\n",
      "dtypes: float64(7), object(4)\n",
      "memory usage: 1.3+ MB\n"
     ]
    },
    {
     "name": "stderr",
     "output_type": "stream",
     "text": [
      "/opt/conda/lib/python3.7/site-packages/ipykernel_launcher.py:2: SettingWithCopyWarning: \n",
      "A value is trying to be set on a copy of a slice from a DataFrame.\n",
      "Try using .loc[row_indexer,col_indexer] = value instead\n",
      "\n",
      "See the caveats in the documentation: http://pandas.pydata.org/pandas-docs/stable/user_guide/indexing.html#returning-a-view-versus-a-copy\n",
      "  \n"
     ]
    },
    {
     "data": {
      "text/plain": [
       "None"
      ]
     },
     "metadata": {},
     "output_type": "display_data"
    },
    {
     "data": {
      "text/plain": [
       "None"
      ]
     },
     "metadata": {},
     "output_type": "display_data"
    }
   ],
   "source": [
    "no_tbd = games.loc[games['user_score'] != 'tbd']\n",
    "no_tbd['user_score'] = no_tbd['user_score'].astype('float')\n",
    "\n",
    "display(games.info(), no_tbd.info())\n",
    "#rows without 'tbd' were added to no_tbd -- next calculate median"
   ]
  },
  {
   "cell_type": "code",
   "execution_count": 7,
   "metadata": {},
   "outputs": [
    {
     "name": "stderr",
     "output_type": "stream",
     "text": [
      "/opt/conda/lib/python3.7/site-packages/ipykernel_launcher.py:1: SettingWithCopyWarning: \n",
      "A value is trying to be set on a copy of a slice from a DataFrame.\n",
      "Try using .loc[row_indexer,col_indexer] = value instead\n",
      "\n",
      "See the caveats in the documentation: http://pandas.pydata.org/pandas-docs/stable/user_guide/indexing.html#returning-a-view-versus-a-copy\n",
      "  \"\"\"Entry point for launching an IPython kernel.\n"
     ]
    },
    {
     "data": {
      "text/plain": [
       "7.5"
      ]
     },
     "execution_count": 7,
     "metadata": {},
     "output_type": "execute_result"
    }
   ],
   "source": [
    "no_tbd['user_score'] = pd.to_numeric(no_tbd[\"user_score\"], downcast=\"float\")\n",
    "\n",
    "no_tbd['user_score'].median()\n",
    "#7.5 will be the representative value used for 'tbd' in 'user_score'"
   ]
  },
  {
   "cell_type": "code",
   "execution_count": 8,
   "metadata": {},
   "outputs": [
    {
     "name": "stdout",
     "output_type": "stream",
     "text": [
      "<class 'pandas.core.frame.DataFrame'>\n",
      "RangeIndex: 16715 entries, 0 to 16714\n",
      "Data columns (total 11 columns):\n",
      "name               16713 non-null object\n",
      "platform           16715 non-null object\n",
      "year_of_release    16446 non-null float64\n",
      "genre              16713 non-null object\n",
      "na_sales           16715 non-null float64\n",
      "eu_sales           16715 non-null float64\n",
      "jp_sales           16715 non-null float64\n",
      "other_sales        16715 non-null float64\n",
      "critic_score       8137 non-null float64\n",
      "user_score         10014 non-null object\n",
      "rating             9949 non-null object\n",
      "dtypes: float64(6), object(5)\n",
      "memory usage: 1.4+ MB\n"
     ]
    },
    {
     "data": {
      "text/html": [
       "<div>\n",
       "<style scoped>\n",
       "    .dataframe tbody tr th:only-of-type {\n",
       "        vertical-align: middle;\n",
       "    }\n",
       "\n",
       "    .dataframe tbody tr th {\n",
       "        vertical-align: top;\n",
       "    }\n",
       "\n",
       "    .dataframe thead th {\n",
       "        text-align: right;\n",
       "    }\n",
       "</style>\n",
       "<table border=\"1\" class=\"dataframe\">\n",
       "  <thead>\n",
       "    <tr style=\"text-align: right;\">\n",
       "      <th></th>\n",
       "      <th>0</th>\n",
       "    </tr>\n",
       "  </thead>\n",
       "  <tbody>\n",
       "    <tr>\n",
       "      <td>name</td>\n",
       "      <td>0</td>\n",
       "    </tr>\n",
       "    <tr>\n",
       "      <td>platform</td>\n",
       "      <td>0</td>\n",
       "    </tr>\n",
       "    <tr>\n",
       "      <td>year_of_release</td>\n",
       "      <td>0</td>\n",
       "    </tr>\n",
       "    <tr>\n",
       "      <td>genre</td>\n",
       "      <td>0</td>\n",
       "    </tr>\n",
       "    <tr>\n",
       "      <td>na_sales</td>\n",
       "      <td>0</td>\n",
       "    </tr>\n",
       "    <tr>\n",
       "      <td>eu_sales</td>\n",
       "      <td>0</td>\n",
       "    </tr>\n",
       "    <tr>\n",
       "      <td>jp_sales</td>\n",
       "      <td>0</td>\n",
       "    </tr>\n",
       "    <tr>\n",
       "      <td>other_sales</td>\n",
       "      <td>0</td>\n",
       "    </tr>\n",
       "    <tr>\n",
       "      <td>critic_score</td>\n",
       "      <td>0</td>\n",
       "    </tr>\n",
       "    <tr>\n",
       "      <td>user_score</td>\n",
       "      <td>0</td>\n",
       "    </tr>\n",
       "    <tr>\n",
       "      <td>rating</td>\n",
       "      <td>0</td>\n",
       "    </tr>\n",
       "  </tbody>\n",
       "</table>\n",
       "</div>"
      ],
      "text/plain": [
       "                 0\n",
       "name             0\n",
       "platform         0\n",
       "year_of_release  0\n",
       "genre            0\n",
       "na_sales         0\n",
       "eu_sales         0\n",
       "jp_sales         0\n",
       "other_sales      0\n",
       "critic_score     0\n",
       "user_score       0\n",
       "rating           0"
      ]
     },
     "metadata": {},
     "output_type": "display_data"
    },
    {
     "data": {
      "text/plain": [
       "None"
      ]
     },
     "metadata": {},
     "output_type": "display_data"
    }
   ],
   "source": [
    "games.loc[games['user_score'] == 'tbd', 'user_score'] = 7.5\n",
    "\n",
    "tbd_report = games[games == 'tbd'].count().to_frame()\n",
    "display(tbd_report, games.info())\n",
    "#tbd's have been replaced by 7.5\n",
    "#user_score still has str type values in it which need to be fixed"
   ]
  },
  {
   "cell_type": "code",
   "execution_count": 9,
   "metadata": {},
   "outputs": [
    {
     "name": "stdout",
     "output_type": "stream",
     "text": [
      "<class 'pandas.core.frame.DataFrame'>\n",
      "RangeIndex: 16715 entries, 0 to 16714\n",
      "Data columns (total 11 columns):\n",
      "name               16713 non-null object\n",
      "platform           16715 non-null object\n",
      "year_of_release    16446 non-null float64\n",
      "genre              16713 non-null object\n",
      "na_sales           16715 non-null float64\n",
      "eu_sales           16715 non-null float64\n",
      "jp_sales           16715 non-null float64\n",
      "other_sales        16715 non-null float64\n",
      "critic_score       8137 non-null float64\n",
      "user_score         10014 non-null float64\n",
      "rating             9949 non-null object\n",
      "dtypes: float64(7), object(4)\n",
      "memory usage: 1.4+ MB\n"
     ]
    }
   ],
   "source": [
    "#Convert to float using to_numeric for future calculations\n",
    "games['user_score'] = pd.to_numeric(games['user_score'])\n",
    "games.info()"
   ]
  },
  {
   "cell_type": "code",
   "execution_count": 10,
   "metadata": {},
   "outputs": [
    {
     "data": {
      "text/plain": [
       "critic_score         71\n",
       "year_of_release    2007\n",
       "dtype: int64"
      ]
     },
     "execution_count": 10,
     "metadata": {},
     "output_type": "execute_result"
    }
   ],
   "source": [
    "games[['critic_score', 'year_of_release']].median().astype('int')"
   ]
  },
  {
   "cell_type": "code",
   "execution_count": 11,
   "metadata": {},
   "outputs": [
    {
     "data": {
      "text/plain": [
       "name                  2\n",
       "platform              0\n",
       "year_of_release       0\n",
       "genre                 2\n",
       "na_sales              0\n",
       "eu_sales              0\n",
       "jp_sales              0\n",
       "other_sales           0\n",
       "critic_score          0\n",
       "user_score         6701\n",
       "rating             6766\n",
       "dtype: int64"
      ]
     },
     "execution_count": 11,
     "metadata": {},
     "output_type": "execute_result"
    }
   ],
   "source": [
    "games['critic_score'] = games['critic_score'].fillna(66)\n",
    "games['year_of_release'] = games['year_of_release'].fillna(2006)\n",
    "games['year_of_release'] = games['year_of_release'].astype('int') #int for visualization \n",
    "\n",
    "games.isnull().sum()\n",
    "#critic_score and year_of_release are filled, but user_score and rating still need to be filled"
   ]
  },
  {
   "cell_type": "code",
   "execution_count": 12,
   "metadata": {},
   "outputs": [
    {
     "data": {
      "text/plain": [
       "name                  2\n",
       "platform              0\n",
       "year_of_release       0\n",
       "genre                 2\n",
       "na_sales              0\n",
       "eu_sales              0\n",
       "jp_sales              0\n",
       "other_sales           0\n",
       "critic_score          0\n",
       "user_score            0\n",
       "rating             6766\n",
       "dtype: int64"
      ]
     },
     "execution_count": 12,
     "metadata": {},
     "output_type": "execute_result"
    }
   ],
   "source": [
    "#filling in the median of 7.5 for user_score\n",
    "games['user_score'] = games['user_score'].fillna(7.5)\n",
    "games.isnull().sum()"
   ]
  },
  {
   "cell_type": "code",
   "execution_count": 13,
   "metadata": {},
   "outputs": [
    {
     "data": {
      "text/plain": [
       "E       3990\n",
       "T       2961\n",
       "M       1563\n",
       "E10+    1420\n",
       "EC         8\n",
       "RP         3\n",
       "K-A        3\n",
       "AO         1\n",
       "Name: rating, dtype: int64"
      ]
     },
     "execution_count": 13,
     "metadata": {},
     "output_type": "execute_result"
    }
   ],
   "source": [
    "#Since 'rating' is categorical, the most frequent value will be used for missing values\n",
    "games['rating'].value_counts()"
   ]
  },
  {
   "cell_type": "code",
   "execution_count": 14,
   "metadata": {},
   "outputs": [
    {
     "data": {
      "text/plain": [
       "name               2\n",
       "platform           0\n",
       "year_of_release    0\n",
       "genre              2\n",
       "na_sales           0\n",
       "eu_sales           0\n",
       "jp_sales           0\n",
       "other_sales        0\n",
       "critic_score       0\n",
       "user_score         0\n",
       "rating             0\n",
       "dtype: int64"
      ]
     },
     "execution_count": 14,
     "metadata": {},
     "output_type": "execute_result"
    }
   ],
   "source": [
    "games['rating'] = games['rating'].fillna('E')\n",
    "games.isnull().sum()"
   ]
  },
  {
   "cell_type": "code",
   "execution_count": 50,
   "metadata": {},
   "outputs": [
    {
     "data": {
      "text/plain": [
       "name               0\n",
       "platform           0\n",
       "year_of_release    0\n",
       "genre              0\n",
       "na_sales           0\n",
       "eu_sales           0\n",
       "jp_sales           0\n",
       "other_sales        0\n",
       "critic_score       0\n",
       "user_score         0\n",
       "rating             0\n",
       "total_sales        0\n",
       "dtype: int64"
      ]
     },
     "execution_count": 50,
     "metadata": {},
     "output_type": "execute_result"
    }
   ],
   "source": [
    "#Deleting rows with missing values for 'name' and 'genre' as 'N/A' \n",
    "games = games.dropna()\n",
    "games.isnull().sum()"
   ]
  },
  {
   "cell_type": "code",
   "execution_count": 16,
   "metadata": {
    "scrolled": true
   },
   "outputs": [
    {
     "data": {
      "text/html": [
       "<div>\n",
       "<style scoped>\n",
       "    .dataframe tbody tr th:only-of-type {\n",
       "        vertical-align: middle;\n",
       "    }\n",
       "\n",
       "    .dataframe tbody tr th {\n",
       "        vertical-align: top;\n",
       "    }\n",
       "\n",
       "    .dataframe thead th {\n",
       "        text-align: right;\n",
       "    }\n",
       "</style>\n",
       "<table border=\"1\" class=\"dataframe\">\n",
       "  <thead>\n",
       "    <tr style=\"text-align: right;\">\n",
       "      <th></th>\n",
       "      <th>name</th>\n",
       "      <th>platform</th>\n",
       "      <th>year_of_release</th>\n",
       "      <th>genre</th>\n",
       "      <th>na_sales</th>\n",
       "      <th>eu_sales</th>\n",
       "      <th>jp_sales</th>\n",
       "      <th>other_sales</th>\n",
       "      <th>critic_score</th>\n",
       "      <th>user_score</th>\n",
       "      <th>rating</th>\n",
       "      <th>total_sales</th>\n",
       "    </tr>\n",
       "  </thead>\n",
       "  <tbody>\n",
       "    <tr>\n",
       "      <td>0</td>\n",
       "      <td>Wii Sports</td>\n",
       "      <td>Wii</td>\n",
       "      <td>2006</td>\n",
       "      <td>Sports</td>\n",
       "      <td>41.36</td>\n",
       "      <td>28.96</td>\n",
       "      <td>3.77</td>\n",
       "      <td>8.45</td>\n",
       "      <td>76.0</td>\n",
       "      <td>8.0</td>\n",
       "      <td>E</td>\n",
       "      <td>82.54</td>\n",
       "    </tr>\n",
       "    <tr>\n",
       "      <td>1</td>\n",
       "      <td>Super Mario Bros.</td>\n",
       "      <td>NES</td>\n",
       "      <td>1985</td>\n",
       "      <td>Platform</td>\n",
       "      <td>29.08</td>\n",
       "      <td>3.58</td>\n",
       "      <td>6.81</td>\n",
       "      <td>0.77</td>\n",
       "      <td>66.0</td>\n",
       "      <td>7.5</td>\n",
       "      <td>E</td>\n",
       "      <td>40.24</td>\n",
       "    </tr>\n",
       "    <tr>\n",
       "      <td>2</td>\n",
       "      <td>Mario Kart Wii</td>\n",
       "      <td>Wii</td>\n",
       "      <td>2008</td>\n",
       "      <td>Racing</td>\n",
       "      <td>15.68</td>\n",
       "      <td>12.76</td>\n",
       "      <td>3.79</td>\n",
       "      <td>3.29</td>\n",
       "      <td>82.0</td>\n",
       "      <td>8.3</td>\n",
       "      <td>E</td>\n",
       "      <td>35.52</td>\n",
       "    </tr>\n",
       "    <tr>\n",
       "      <td>3</td>\n",
       "      <td>Wii Sports Resort</td>\n",
       "      <td>Wii</td>\n",
       "      <td>2009</td>\n",
       "      <td>Sports</td>\n",
       "      <td>15.61</td>\n",
       "      <td>10.93</td>\n",
       "      <td>3.28</td>\n",
       "      <td>2.95</td>\n",
       "      <td>80.0</td>\n",
       "      <td>8.0</td>\n",
       "      <td>E</td>\n",
       "      <td>32.77</td>\n",
       "    </tr>\n",
       "    <tr>\n",
       "      <td>4</td>\n",
       "      <td>Pokemon Red/Pokemon Blue</td>\n",
       "      <td>GB</td>\n",
       "      <td>1996</td>\n",
       "      <td>Role-Playing</td>\n",
       "      <td>11.27</td>\n",
       "      <td>8.89</td>\n",
       "      <td>10.22</td>\n",
       "      <td>1.00</td>\n",
       "      <td>66.0</td>\n",
       "      <td>7.5</td>\n",
       "      <td>E</td>\n",
       "      <td>31.38</td>\n",
       "    </tr>\n",
       "    <tr>\n",
       "      <td>5</td>\n",
       "      <td>Tetris</td>\n",
       "      <td>GB</td>\n",
       "      <td>1989</td>\n",
       "      <td>Puzzle</td>\n",
       "      <td>23.20</td>\n",
       "      <td>2.26</td>\n",
       "      <td>4.22</td>\n",
       "      <td>0.58</td>\n",
       "      <td>66.0</td>\n",
       "      <td>7.5</td>\n",
       "      <td>E</td>\n",
       "      <td>30.26</td>\n",
       "    </tr>\n",
       "    <tr>\n",
       "      <td>6</td>\n",
       "      <td>New Super Mario Bros.</td>\n",
       "      <td>DS</td>\n",
       "      <td>2006</td>\n",
       "      <td>Platform</td>\n",
       "      <td>11.28</td>\n",
       "      <td>9.14</td>\n",
       "      <td>6.50</td>\n",
       "      <td>2.88</td>\n",
       "      <td>89.0</td>\n",
       "      <td>8.5</td>\n",
       "      <td>E</td>\n",
       "      <td>29.80</td>\n",
       "    </tr>\n",
       "    <tr>\n",
       "      <td>7</td>\n",
       "      <td>Wii Play</td>\n",
       "      <td>Wii</td>\n",
       "      <td>2006</td>\n",
       "      <td>Misc</td>\n",
       "      <td>13.96</td>\n",
       "      <td>9.18</td>\n",
       "      <td>2.93</td>\n",
       "      <td>2.84</td>\n",
       "      <td>58.0</td>\n",
       "      <td>6.6</td>\n",
       "      <td>E</td>\n",
       "      <td>28.91</td>\n",
       "    </tr>\n",
       "    <tr>\n",
       "      <td>8</td>\n",
       "      <td>New Super Mario Bros. Wii</td>\n",
       "      <td>Wii</td>\n",
       "      <td>2009</td>\n",
       "      <td>Platform</td>\n",
       "      <td>14.44</td>\n",
       "      <td>6.94</td>\n",
       "      <td>4.70</td>\n",
       "      <td>2.24</td>\n",
       "      <td>87.0</td>\n",
       "      <td>8.4</td>\n",
       "      <td>E</td>\n",
       "      <td>28.32</td>\n",
       "    </tr>\n",
       "    <tr>\n",
       "      <td>9</td>\n",
       "      <td>Duck Hunt</td>\n",
       "      <td>NES</td>\n",
       "      <td>1984</td>\n",
       "      <td>Shooter</td>\n",
       "      <td>26.93</td>\n",
       "      <td>0.63</td>\n",
       "      <td>0.28</td>\n",
       "      <td>0.47</td>\n",
       "      <td>66.0</td>\n",
       "      <td>7.5</td>\n",
       "      <td>E</td>\n",
       "      <td>28.31</td>\n",
       "    </tr>\n",
       "  </tbody>\n",
       "</table>\n",
       "</div>"
      ],
      "text/plain": [
       "                        name platform  year_of_release         genre  \\\n",
       "0                 Wii Sports      Wii             2006        Sports   \n",
       "1          Super Mario Bros.      NES             1985      Platform   \n",
       "2             Mario Kart Wii      Wii             2008        Racing   \n",
       "3          Wii Sports Resort      Wii             2009        Sports   \n",
       "4   Pokemon Red/Pokemon Blue       GB             1996  Role-Playing   \n",
       "5                     Tetris       GB             1989        Puzzle   \n",
       "6      New Super Mario Bros.       DS             2006      Platform   \n",
       "7                   Wii Play      Wii             2006          Misc   \n",
       "8  New Super Mario Bros. Wii      Wii             2009      Platform   \n",
       "9                  Duck Hunt      NES             1984       Shooter   \n",
       "\n",
       "   na_sales  eu_sales  jp_sales  other_sales  critic_score  user_score rating  \\\n",
       "0     41.36     28.96      3.77         8.45          76.0         8.0      E   \n",
       "1     29.08      3.58      6.81         0.77          66.0         7.5      E   \n",
       "2     15.68     12.76      3.79         3.29          82.0         8.3      E   \n",
       "3     15.61     10.93      3.28         2.95          80.0         8.0      E   \n",
       "4     11.27      8.89     10.22         1.00          66.0         7.5      E   \n",
       "5     23.20      2.26      4.22         0.58          66.0         7.5      E   \n",
       "6     11.28      9.14      6.50         2.88          89.0         8.5      E   \n",
       "7     13.96      9.18      2.93         2.84          58.0         6.6      E   \n",
       "8     14.44      6.94      4.70         2.24          87.0         8.4      E   \n",
       "9     26.93      0.63      0.28         0.47          66.0         7.5      E   \n",
       "\n",
       "   total_sales  \n",
       "0        82.54  \n",
       "1        40.24  \n",
       "2        35.52  \n",
       "3        32.77  \n",
       "4        31.38  \n",
       "5        30.26  \n",
       "6        29.80  \n",
       "7        28.91  \n",
       "8        28.32  \n",
       "9        28.31  "
      ]
     },
     "execution_count": 16,
     "metadata": {},
     "output_type": "execute_result"
    }
   ],
   "source": [
    "#Calculating total sales for each game\n",
    "\n",
    "games['total_sales'] = (games['na_sales'] + games['eu_sales'] + games['jp_sales'] + \n",
    "                       games['other_sales'])\n",
    "games.head(10)"
   ]
  },
  {
   "cell_type": "code",
   "execution_count": 17,
   "metadata": {},
   "outputs": [
    {
     "data": {
      "text/plain": [
       "0"
      ]
     },
     "execution_count": 17,
     "metadata": {},
     "output_type": "execute_result"
    }
   ],
   "source": [
    "#checking for duplicates\n",
    "games.duplicated().sum()"
   ]
  },
  {
   "cell_type": "markdown",
   "metadata": {},
   "source": [
    "### Conclusion\n",
    "\n",
    "1) Columns were changed to all lowercase and there were 0 'None' values in categorical variables\n",
    "\n",
    "2) The missing values report concluded that since the missing data effected nearly half of the data, medians would be used as the representative value to fill in the data\n",
    "\n",
    "3) Some games were pending user_score, these values were replaced using the median value found from rows that were not pending (7.5)\n",
    "\n",
    "4) Rating missing values were replaced with the most common value (mode, E)\n",
    "\n",
    "5) Names and genre were replaced with a string \"N/A\" to avoid any complications with data manipulation due to null values\n",
    "\n",
    "7) The total sales was added to the datafrom calculated from the sum of all sales categories\n",
    "\n",
    "8) No duplicated rows exist in the dataframe\n",
    "\n",
    "9) The data is now ready for exploratory analysis"
   ]
  },
  {
   "cell_type": "markdown",
   "metadata": {},
   "source": [
    "## Analyze the data"
   ]
  },
  {
   "cell_type": "markdown",
   "metadata": {},
   "source": [
    "#### Looking at the number of games released in different years"
   ]
  },
  {
   "cell_type": "code",
   "execution_count": 18,
   "metadata": {},
   "outputs": [
    {
     "data": {
      "text/plain": [
       "<function matplotlib.pyplot.show(*args, **kw)>"
      ]
     },
     "execution_count": 18,
     "metadata": {},
     "output_type": "execute_result"
    },
    {
     "data": {
      "image/png": "[encoded data removed]",
      "text/plain": [
       "<Figure size 432x288 with 1 Axes>"
      ]
     },
     "metadata": {
      "needs_background": "light"
     },
     "output_type": "display_data"
    }
   ],
   "source": [
    "import matplotlib.pyplot as plt\n",
    "\n",
    "ax = games.plot(kind='hist', y='year_of_release', grid=True, bins=15)\n",
    "ax.set_ylabel('Number of Games Released')\n",
    "ax.set_xlabel('Year of Release')\n",
    "ax.set_title('Games Released from 1980 to 2015')\n",
    "plt.show"
   ]
  },
  {
   "cell_type": "markdown",
   "metadata": {},
   "source": [
    "**Conclusion 3.1**\n",
    "\n",
    "1) The histogram shows that games were released at an increasing rate until 2010 -- this could be explained if developers chose to focus on the quality of the games rather than how many come out. During this time, DLC content became more populare and increased the longevity of games"
   ]
  },
  {
   "cell_type": "markdown",
   "metadata": {},
   "source": [
    "#### Look at how sales varied from platform to platform. Choose the platforms with the greatest total sales and build a distribution based on data for each year. Find platforms that used to be popular but now have zero sales. How long does it generally take for new platforms to appear and old ones to fade?\n"
   ]
  },
  {
   "cell_type": "code",
   "execution_count": 19,
   "metadata": {
    "scrolled": true
   },
   "outputs": [
    {
     "data": {
      "text/plain": [
       "platform\n",
       "PS2     1255.77\n",
       "X360     971.42\n",
       "PS3      939.65\n",
       "Wii      907.51\n",
       "DS       806.12\n",
       "PS       730.86\n",
       "GBA      317.85\n",
       "PS4      314.14\n",
       "PSP      294.05\n",
       "PC       259.52\n",
       "3DS      259.00\n",
       "XB       257.74\n",
       "GB       255.46\n",
       "NES      251.05\n",
       "N64      218.68\n",
       "SNES     200.04\n",
       "GC       198.93\n",
       "XOne     159.32\n",
       "2600      96.98\n",
       "WiiU      82.19\n",
       "PSV       54.07\n",
       "SAT       33.59\n",
       "GEN       30.77\n",
       "DC        15.95\n",
       "SCD        1.86\n",
       "NG         1.44\n",
       "WS         1.42\n",
       "TG16       0.16\n",
       "3DO        0.10\n",
       "GG         0.04\n",
       "PCFX       0.03\n",
       "Name: total_sales, dtype: float64"
      ]
     },
     "execution_count": 19,
     "metadata": {},
     "output_type": "execute_result"
    }
   ],
   "source": [
    "platform_sales = games.groupby('platform')['total_sales'].sum().sort_values(ascending=False)\n",
    "platform_sales\n",
    "#the platforms with the greatest total sales are PS2, X360, PS3, WII, DS, and PS"
   ]
  },
  {
   "cell_type": "code",
   "execution_count": 20,
   "metadata": {
    "scrolled": true
   },
   "outputs": [
    {
     "data": {
      "text/html": [
       "<div>\n",
       "<style scoped>\n",
       "    .dataframe tbody tr th:only-of-type {\n",
       "        vertical-align: middle;\n",
       "    }\n",
       "\n",
       "    .dataframe tbody tr th {\n",
       "        vertical-align: top;\n",
       "    }\n",
       "\n",
       "    .dataframe thead th {\n",
       "        text-align: right;\n",
       "    }\n",
       "</style>\n",
       "<table border=\"1\" class=\"dataframe\">\n",
       "  <thead>\n",
       "    <tr style=\"text-align: right;\">\n",
       "      <th></th>\n",
       "      <th>name</th>\n",
       "      <th>platform</th>\n",
       "      <th>year_of_release</th>\n",
       "      <th>genre</th>\n",
       "      <th>na_sales</th>\n",
       "      <th>eu_sales</th>\n",
       "      <th>jp_sales</th>\n",
       "      <th>other_sales</th>\n",
       "      <th>critic_score</th>\n",
       "      <th>user_score</th>\n",
       "      <th>rating</th>\n",
       "      <th>total_sales</th>\n",
       "    </tr>\n",
       "  </thead>\n",
       "  <tbody>\n",
       "    <tr>\n",
       "      <td>0</td>\n",
       "      <td>Wii Sports</td>\n",
       "      <td>Wii</td>\n",
       "      <td>2006</td>\n",
       "      <td>Sports</td>\n",
       "      <td>41.36</td>\n",
       "      <td>28.96</td>\n",
       "      <td>3.77</td>\n",
       "      <td>8.45</td>\n",
       "      <td>76.0</td>\n",
       "      <td>8.0</td>\n",
       "      <td>E</td>\n",
       "      <td>82.54</td>\n",
       "    </tr>\n",
       "    <tr>\n",
       "      <td>2</td>\n",
       "      <td>Mario Kart Wii</td>\n",
       "      <td>Wii</td>\n",
       "      <td>2008</td>\n",
       "      <td>Racing</td>\n",
       "      <td>15.68</td>\n",
       "      <td>12.76</td>\n",
       "      <td>3.79</td>\n",
       "      <td>3.29</td>\n",
       "      <td>82.0</td>\n",
       "      <td>8.3</td>\n",
       "      <td>E</td>\n",
       "      <td>35.52</td>\n",
       "    </tr>\n",
       "    <tr>\n",
       "      <td>3</td>\n",
       "      <td>Wii Sports Resort</td>\n",
       "      <td>Wii</td>\n",
       "      <td>2009</td>\n",
       "      <td>Sports</td>\n",
       "      <td>15.61</td>\n",
       "      <td>10.93</td>\n",
       "      <td>3.28</td>\n",
       "      <td>2.95</td>\n",
       "      <td>80.0</td>\n",
       "      <td>8.0</td>\n",
       "      <td>E</td>\n",
       "      <td>32.77</td>\n",
       "    </tr>\n",
       "    <tr>\n",
       "      <td>6</td>\n",
       "      <td>New Super Mario Bros.</td>\n",
       "      <td>DS</td>\n",
       "      <td>2006</td>\n",
       "      <td>Platform</td>\n",
       "      <td>11.28</td>\n",
       "      <td>9.14</td>\n",
       "      <td>6.50</td>\n",
       "      <td>2.88</td>\n",
       "      <td>89.0</td>\n",
       "      <td>8.5</td>\n",
       "      <td>E</td>\n",
       "      <td>29.80</td>\n",
       "    </tr>\n",
       "    <tr>\n",
       "      <td>7</td>\n",
       "      <td>Wii Play</td>\n",
       "      <td>Wii</td>\n",
       "      <td>2006</td>\n",
       "      <td>Misc</td>\n",
       "      <td>13.96</td>\n",
       "      <td>9.18</td>\n",
       "      <td>2.93</td>\n",
       "      <td>2.84</td>\n",
       "      <td>58.0</td>\n",
       "      <td>6.6</td>\n",
       "      <td>E</td>\n",
       "      <td>28.91</td>\n",
       "    </tr>\n",
       "    <tr>\n",
       "      <td>8</td>\n",
       "      <td>New Super Mario Bros. Wii</td>\n",
       "      <td>Wii</td>\n",
       "      <td>2009</td>\n",
       "      <td>Platform</td>\n",
       "      <td>14.44</td>\n",
       "      <td>6.94</td>\n",
       "      <td>4.70</td>\n",
       "      <td>2.24</td>\n",
       "      <td>87.0</td>\n",
       "      <td>8.4</td>\n",
       "      <td>E</td>\n",
       "      <td>28.32</td>\n",
       "    </tr>\n",
       "    <tr>\n",
       "      <td>10</td>\n",
       "      <td>Nintendogs</td>\n",
       "      <td>DS</td>\n",
       "      <td>2005</td>\n",
       "      <td>Simulation</td>\n",
       "      <td>9.05</td>\n",
       "      <td>10.95</td>\n",
       "      <td>1.93</td>\n",
       "      <td>2.74</td>\n",
       "      <td>66.0</td>\n",
       "      <td>7.5</td>\n",
       "      <td>E</td>\n",
       "      <td>24.67</td>\n",
       "    </tr>\n",
       "    <tr>\n",
       "      <td>11</td>\n",
       "      <td>Mario Kart DS</td>\n",
       "      <td>DS</td>\n",
       "      <td>2005</td>\n",
       "      <td>Racing</td>\n",
       "      <td>9.71</td>\n",
       "      <td>7.47</td>\n",
       "      <td>4.13</td>\n",
       "      <td>1.90</td>\n",
       "      <td>91.0</td>\n",
       "      <td>8.6</td>\n",
       "      <td>E</td>\n",
       "      <td>23.21</td>\n",
       "    </tr>\n",
       "    <tr>\n",
       "      <td>13</td>\n",
       "      <td>Wii Fit</td>\n",
       "      <td>Wii</td>\n",
       "      <td>2007</td>\n",
       "      <td>Sports</td>\n",
       "      <td>8.92</td>\n",
       "      <td>8.03</td>\n",
       "      <td>3.60</td>\n",
       "      <td>2.15</td>\n",
       "      <td>80.0</td>\n",
       "      <td>7.7</td>\n",
       "      <td>E</td>\n",
       "      <td>22.70</td>\n",
       "    </tr>\n",
       "    <tr>\n",
       "      <td>14</td>\n",
       "      <td>Kinect Adventures!</td>\n",
       "      <td>X360</td>\n",
       "      <td>2010</td>\n",
       "      <td>Misc</td>\n",
       "      <td>15.00</td>\n",
       "      <td>4.89</td>\n",
       "      <td>0.24</td>\n",
       "      <td>1.69</td>\n",
       "      <td>61.0</td>\n",
       "      <td>6.3</td>\n",
       "      <td>E</td>\n",
       "      <td>21.82</td>\n",
       "    </tr>\n",
       "  </tbody>\n",
       "</table>\n",
       "</div>"
      ],
      "text/plain": [
       "                         name platform  year_of_release       genre  na_sales  \\\n",
       "0                  Wii Sports      Wii             2006      Sports     41.36   \n",
       "2              Mario Kart Wii      Wii             2008      Racing     15.68   \n",
       "3           Wii Sports Resort      Wii             2009      Sports     15.61   \n",
       "6       New Super Mario Bros.       DS             2006    Platform     11.28   \n",
       "7                    Wii Play      Wii             2006        Misc     13.96   \n",
       "8   New Super Mario Bros. Wii      Wii             2009    Platform     14.44   \n",
       "10                 Nintendogs       DS             2005  Simulation      9.05   \n",
       "11              Mario Kart DS       DS             2005      Racing      9.71   \n",
       "13                    Wii Fit      Wii             2007      Sports      8.92   \n",
       "14         Kinect Adventures!     X360             2010        Misc     15.00   \n",
       "\n",
       "    eu_sales  jp_sales  other_sales  critic_score  user_score rating  \\\n",
       "0      28.96      3.77         8.45          76.0         8.0      E   \n",
       "2      12.76      3.79         3.29          82.0         8.3      E   \n",
       "3      10.93      3.28         2.95          80.0         8.0      E   \n",
       "6       9.14      6.50         2.88          89.0         8.5      E   \n",
       "7       9.18      2.93         2.84          58.0         6.6      E   \n",
       "8       6.94      4.70         2.24          87.0         8.4      E   \n",
       "10     10.95      1.93         2.74          66.0         7.5      E   \n",
       "11      7.47      4.13         1.90          91.0         8.6      E   \n",
       "13      8.03      3.60         2.15          80.0         7.7      E   \n",
       "14      4.89      0.24         1.69          61.0         6.3      E   \n",
       "\n",
       "    total_sales  \n",
       "0         82.54  \n",
       "2         35.52  \n",
       "3         32.77  \n",
       "6         29.80  \n",
       "7         28.91  \n",
       "8         28.32  \n",
       "10        24.67  \n",
       "11        23.21  \n",
       "13        22.70  \n",
       "14        21.82  "
      ]
     },
     "execution_count": 20,
     "metadata": {},
     "output_type": "execute_result"
    }
   ],
   "source": [
    "#Next, create the df with only the top 5\n",
    "\n",
    "top_platforms = games[(games['platform'].isin(['PS2', 'X360', 'PS3', 'Wii', 'DS', 'PS']))]\n",
    "\n",
    "top_platforms.head(10)"
   ]
  },
  {
   "cell_type": "code",
   "execution_count": 21,
   "metadata": {},
   "outputs": [
    {
     "data": {
      "image/png": "[encoded data removed]",
      "text/plain": [
       "<Figure size 648x432 with 1 Axes>"
      ]
     },
     "metadata": {
      "needs_background": "light"
     },
     "output_type": "display_data"
    }
   ],
   "source": [
    "#pivot table to organize the data for the distribution\n",
    "top_plat_pivot = top_platforms.pivot_table(index = 'year_of_release', \n",
    "                                           columns = 'platform', \n",
    "                                          values = 'total_sales',\n",
    "                                          aggfunc = 'count')\n",
    "\n",
    "\n",
    "ax = top_plat_pivot.plot(kind='line', figsize=(9,6), grid=True)\n",
    "ax.set_ylabel('Number of sales')\n",
    "ax.set_xlabel('Year of release')\n",
    "ax.set_xlim(1993, 2016)\n",
    "ax.set_title('Top 5 All-Time Platform Sales')\n",
    "\n",
    "plt.show()"
   ]
  },
  {
   "cell_type": "markdown",
   "metadata": {},
   "source": [
    "**Conclusion 3.2: Top 5 platform sale lifespan**\n",
    "\n",
    "1) The graph shows that it takes about 5 years for a new platform to appear and 10 years for one to die out in sales\n",
    "\n",
    "2) The platforms with the highest amount numer of sales in a given year were the DS and the Wii. Both came out at the same time and had a shorter lifespan compared to PS2\n",
    "\n",
    "3) The Xbox 360 had a similar lifespan as the PS2 at about 10 years but had less game sale revenue and was introduced later than the PS2. This could be explained by games having longer lifespans through the newer concept of paid DLC, where a player does not need to keep purchasing new games to keep enjoying the console\n",
    "\n",
    "4) A platform generally appears to be most profitable during the middle of its' lifespan"
   ]
  },
  {
   "cell_type": "markdown",
   "metadata": {},
   "source": [
    "#### Determine what period you should take data for. To do so, look at your answers to the previous questions. The data should allow you to build a prognosis for 2017.\n",
    "\n",
    "1) Since the goal is to build a forecast for bestselling games in 2017, the period of time that should be analyzed should be current\n",
    "\n",
    "2) According to sales lifespan chart:\n",
    "\n",
    "-platforms generally appear every 5 years\n",
    "\n",
    "-platforms die every 10 years\n",
    "\n",
    "-they are most profitable after about 5 years since the platform has been released\n",
    "\n",
    "3) The key period for analyzing data are games released in the last **5 years** where certain platforms may be in their prime or are trending upwards toward their prime (PS4, xbox one, 3DS, WiiU, PC) -- these platforms were chosen since they came out recently in the last 5 years -- PC has been relevant for a long time so it is kept in"
   ]
  },
  {
   "cell_type": "markdown",
   "metadata": {},
   "source": [
    "#### Disregard the data for previous years."
   ]
  },
  {
   "cell_type": "code",
   "execution_count": 22,
   "metadata": {},
   "outputs": [
    {
     "data": {
      "text/plain": [
       "PS3     493\n",
       "PSV     411\n",
       "3DS     396\n",
       "PS4     392\n",
       "X360    292\n",
       "PC      250\n",
       "XOne    247\n",
       "PSP     173\n",
       "WiiU    147\n",
       "Wii      54\n",
       "DS       31\n",
       "Name: platform, dtype: int64"
      ]
     },
     "execution_count": 22,
     "metadata": {},
     "output_type": "execute_result"
    }
   ],
   "source": [
    "games_5years = games.query('year_of_release in (\"2012\", \"2013\", \"2014\", \"2015\", \"2016\")')\n",
    "\n",
    "games_5years['platform'].value_counts()"
   ]
  },
  {
   "cell_type": "markdown",
   "metadata": {},
   "source": [
    "#### Which platforms are leading in sales? Which ones are growing or shrinking? Select several potentially profitable platforms."
   ]
  },
  {
   "cell_type": "code",
   "execution_count": 23,
   "metadata": {},
   "outputs": [
    {
     "name": "stdout",
     "output_type": "stream",
     "text": [
      "<class 'pandas.core.frame.DataFrame'>\n",
      "Int64Index: 2336 entries, 16 to 16714\n",
      "Data columns (total 12 columns):\n",
      "name               2336 non-null object\n",
      "platform           2336 non-null object\n",
      "year_of_release    2336 non-null int64\n",
      "genre              2336 non-null object\n",
      "na_sales           2336 non-null float64\n",
      "eu_sales           2336 non-null float64\n",
      "jp_sales           2336 non-null float64\n",
      "other_sales        2336 non-null float64\n",
      "critic_score       2336 non-null float64\n",
      "user_score         2336 non-null float64\n",
      "rating             2336 non-null object\n",
      "total_sales        2336 non-null float64\n",
      "dtypes: float64(7), int64(1), object(4)\n",
      "memory usage: 237.2+ KB\n"
     ]
    },
    {
     "data": {
      "text/plain": [
       "PS3     493\n",
       "PSV     411\n",
       "3DS     396\n",
       "PS4     392\n",
       "PC      250\n",
       "XOne    247\n",
       "WiiU    147\n",
       "Name: platform, dtype: int64"
      ]
     },
     "metadata": {},
     "output_type": "display_data"
    },
    {
     "data": {
      "text/plain": [
       "None"
      ]
     },
     "metadata": {},
     "output_type": "display_data"
    }
   ],
   "source": [
    "#first filter for the most potentially profitable platforms (PS4, xbox one, 3DS, WiiU, PC)\n",
    "#PSV and PS3 are added in since they have the highest sales among all platforms in the last \n",
    "#5 years\n",
    "\n",
    "top_5yr = games_5years[(games_5years['platform'].isin(['PS4', 'XOne', '3DS', \n",
    "                                                       'WiiU', 'PC', 'PS3', 'PSV']))]\n",
    "\n",
    "display(top_5yr['platform'].value_counts(), top_5yr.info())"
   ]
  },
  {
   "cell_type": "code",
   "execution_count": 24,
   "metadata": {},
   "outputs": [
    {
     "data": {
      "image/png": "[encoded data removed]",
      "text/plain": [
       "<Figure size 648x432 with 1 Axes>"
      ]
     },
     "metadata": {
      "needs_background": "light"
     },
     "output_type": "display_data"
    }
   ],
   "source": [
    "#Next, pivot the data and make a graph\n",
    "#pivot table to organize the data for the distribution\n",
    "\n",
    "top_5yr_pivot = top_5yr.pivot_table(index = 'year_of_release',\n",
    "                                   columns = 'platform',\n",
    "                                   values = 'total_sales',\n",
    "                                   aggfunc = 'count')\n",
    "\n",
    "ax = top_5yr_pivot.plot(kind='line', figsize=(9,6), grid=True)\n",
    "ax.set_ylabel('Total Revenue from Sales')\n",
    "ax.set_xlabel('Year of release')\n",
    "ax.set_title('5 Year Top Platform Sales')\n",
    "plt.show()"
   ]
  },
  {
   "cell_type": "markdown",
   "metadata": {},
   "source": [
    "**Conclusion 3.3: 5 Year Top Platform Sales**\n",
    "\n",
    "1) The platforms that are currently at their prime or reaching them are the PS4 and XOne, with PS4 outperforming XOne doubling them in sales (160mil vs. 90mil)\n",
    "\n",
    "2) PC games saw a dip initially in 2012, but rebounded after 2 years and is steadily gaining in sales \n",
    "\n",
    "3) The consoles that are on a downward slope for sales are the PSV, WiiU, 3DS, and PS3. It is no surprise that the PS3 is declining since its' next gen relative is replacing it.\n",
    "\n",
    "4) In regards to the WiiU, it is the worst peforming platform. It is expected that the newer console would begin to beat its' predecesor, the 3DS in sales, but even as the 3DS declines in sales at 2015, it still beats the WiiU in games sold.\n",
    "\n"
   ]
  },
  {
   "cell_type": "markdown",
   "metadata": {},
   "source": [
    "#### Build a box plot for the global sales of all games, broken down by platform. Are the differences in sales significant? What about average sales on various platforms? Describe your findings."
   ]
  },
  {
   "cell_type": "code",
   "execution_count": 25,
   "metadata": {},
   "outputs": [
    {
     "name": "stderr",
     "output_type": "stream",
     "text": [
      "/opt/conda/lib/python3.7/site-packages/numpy/core/_asarray.py:83: VisibleDeprecationWarning: Creating an ndarray from ragged nested sequences (which is a list-or-tuple of lists-or-tuples-or ndarrays with different lengths or shapes) is deprecated. If you meant to do this, you must specify 'dtype=object' when creating the ndarray\n",
      "  return array(a, dtype, copy=False, order=order)\n"
     ]
    },
    {
     "data": {
      "image/png": "[encoded data removed]",
      "text/plain": [
       "<Figure size 648x432 with 1 Axes>"
      ]
     },
     "metadata": {
      "needs_background": "light"
     },
     "output_type": "display_data"
    },
    {
     "data": {
      "text/html": [
       "<div>\n",
       "<style scoped>\n",
       "    .dataframe tbody tr th:only-of-type {\n",
       "        vertical-align: middle;\n",
       "    }\n",
       "\n",
       "    .dataframe tbody tr th {\n",
       "        vertical-align: top;\n",
       "    }\n",
       "\n",
       "    .dataframe thead th {\n",
       "        text-align: right;\n",
       "    }\n",
       "</style>\n",
       "<table border=\"1\" class=\"dataframe\">\n",
       "  <thead>\n",
       "    <tr style=\"text-align: right;\">\n",
       "      <th>platform</th>\n",
       "      <th>3DS</th>\n",
       "      <th>PC</th>\n",
       "      <th>PS3</th>\n",
       "      <th>PS4</th>\n",
       "      <th>PSV</th>\n",
       "      <th>WiiU</th>\n",
       "      <th>XOne</th>\n",
       "    </tr>\n",
       "  </thead>\n",
       "  <tbody>\n",
       "    <tr>\n",
       "      <td>count</td>\n",
       "      <td>5.000000</td>\n",
       "      <td>5.000000</td>\n",
       "      <td>5.000000</td>\n",
       "      <td>4.00000</td>\n",
       "      <td>5.00000</td>\n",
       "      <td>5.000000</td>\n",
       "      <td>4.000000</td>\n",
       "    </tr>\n",
       "    <tr>\n",
       "      <td>mean</td>\n",
       "      <td>79.200000</td>\n",
       "      <td>50.000000</td>\n",
       "      <td>98.600000</td>\n",
       "      <td>98.00000</td>\n",
       "      <td>82.20000</td>\n",
       "      <td>29.400000</td>\n",
       "      <td>61.750000</td>\n",
       "    </tr>\n",
       "    <tr>\n",
       "      <td>std</td>\n",
       "      <td>19.227584</td>\n",
       "      <td>8.514693</td>\n",
       "      <td>43.609632</td>\n",
       "      <td>66.15638</td>\n",
       "      <td>24.07696</td>\n",
       "      <td>10.089599</td>\n",
       "      <td>30.543685</td>\n",
       "    </tr>\n",
       "    <tr>\n",
       "      <td>min</td>\n",
       "      <td>46.000000</td>\n",
       "      <td>38.000000</td>\n",
       "      <td>38.000000</td>\n",
       "      <td>16.00000</td>\n",
       "      <td>53.00000</td>\n",
       "      <td>14.000000</td>\n",
       "      <td>19.000000</td>\n",
       "    </tr>\n",
       "    <tr>\n",
       "      <td>25%</td>\n",
       "      <td>80.000000</td>\n",
       "      <td>47.000000</td>\n",
       "      <td>73.000000</td>\n",
       "      <td>60.25000</td>\n",
       "      <td>63.00000</td>\n",
       "      <td>28.000000</td>\n",
       "      <td>50.500000</td>\n",
       "    </tr>\n",
       "    <tr>\n",
       "      <td>50%</td>\n",
       "      <td>86.000000</td>\n",
       "      <td>50.000000</td>\n",
       "      <td>108.000000</td>\n",
       "      <td>106.00000</td>\n",
       "      <td>85.00000</td>\n",
       "      <td>31.000000</td>\n",
       "      <td>70.500000</td>\n",
       "    </tr>\n",
       "    <tr>\n",
       "      <td>75%</td>\n",
       "      <td>91.000000</td>\n",
       "      <td>54.000000</td>\n",
       "      <td>126.000000</td>\n",
       "      <td>143.75000</td>\n",
       "      <td>100.00000</td>\n",
       "      <td>32.000000</td>\n",
       "      <td>81.750000</td>\n",
       "    </tr>\n",
       "    <tr>\n",
       "      <td>max</td>\n",
       "      <td>93.000000</td>\n",
       "      <td>61.000000</td>\n",
       "      <td>148.000000</td>\n",
       "      <td>164.00000</td>\n",
       "      <td>110.00000</td>\n",
       "      <td>42.000000</td>\n",
       "      <td>87.000000</td>\n",
       "    </tr>\n",
       "  </tbody>\n",
       "</table>\n",
       "</div>"
      ],
      "text/plain": [
       "platform        3DS         PC         PS3        PS4        PSV       WiiU  \\\n",
       "count      5.000000   5.000000    5.000000    4.00000    5.00000   5.000000   \n",
       "mean      79.200000  50.000000   98.600000   98.00000   82.20000  29.400000   \n",
       "std       19.227584   8.514693   43.609632   66.15638   24.07696  10.089599   \n",
       "min       46.000000  38.000000   38.000000   16.00000   53.00000  14.000000   \n",
       "25%       80.000000  47.000000   73.000000   60.25000   63.00000  28.000000   \n",
       "50%       86.000000  50.000000  108.000000  106.00000   85.00000  31.000000   \n",
       "75%       91.000000  54.000000  126.000000  143.75000  100.00000  32.000000   \n",
       "max       93.000000  61.000000  148.000000  164.00000  110.00000  42.000000   \n",
       "\n",
       "platform       XOne  \n",
       "count      4.000000  \n",
       "mean      61.750000  \n",
       "std       30.543685  \n",
       "min       19.000000  \n",
       "25%       50.500000  \n",
       "50%       70.500000  \n",
       "75%       81.750000  \n",
       "max       87.000000  "
      ]
     },
     "metadata": {},
     "output_type": "display_data"
    }
   ],
   "source": [
    "ax = top_5yr_pivot.plot(kind='box', figsize=(9,6), grid=True)\n",
    "ax.set_ylabel('Range of Sales Per Year')\n",
    "ax.set_xlabel('Platforms')\n",
    "ax.set_title('Top Platform Yearly Sales Range')\n",
    "plt.show()\n",
    "display(top_5yr_pivot.describe())"
   ]
  },
  {
   "cell_type": "markdown",
   "metadata": {},
   "source": [
    "**Conclusion 3.4: Top Platform Yearly Sales Range**\n",
    "\n",
    "1) This graph shows that the top platforms in sales over the last 5 years (PS4, PS3, and PSV) generally have a large distribution and a higher average of sales compared to the rest\n",
    "\n",
    "2) The highest average was a tie between PS3 and PS4 at 98 while the lowest average was the was WiiU at 29.4\n",
    "\n",
    "3) Platforms such as the 3DS and PC have one of the lowest spreads (19.2 and 8.5 STD respectivly) however, they are not necessarily underperforming. The 3DS achieved a higher maximum of 93mil games sold compared to the XOne at 87 and a higher average of 79.2 compared to XOne's 61.7.\n",
    "\n",
    "4) This range in sales help describe which platforms are performing better than others when comparing the average and which platforms are on a potential rise or decline by analyzing the distribution."
   ]
  },
  {
   "cell_type": "markdown",
   "metadata": {},
   "source": [
    "#### Take a look at how user and professional reviews affect sales for one popular platform (XOne). Build a scatter plot and calculate the correlation between reviews and sales. Draw conclusions."
   ]
  },
  {
   "cell_type": "code",
   "execution_count": 26,
   "metadata": {},
   "outputs": [
    {
     "data": {
      "text/html": [
       "<div>\n",
       "<style scoped>\n",
       "    .dataframe tbody tr th:only-of-type {\n",
       "        vertical-align: middle;\n",
       "    }\n",
       "\n",
       "    .dataframe tbody tr th {\n",
       "        vertical-align: top;\n",
       "    }\n",
       "\n",
       "    .dataframe thead th {\n",
       "        text-align: right;\n",
       "    }\n",
       "</style>\n",
       "<table border=\"1\" class=\"dataframe\">\n",
       "  <thead>\n",
       "    <tr style=\"text-align: right;\">\n",
       "      <th></th>\n",
       "      <th>name</th>\n",
       "      <th>platform</th>\n",
       "      <th>year_of_release</th>\n",
       "      <th>genre</th>\n",
       "      <th>na_sales</th>\n",
       "      <th>eu_sales</th>\n",
       "      <th>jp_sales</th>\n",
       "      <th>other_sales</th>\n",
       "      <th>critic_score</th>\n",
       "      <th>user_score</th>\n",
       "      <th>rating</th>\n",
       "      <th>total_sales</th>\n",
       "    </tr>\n",
       "  </thead>\n",
       "  <tbody>\n",
       "    <tr>\n",
       "      <td>99</td>\n",
       "      <td>Call of Duty: Black Ops 3</td>\n",
       "      <td>XOne</td>\n",
       "      <td>2015</td>\n",
       "      <td>Shooter</td>\n",
       "      <td>4.59</td>\n",
       "      <td>2.11</td>\n",
       "      <td>0.01</td>\n",
       "      <td>0.68</td>\n",
       "      <td>66.0</td>\n",
       "      <td>7.5</td>\n",
       "      <td>E</td>\n",
       "      <td>7.39</td>\n",
       "    </tr>\n",
       "    <tr>\n",
       "      <td>165</td>\n",
       "      <td>Grand Theft Auto V</td>\n",
       "      <td>XOne</td>\n",
       "      <td>2014</td>\n",
       "      <td>Action</td>\n",
       "      <td>2.81</td>\n",
       "      <td>2.19</td>\n",
       "      <td>0.00</td>\n",
       "      <td>0.47</td>\n",
       "      <td>97.0</td>\n",
       "      <td>7.9</td>\n",
       "      <td>M</td>\n",
       "      <td>5.47</td>\n",
       "    </tr>\n",
       "    <tr>\n",
       "      <td>179</td>\n",
       "      <td>Call of Duty: Advanced Warfare</td>\n",
       "      <td>XOne</td>\n",
       "      <td>2014</td>\n",
       "      <td>Shooter</td>\n",
       "      <td>3.22</td>\n",
       "      <td>1.55</td>\n",
       "      <td>0.01</td>\n",
       "      <td>0.48</td>\n",
       "      <td>81.0</td>\n",
       "      <td>5.4</td>\n",
       "      <td>M</td>\n",
       "      <td>5.26</td>\n",
       "    </tr>\n",
       "    <tr>\n",
       "      <td>242</td>\n",
       "      <td>Halo 5: Guardians</td>\n",
       "      <td>XOne</td>\n",
       "      <td>2015</td>\n",
       "      <td>Shooter</td>\n",
       "      <td>2.78</td>\n",
       "      <td>1.27</td>\n",
       "      <td>0.03</td>\n",
       "      <td>0.41</td>\n",
       "      <td>84.0</td>\n",
       "      <td>6.4</td>\n",
       "      <td>T</td>\n",
       "      <td>4.49</td>\n",
       "    </tr>\n",
       "    <tr>\n",
       "      <td>270</td>\n",
       "      <td>Fallout 4</td>\n",
       "      <td>XOne</td>\n",
       "      <td>2015</td>\n",
       "      <td>Role-Playing</td>\n",
       "      <td>2.51</td>\n",
       "      <td>1.32</td>\n",
       "      <td>0.01</td>\n",
       "      <td>0.38</td>\n",
       "      <td>88.0</td>\n",
       "      <td>6.2</td>\n",
       "      <td>M</td>\n",
       "      <td>4.22</td>\n",
       "    </tr>\n",
       "  </tbody>\n",
       "</table>\n",
       "</div>"
      ],
      "text/plain": [
       "                               name platform  year_of_release         genre  \\\n",
       "99        Call of Duty: Black Ops 3     XOne             2015       Shooter   \n",
       "165              Grand Theft Auto V     XOne             2014        Action   \n",
       "179  Call of Duty: Advanced Warfare     XOne             2014       Shooter   \n",
       "242               Halo 5: Guardians     XOne             2015       Shooter   \n",
       "270                       Fallout 4     XOne             2015  Role-Playing   \n",
       "\n",
       "     na_sales  eu_sales  jp_sales  other_sales  critic_score  user_score  \\\n",
       "99       4.59      2.11      0.01         0.68          66.0         7.5   \n",
       "165      2.81      2.19      0.00         0.47          97.0         7.9   \n",
       "179      3.22      1.55      0.01         0.48          81.0         5.4   \n",
       "242      2.78      1.27      0.03         0.41          84.0         6.4   \n",
       "270      2.51      1.32      0.01         0.38          88.0         6.2   \n",
       "\n",
       "    rating  total_sales  \n",
       "99       E         7.39  \n",
       "165      M         5.47  \n",
       "179      M         5.26  \n",
       "242      T         4.49  \n",
       "270      M         4.22  "
      ]
     },
     "execution_count": 26,
     "metadata": {},
     "output_type": "execute_result"
    }
   ],
   "source": [
    "#First create a df with only XOne platform games\n",
    "xone_games = top_5yr[(top_5yr['platform'].isin(['XOne']))]\n",
    "xone_games.head()"
   ]
  },
  {
   "cell_type": "code",
   "execution_count": 27,
   "metadata": {},
   "outputs": [
    {
     "name": "stdout",
     "output_type": "stream",
     "text": [
      "<class 'pandas.core.frame.DataFrame'>\n",
      "Int64Index: 247 entries, 99 to 16672\n",
      "Data columns (total 7 columns):\n",
      "na_sales        247 non-null float64\n",
      "eu_sales        247 non-null float64\n",
      "jp_sales        247 non-null float64\n",
      "other_sales     247 non-null float64\n",
      "critic_score    247 non-null float64\n",
      "user_score      247 non-null float64\n",
      "total_sales     247 non-null float64\n",
      "dtypes: float64(7)\n",
      "memory usage: 15.4 KB\n"
     ]
    },
    {
     "data": {
      "text/html": [
       "<div>\n",
       "<style scoped>\n",
       "    .dataframe tbody tr th:only-of-type {\n",
       "        vertical-align: middle;\n",
       "    }\n",
       "\n",
       "    .dataframe tbody tr th {\n",
       "        vertical-align: top;\n",
       "    }\n",
       "\n",
       "    .dataframe thead th {\n",
       "        text-align: right;\n",
       "    }\n",
       "</style>\n",
       "<table border=\"1\" class=\"dataframe\">\n",
       "  <thead>\n",
       "    <tr style=\"text-align: right;\">\n",
       "      <th></th>\n",
       "      <th>na_sales</th>\n",
       "      <th>eu_sales</th>\n",
       "      <th>jp_sales</th>\n",
       "      <th>other_sales</th>\n",
       "      <th>critic_score</th>\n",
       "      <th>user_score</th>\n",
       "      <th>total_sales</th>\n",
       "    </tr>\n",
       "  </thead>\n",
       "  <tbody>\n",
       "    <tr>\n",
       "      <td>99</td>\n",
       "      <td>4.59</td>\n",
       "      <td>2.11</td>\n",
       "      <td>0.01</td>\n",
       "      <td>0.68</td>\n",
       "      <td>66.0</td>\n",
       "      <td>7.5</td>\n",
       "      <td>7.39</td>\n",
       "    </tr>\n",
       "    <tr>\n",
       "      <td>165</td>\n",
       "      <td>2.81</td>\n",
       "      <td>2.19</td>\n",
       "      <td>0.00</td>\n",
       "      <td>0.47</td>\n",
       "      <td>97.0</td>\n",
       "      <td>7.9</td>\n",
       "      <td>5.47</td>\n",
       "    </tr>\n",
       "    <tr>\n",
       "      <td>179</td>\n",
       "      <td>3.22</td>\n",
       "      <td>1.55</td>\n",
       "      <td>0.01</td>\n",
       "      <td>0.48</td>\n",
       "      <td>81.0</td>\n",
       "      <td>5.4</td>\n",
       "      <td>5.26</td>\n",
       "    </tr>\n",
       "    <tr>\n",
       "      <td>242</td>\n",
       "      <td>2.78</td>\n",
       "      <td>1.27</td>\n",
       "      <td>0.03</td>\n",
       "      <td>0.41</td>\n",
       "      <td>84.0</td>\n",
       "      <td>6.4</td>\n",
       "      <td>4.49</td>\n",
       "    </tr>\n",
       "    <tr>\n",
       "      <td>270</td>\n",
       "      <td>2.51</td>\n",
       "      <td>1.32</td>\n",
       "      <td>0.01</td>\n",
       "      <td>0.38</td>\n",
       "      <td>88.0</td>\n",
       "      <td>6.2</td>\n",
       "      <td>4.22</td>\n",
       "    </tr>\n",
       "  </tbody>\n",
       "</table>\n",
       "</div>"
      ],
      "text/plain": [
       "     na_sales  eu_sales  jp_sales  other_sales  critic_score  user_score  \\\n",
       "99       4.59      2.11      0.01         0.68          66.0         7.5   \n",
       "165      2.81      2.19      0.00         0.47          97.0         7.9   \n",
       "179      3.22      1.55      0.01         0.48          81.0         5.4   \n",
       "242      2.78      1.27      0.03         0.41          84.0         6.4   \n",
       "270      2.51      1.32      0.01         0.38          88.0         6.2   \n",
       "\n",
       "     total_sales  \n",
       "99          7.39  \n",
       "165         5.47  \n",
       "179         5.26  \n",
       "242         4.49  \n",
       "270         4.22  "
      ]
     },
     "metadata": {},
     "output_type": "display_data"
    },
    {
     "data": {
      "text/plain": [
       "None"
      ]
     },
     "metadata": {},
     "output_type": "display_data"
    }
   ],
   "source": [
    "#Next, drop all columns not pertaining to review and sales correlation\n",
    "xone_games = xone_games.drop(['name', 'platform', 'year_of_release', 'genre', 'rating'], axis=1)\n",
    "display(xone_games.head(), xone_games.info())"
   ]
  },
  {
   "cell_type": "code",
   "execution_count": 28,
   "metadata": {},
   "outputs": [
    {
     "data": {
      "image/png": "[encoded data removed]",
      "text/plain": [
       "<Figure size 864x864 with 49 Axes>"
      ]
     },
     "metadata": {
      "needs_background": "light"
     },
     "output_type": "display_data"
    },
    {
     "data": {
      "text/plain": [
       "None"
      ]
     },
     "metadata": {},
     "output_type": "display_data"
    },
    {
     "data": {
      "text/html": [
       "<div>\n",
       "<style scoped>\n",
       "    .dataframe tbody tr th:only-of-type {\n",
       "        vertical-align: middle;\n",
       "    }\n",
       "\n",
       "    .dataframe tbody tr th {\n",
       "        vertical-align: top;\n",
       "    }\n",
       "\n",
       "    .dataframe thead th {\n",
       "        text-align: right;\n",
       "    }\n",
       "</style>\n",
       "<table border=\"1\" class=\"dataframe\">\n",
       "  <thead>\n",
       "    <tr style=\"text-align: right;\">\n",
       "      <th></th>\n",
       "      <th>na_sales</th>\n",
       "      <th>eu_sales</th>\n",
       "      <th>jp_sales</th>\n",
       "      <th>other_sales</th>\n",
       "      <th>critic_score</th>\n",
       "      <th>user_score</th>\n",
       "      <th>total_sales</th>\n",
       "    </tr>\n",
       "  </thead>\n",
       "  <tbody>\n",
       "    <tr>\n",
       "      <td>na_sales</td>\n",
       "      <td>1.000000</td>\n",
       "      <td>0.765367</td>\n",
       "      <td>0.425725</td>\n",
       "      <td>0.988088</td>\n",
       "      <td>0.358024</td>\n",
       "      <td>-0.104990</td>\n",
       "      <td>0.970433</td>\n",
       "    </tr>\n",
       "    <tr>\n",
       "      <td>eu_sales</td>\n",
       "      <td>0.765367</td>\n",
       "      <td>1.000000</td>\n",
       "      <td>0.421071</td>\n",
       "      <td>0.852986</td>\n",
       "      <td>0.366701</td>\n",
       "      <td>-0.092550</td>\n",
       "      <td>0.898045</td>\n",
       "    </tr>\n",
       "    <tr>\n",
       "      <td>jp_sales</td>\n",
       "      <td>0.425725</td>\n",
       "      <td>0.421071</td>\n",
       "      <td>1.000000</td>\n",
       "      <td>0.441717</td>\n",
       "      <td>0.211757</td>\n",
       "      <td>0.037641</td>\n",
       "      <td>0.452701</td>\n",
       "    </tr>\n",
       "    <tr>\n",
       "      <td>other_sales</td>\n",
       "      <td>0.988088</td>\n",
       "      <td>0.852986</td>\n",
       "      <td>0.441717</td>\n",
       "      <td>1.000000</td>\n",
       "      <td>0.377078</td>\n",
       "      <td>-0.105520</td>\n",
       "      <td>0.995238</td>\n",
       "    </tr>\n",
       "    <tr>\n",
       "      <td>critic_score</td>\n",
       "      <td>0.358024</td>\n",
       "      <td>0.366701</td>\n",
       "      <td>0.211757</td>\n",
       "      <td>0.377078</td>\n",
       "      <td>1.000000</td>\n",
       "      <td>0.293191</td>\n",
       "      <td>0.382530</td>\n",
       "    </tr>\n",
       "    <tr>\n",
       "      <td>user_score</td>\n",
       "      <td>-0.104990</td>\n",
       "      <td>-0.092550</td>\n",
       "      <td>0.037641</td>\n",
       "      <td>-0.105520</td>\n",
       "      <td>0.293191</td>\n",
       "      <td>1.000000</td>\n",
       "      <td>-0.105937</td>\n",
       "    </tr>\n",
       "    <tr>\n",
       "      <td>total_sales</td>\n",
       "      <td>0.970433</td>\n",
       "      <td>0.898045</td>\n",
       "      <td>0.452701</td>\n",
       "      <td>0.995238</td>\n",
       "      <td>0.382530</td>\n",
       "      <td>-0.105937</td>\n",
       "      <td>1.000000</td>\n",
       "    </tr>\n",
       "  </tbody>\n",
       "</table>\n",
       "</div>"
      ],
      "text/plain": [
       "              na_sales  eu_sales  jp_sales  other_sales  critic_score  \\\n",
       "na_sales      1.000000  0.765367  0.425725     0.988088      0.358024   \n",
       "eu_sales      0.765367  1.000000  0.421071     0.852986      0.366701   \n",
       "jp_sales      0.425725  0.421071  1.000000     0.441717      0.211757   \n",
       "other_sales   0.988088  0.852986  0.441717     1.000000      0.377078   \n",
       "critic_score  0.358024  0.366701  0.211757     0.377078      1.000000   \n",
       "user_score   -0.104990 -0.092550  0.037641    -0.105520      0.293191   \n",
       "total_sales   0.970433  0.898045  0.452701     0.995238      0.382530   \n",
       "\n",
       "              user_score  total_sales  \n",
       "na_sales       -0.104990     0.970433  \n",
       "eu_sales       -0.092550     0.898045  \n",
       "jp_sales        0.037641     0.452701  \n",
       "other_sales    -0.105520     0.995238  \n",
       "critic_score    0.293191     0.382530  \n",
       "user_score      1.000000    -0.105937  \n",
       "total_sales    -0.105937     1.000000  "
      ]
     },
     "metadata": {},
     "output_type": "display_data"
    }
   ],
   "source": [
    "#Next, create scatter matrix and correlation matrix\n",
    "pd.plotting.scatter_matrix(xone_games, figsize=(12,12))\n",
    "display(plt.show(), xone_games.corr())"
   ]
  },
  {
   "cell_type": "markdown",
   "metadata": {},
   "source": [
    "**Conclusion 3.5: Review and Sales Scatter Matrices and Correlation**\n",
    "\n",
    "1) Both critic_score and user_score had a weak influence on total sales, both have denser values leaning to the right of each graph that get taller, but less dense. This shows that games with higher critic and user reviews may get more sales, but since the values are still more dense at the bottom of each graph, the reviews do not necessarily control the sales. This can also be seen in the correlation matrix with critic score having a coefficient of 0.38 and user score having a score of -0.1. This means that critic score has a stronger relationship with total sales than user_score. "
   ]
  },
  {
   "cell_type": "markdown",
   "metadata": {},
   "source": [
    "#### Keeping your conclusions in mind, compare the sales of the same games on other platforms."
   ]
  },
  {
   "cell_type": "code",
   "execution_count": 29,
   "metadata": {},
   "outputs": [
    {
     "data": {
      "image/png": "[encoded data removed]",
      "text/plain": [
       "<Figure size 864x864 with 64 Axes>"
      ]
     },
     "metadata": {
      "needs_background": "light"
     },
     "output_type": "display_data"
    },
    {
     "data": {
      "text/plain": [
       "None"
      ]
     },
     "metadata": {},
     "output_type": "display_data"
    },
    {
     "data": {
      "text/html": [
       "<div>\n",
       "<style scoped>\n",
       "    .dataframe tbody tr th:only-of-type {\n",
       "        vertical-align: middle;\n",
       "    }\n",
       "\n",
       "    .dataframe tbody tr th {\n",
       "        vertical-align: top;\n",
       "    }\n",
       "\n",
       "    .dataframe thead th {\n",
       "        text-align: right;\n",
       "    }\n",
       "</style>\n",
       "<table border=\"1\" class=\"dataframe\">\n",
       "  <thead>\n",
       "    <tr style=\"text-align: right;\">\n",
       "      <th></th>\n",
       "      <th>year_of_release</th>\n",
       "      <th>na_sales</th>\n",
       "      <th>eu_sales</th>\n",
       "      <th>jp_sales</th>\n",
       "      <th>other_sales</th>\n",
       "      <th>critic_score</th>\n",
       "      <th>user_score</th>\n",
       "      <th>total_sales</th>\n",
       "    </tr>\n",
       "  </thead>\n",
       "  <tbody>\n",
       "    <tr>\n",
       "      <td>year_of_release</td>\n",
       "      <td>1.000000</td>\n",
       "      <td>-0.087966</td>\n",
       "      <td>-0.066463</td>\n",
       "      <td>-0.087543</td>\n",
       "      <td>-0.079419</td>\n",
       "      <td>-0.020816</td>\n",
       "      <td>0.009378</td>\n",
       "      <td>-0.092975</td>\n",
       "    </tr>\n",
       "    <tr>\n",
       "      <td>na_sales</td>\n",
       "      <td>-0.087966</td>\n",
       "      <td>1.000000</td>\n",
       "      <td>0.788698</td>\n",
       "      <td>0.353261</td>\n",
       "      <td>0.830587</td>\n",
       "      <td>0.303162</td>\n",
       "      <td>-0.064466</td>\n",
       "      <td>0.924787</td>\n",
       "    </tr>\n",
       "    <tr>\n",
       "      <td>eu_sales</td>\n",
       "      <td>-0.066463</td>\n",
       "      <td>0.788698</td>\n",
       "      <td>1.000000</td>\n",
       "      <td>0.284816</td>\n",
       "      <td>0.939205</td>\n",
       "      <td>0.286348</td>\n",
       "      <td>-0.081949</td>\n",
       "      <td>0.932207</td>\n",
       "    </tr>\n",
       "    <tr>\n",
       "      <td>jp_sales</td>\n",
       "      <td>-0.087543</td>\n",
       "      <td>0.353261</td>\n",
       "      <td>0.284816</td>\n",
       "      <td>1.000000</td>\n",
       "      <td>0.210768</td>\n",
       "      <td>0.054947</td>\n",
       "      <td>0.110113</td>\n",
       "      <td>0.502823</td>\n",
       "    </tr>\n",
       "    <tr>\n",
       "      <td>other_sales</td>\n",
       "      <td>-0.079419</td>\n",
       "      <td>0.830587</td>\n",
       "      <td>0.939205</td>\n",
       "      <td>0.210768</td>\n",
       "      <td>1.000000</td>\n",
       "      <td>0.278199</td>\n",
       "      <td>-0.070351</td>\n",
       "      <td>0.915915</td>\n",
       "    </tr>\n",
       "    <tr>\n",
       "      <td>critic_score</td>\n",
       "      <td>-0.020816</td>\n",
       "      <td>0.303162</td>\n",
       "      <td>0.286348</td>\n",
       "      <td>0.054947</td>\n",
       "      <td>0.278199</td>\n",
       "      <td>1.000000</td>\n",
       "      <td>0.319518</td>\n",
       "      <td>0.293204</td>\n",
       "    </tr>\n",
       "    <tr>\n",
       "      <td>user_score</td>\n",
       "      <td>0.009378</td>\n",
       "      <td>-0.064466</td>\n",
       "      <td>-0.081949</td>\n",
       "      <td>0.110113</td>\n",
       "      <td>-0.070351</td>\n",
       "      <td>0.319518</td>\n",
       "      <td>1.000000</td>\n",
       "      <td>-0.047124</td>\n",
       "    </tr>\n",
       "    <tr>\n",
       "      <td>total_sales</td>\n",
       "      <td>-0.092975</td>\n",
       "      <td>0.924787</td>\n",
       "      <td>0.932207</td>\n",
       "      <td>0.502823</td>\n",
       "      <td>0.915915</td>\n",
       "      <td>0.293204</td>\n",
       "      <td>-0.047124</td>\n",
       "      <td>1.000000</td>\n",
       "    </tr>\n",
       "  </tbody>\n",
       "</table>\n",
       "</div>"
      ],
      "text/plain": [
       "                 year_of_release  na_sales  eu_sales  jp_sales  other_sales  \\\n",
       "year_of_release         1.000000 -0.087966 -0.066463 -0.087543    -0.079419   \n",
       "na_sales               -0.087966  1.000000  0.788698  0.353261     0.830587   \n",
       "eu_sales               -0.066463  0.788698  1.000000  0.284816     0.939205   \n",
       "jp_sales               -0.087543  0.353261  0.284816  1.000000     0.210768   \n",
       "other_sales            -0.079419  0.830587  0.939205  0.210768     1.000000   \n",
       "critic_score           -0.020816  0.303162  0.286348  0.054947     0.278199   \n",
       "user_score              0.009378 -0.064466 -0.081949  0.110113    -0.070351   \n",
       "total_sales            -0.092975  0.924787  0.932207  0.502823     0.915915   \n",
       "\n",
       "                 critic_score  user_score  total_sales  \n",
       "year_of_release     -0.020816    0.009378    -0.092975  \n",
       "na_sales             0.303162   -0.064466     0.924787  \n",
       "eu_sales             0.286348   -0.081949     0.932207  \n",
       "jp_sales             0.054947    0.110113     0.502823  \n",
       "other_sales          0.278199   -0.070351     0.915915  \n",
       "critic_score         1.000000    0.319518     0.293204  \n",
       "user_score           0.319518    1.000000    -0.047124  \n",
       "total_sales          0.293204   -0.047124     1.000000  "
      ]
     },
     "metadata": {},
     "output_type": "display_data"
    }
   ],
   "source": [
    "#scatter matrix for the top_5yr dataframe that includes the rest of the platforms\n",
    "\n",
    "pd.plotting.scatter_matrix(top_5yr, figsize=(12,12))\n",
    "display(plt.show(), top_5yr.corr())"
   ]
  },
  {
   "cell_type": "markdown",
   "metadata": {},
   "source": [
    "**Conclusion 3.6: Multi-Platform Review and Sales Scatter and Correlation**\n",
    "\n",
    "1) When all other platforms were considered, critic_score and user_score still had a weak relationship with total_sales. The graphs appear to be very similar with high density below the each graph that get taller towards the right but less dense, showing that good reviews had a small, yet positive effect on sales across multiple platforms.\n",
    "\n",
    "2) This can also be seen in the correlation matrix where the old coefficients for critic and user score (0.38 and -0.1 respectively) are still very similar to the new coefficients (0.29 and -0.04 respectively). The decrease in the correlation coefficient for critic reviews show that there is a small difference in critic review effects amongst different platforms."
   ]
  },
  {
   "cell_type": "markdown",
   "metadata": {},
   "source": [
    "#### Take a look at the general distribution of games by genre. What can we say about the most profitable genres? Can you generalize about genres with high and low sales?"
   ]
  },
  {
   "cell_type": "code",
   "execution_count": 31,
   "metadata": {},
   "outputs": [
    {
     "data": {
      "image/png": "[encoded data removed]",
      "text/plain": [
       "<Figure size 864x864 with 12 Axes>"
      ]
     },
     "metadata": {
      "needs_background": "light"
     },
     "output_type": "display_data"
    },
    {
     "data": {
      "text/plain": [
       "None"
      ]
     },
     "metadata": {},
     "output_type": "display_data"
    },
    {
     "data": {
      "text/plain": [
       "Action          830\n",
       "Role-Playing    323\n",
       "Adventure       229\n",
       "Sports          205\n",
       "Shooter         186\n",
       "Misc            151\n",
       "Racing           93\n",
       "Fighting         89\n",
       "Platform         75\n",
       "Simulation       68\n",
       "Strategy         64\n",
       "Puzzle           23\n",
       "Name: genre, dtype: int64"
      ]
     },
     "metadata": {},
     "output_type": "display_data"
    }
   ],
   "source": [
    "axarr = top_5yr.hist(by='genre', column='total_sales', grid= True, figsize=(12,12))\n",
    "for ax in axarr.flatten():\n",
    "    ax.set_xlabel(\"Sales in USD Millions\")\n",
    "    ax.set_ylabel(\"Number of Games\")\n",
    "    \n",
    "display(plt.show(), top_5yr['genre'].value_counts())\n"
   ]
  },
  {
   "cell_type": "markdown",
   "metadata": {},
   "source": [
    "**Conclusion 3.7: Sales Distribution by Genre**\n",
    "\n",
    "1) The most lucrative game genres were action and shooters considering they had some games that brought in total sales resulting 20mil and 15mil.\n",
    "\n",
    "2) Action games highest in production with 830 games and 343mil total sales. With most games achieving sales between 0mil and 5mil, action games are a safe genre to develop but few of them become very lucrative.\n",
    "\n",
    "3) Racing, simulation, shooters, and sports are all noteworthy genres when comparing how many games were produced in the genre and how many became lucrative. \n",
    "\n",
    "4) Only 93 racing games developed, however, they had achieved sales of up to 7mil total sales revenue. \n",
    "\n",
    "5) Only 186 shooter games were developed, however, they had achieved sales of up to 15mil total sales\n",
    "\n",
    "6) Only 68 simulation games were developed, however, they had achieved sales of up to 8mil total sales\n",
    "\n",
    "7) 205 sports games were developed, however, they had achieved sales of up to 8 mil\n",
    "\n",
    "8) Action games may have been the highest in production and highest in total sales however, it is an overly saturated genre. The chances of finding a game that makes it big are game genres that are lower in production and achieve high total sales volume, such as racing, shooters, simulation, and sports games"
   ]
  },
  {
   "cell_type": "markdown",
   "metadata": {},
   "source": [
    "# Step 4: Create a user profile for each region"
   ]
  },
  {
   "cell_type": "markdown",
   "metadata": {},
   "source": [
    "#### For each region (NA, EU, JP), determine: The top five platforms. Describe variations in their market shares from region to region."
   ]
  },
  {
   "cell_type": "code",
   "execution_count": 32,
   "metadata": {},
   "outputs": [
    {
     "data": {
      "text/plain": [
       "platform\n",
       "PS4     108.74\n",
       "PS3     103.38\n",
       "XOne     93.12\n",
       "3DS      55.31\n",
       "WiiU     38.10\n",
       "PC       19.12\n",
       "PSV      10.98\n",
       "Name: na_sales, dtype: float64"
      ]
     },
     "execution_count": 32,
     "metadata": {},
     "output_type": "execute_result"
    }
   ],
   "source": [
    "na_platforms = top_5yr.groupby('platform')['na_sales'].sum()\n",
    "na_platforms.sort_values(ascending=False)"
   ]
  },
  {
   "cell_type": "code",
   "execution_count": 33,
   "metadata": {},
   "outputs": [
    {
     "data": {
      "text/plain": [
       "platform\n",
       "PS4     141.09\n",
       "PS3     106.86\n",
       "XOne     51.59\n",
       "3DS      42.64\n",
       "PC       37.76\n",
       "WiiU     25.13\n",
       "PSV      11.36\n",
       "Name: eu_sales, dtype: float64"
      ]
     },
     "execution_count": 33,
     "metadata": {},
     "output_type": "execute_result"
    }
   ],
   "source": [
    "eu_platforms = top_5yr.groupby('platform')['eu_sales'].sum()\n",
    "eu_platforms.sort_values(ascending=False)"
   ]
  },
  {
   "cell_type": "code",
   "execution_count": 34,
   "metadata": {},
   "outputs": [
    {
     "data": {
      "text/plain": [
       "platform\n",
       "3DS     87.79\n",
       "PS3     35.29\n",
       "PSV     21.04\n",
       "PS4     15.96\n",
       "WiiU    13.01\n",
       "XOne     0.34\n",
       "PC       0.00\n",
       "Name: jp_sales, dtype: float64"
      ]
     },
     "execution_count": 34,
     "metadata": {},
     "output_type": "execute_result"
    }
   ],
   "source": [
    "jp_platforms = top_5yr.groupby('platform')['jp_sales'].sum()\n",
    "jp_platforms.sort_values(ascending=False)"
   ]
  },
  {
   "cell_type": "markdown",
   "metadata": {},
   "source": [
    "**Conclusion 4.1: Top Platforms for NA, EU, and JP**\n",
    "\n",
    "1) NA and EU shared the same top 5 platforms (PS4, PS3, XOne, 3DS, PC) but varied in market share.\n",
    "\n",
    "2) PS4 and PS3 game sales were higher in EU (141 and 106 compared to 108 and 103 respectively), but XOne sales were higher in NA (93) compared to EU (51). \n",
    "\n",
    "3) The WiiU was most popular in NA (38) and least popular in JP (13).\n",
    "\n",
    "4) PC was more popular in EU (37) compared to NA (19) and least in JP (0).\n"
   ]
  },
  {
   "cell_type": "markdown",
   "metadata": {},
   "source": [
    "#### The top five genres. Explain the difference."
   ]
  },
  {
   "cell_type": "code",
   "execution_count": 35,
   "metadata": {},
   "outputs": [
    {
     "data": {
      "text/plain": [
       "genre\n",
       "Action          125.38\n",
       "Shooter         100.07\n",
       "Sports           57.37\n",
       "Role-Playing     54.59\n",
       "Platform         22.72\n",
       "Misc             19.62\n",
       "Fighting         16.60\n",
       "Racing           13.91\n",
       "Adventure         6.95\n",
       "Simulation        6.85\n",
       "Strategy          3.56\n",
       "Puzzle            1.13\n",
       "Name: na_sales, dtype: float64"
      ]
     },
     "execution_count": 35,
     "metadata": {},
     "output_type": "execute_result"
    }
   ],
   "source": [
    "na_platforms['genre'] = top_5yr.groupby('genre')['na_sales'].sum()\n",
    "eu_platforms['genre'] = top_5yr.groupby('genre')['eu_sales'].sum()\n",
    "jp_platforms['genre'] = top_5yr.groupby('genre')['jp_sales'].sum()\n",
    "\n",
    "na_platforms['genre'].sort_values(ascending=False)"
   ]
  },
  {
   "cell_type": "code",
   "execution_count": 36,
   "metadata": {},
   "outputs": [
    {
     "data": {
      "text/plain": [
       "genre\n",
       "Action          126.63\n",
       "Shooter          92.18\n",
       "Sports           57.68\n",
       "Role-Playing     43.97\n",
       "Racing           23.01\n",
       "Platform         19.44\n",
       "Misc             15.63\n",
       "Simulation       14.00\n",
       "Fighting          9.58\n",
       "Adventure         8.23\n",
       "Strategy          4.77\n",
       "Puzzle            1.31\n",
       "Name: eu_sales, dtype: float64"
      ]
     },
     "execution_count": 36,
     "metadata": {},
     "output_type": "execute_result"
    }
   ],
   "source": [
    "eu_platforms['genre'].sort_values(ascending=False)"
   ]
  },
  {
   "cell_type": "code",
   "execution_count": 37,
   "metadata": {},
   "outputs": [
    {
     "data": {
      "text/plain": [
       "genre\n",
       "Role-Playing    57.92\n",
       "Action          48.21\n",
       "Misc            11.31\n",
       "Simulation      10.22\n",
       "Fighting         8.92\n",
       "Shooter          8.71\n",
       "Platform         8.63\n",
       "Sports           6.90\n",
       "Adventure        6.52\n",
       "Racing           2.44\n",
       "Strategy         2.17\n",
       "Puzzle           1.48\n",
       "Name: jp_sales, dtype: float64"
      ]
     },
     "execution_count": 37,
     "metadata": {},
     "output_type": "execute_result"
    }
   ],
   "source": [
    "jp_platforms['genre'].sort_values(ascending=False)"
   ]
  },
  {
   "cell_type": "markdown",
   "metadata": {},
   "source": [
    "**Conclusion 4.2: Top 5 Genres per Region**\n",
    "\n",
    "1) The top 5 genres for EU and NA are the same except for the 5th place genre. 1 through 4 are action, shooters, sports, and role-playing. 5th place goes to platform in NA and racing for EU.\n",
    "\n",
    "2) JP's top 5 genres are a bit different: role-playing, action, misc, simulation, and fighting were the most popular"
   ]
  },
  {
   "cell_type": "markdown",
   "metadata": {},
   "source": [
    "#### Do ESRB ratings affect sales in individual regions?"
   ]
  },
  {
   "cell_type": "code",
   "execution_count": 38,
   "metadata": {},
   "outputs": [
    {
     "data": {
      "text/plain": [
       "rating\n",
       "E       171.85\n",
       "M       157.17\n",
       "T        51.94\n",
       "E10+     47.79\n",
       "Name: na_sales, dtype: float64"
      ]
     },
     "execution_count": 38,
     "metadata": {},
     "output_type": "execute_result"
    }
   ],
   "source": [
    "na_platforms['rating'] = top_5yr.groupby('rating')['na_sales'].sum()\n",
    "na_platforms['rating'].sort_values(ascending=False)"
   ]
  },
  {
   "cell_type": "code",
   "execution_count": 39,
   "metadata": {},
   "outputs": [
    {
     "data": {
      "text/plain": [
       "rating\n",
       "E       175.82\n",
       "M       156.31\n",
       "T        45.65\n",
       "E10+     38.65\n",
       "Name: eu_sales, dtype: float64"
      ]
     },
     "execution_count": 39,
     "metadata": {},
     "output_type": "execute_result"
    }
   ],
   "source": [
    "eu_platforms['rating'] = top_5yr.groupby('rating')['eu_sales'].sum()\n",
    "eu_platforms['rating'].sort_values(ascending=False)"
   ]
  },
  {
   "cell_type": "code",
   "execution_count": 40,
   "metadata": {},
   "outputs": [
    {
     "data": {
      "text/plain": [
       "rating\n",
       "E       119.98\n",
       "T        25.48\n",
       "M        20.12\n",
       "E10+      7.85\n",
       "Name: jp_sales, dtype: float64"
      ]
     },
     "execution_count": 40,
     "metadata": {},
     "output_type": "execute_result"
    }
   ],
   "source": [
    "jp_platforms['rating'] = top_5yr.groupby('rating')['jp_sales'].sum()\n",
    "jp_platforms['rating'].sort_values(ascending=False)"
   ]
  },
  {
   "cell_type": "markdown",
   "metadata": {},
   "source": [
    "**Conclustion 4.3: Rating's Influence on Sales per Region**\n",
    "\n",
    "1) NA and EU shared the same sales ranking based on rate: E, M, T, E10+. They differ for T and E10+ where T was greater in NA (51 vs 45) and also E10+ (47 vs 38).\n",
    "\n",
    "2) JP had a different rating effect on sales: E, T, M, E10+. T rated games were more profitable than M rated games (25 vs 20).\n",
    "\n",
    "3) Across all regions, E rated games were most profitable since it is catered to a larger audience than other ratings"
   ]
  },
  {
   "cell_type": "markdown",
   "metadata": {},
   "source": [
    "# Step 5: Test the following hypotheses:"
   ]
  },
  {
   "cell_type": "markdown",
   "metadata": {},
   "source": [
    "**1st Test:**\n",
    "\n",
    "**Alt. Hypothesis: Average user ratings of the Xbox One and PC platforms are the same.**\n",
    "\n",
    "**Null Hypothesis: Average user ratings of the Xbox One and PC platforms are not the same.**"
   ]
  },
  {
   "cell_type": "code",
   "execution_count": 41,
   "metadata": {},
   "outputs": [
    {
     "data": {
      "text/html": [
       "<div>\n",
       "<style scoped>\n",
       "    .dataframe tbody tr th:only-of-type {\n",
       "        vertical-align: middle;\n",
       "    }\n",
       "\n",
       "    .dataframe tbody tr th {\n",
       "        vertical-align: top;\n",
       "    }\n",
       "\n",
       "    .dataframe thead th {\n",
       "        text-align: right;\n",
       "    }\n",
       "</style>\n",
       "<table border=\"1\" class=\"dataframe\">\n",
       "  <thead>\n",
       "    <tr style=\"text-align: right;\">\n",
       "      <th></th>\n",
       "      <th>user_score</th>\n",
       "    </tr>\n",
       "  </thead>\n",
       "  <tbody>\n",
       "    <tr>\n",
       "      <td>99</td>\n",
       "      <td>7.5</td>\n",
       "    </tr>\n",
       "    <tr>\n",
       "      <td>165</td>\n",
       "      <td>7.9</td>\n",
       "    </tr>\n",
       "    <tr>\n",
       "      <td>179</td>\n",
       "      <td>5.4</td>\n",
       "    </tr>\n",
       "    <tr>\n",
       "      <td>242</td>\n",
       "      <td>6.4</td>\n",
       "    </tr>\n",
       "    <tr>\n",
       "      <td>270</td>\n",
       "      <td>6.2</td>\n",
       "    </tr>\n",
       "  </tbody>\n",
       "</table>\n",
       "</div>"
      ],
      "text/plain": [
       "     user_score\n",
       "99          7.5\n",
       "165         7.9\n",
       "179         5.4\n",
       "242         6.4\n",
       "270         6.2"
      ]
     },
     "execution_count": 41,
     "metadata": {},
     "output_type": "execute_result"
    }
   ],
   "source": [
    "#First create two populations: Xbox One and PC and then include only user_ratings\n",
    "xbox_one = top_5yr.loc[top_5yr['platform'] == 'XOne']\n",
    "xbox_one = xbox_one.drop(['name', 'platform', 'year_of_release', \n",
    "                          'genre', 'na_sales', 'eu_sales', 'jp_sales', 'other_sales', \n",
    "                          'critic_score', 'rating', 'total_sales'], axis=1)\n",
    "xbox_one.head()"
   ]
  },
  {
   "cell_type": "code",
   "execution_count": 42,
   "metadata": {},
   "outputs": [
    {
     "data": {
      "text/html": [
       "<div>\n",
       "<style scoped>\n",
       "    .dataframe tbody tr th:only-of-type {\n",
       "        vertical-align: middle;\n",
       "    }\n",
       "\n",
       "    .dataframe tbody tr th {\n",
       "        vertical-align: top;\n",
       "    }\n",
       "\n",
       "    .dataframe thead th {\n",
       "        text-align: right;\n",
       "    }\n",
       "</style>\n",
       "<table border=\"1\" class=\"dataframe\">\n",
       "  <thead>\n",
       "    <tr style=\"text-align: right;\">\n",
       "      <th></th>\n",
       "      <th>user_score</th>\n",
       "    </tr>\n",
       "  </thead>\n",
       "  <tbody>\n",
       "    <tr>\n",
       "      <td>192</td>\n",
       "      <td>4.0</td>\n",
       "    </tr>\n",
       "    <tr>\n",
       "      <td>458</td>\n",
       "      <td>3.9</td>\n",
       "    </tr>\n",
       "    <tr>\n",
       "      <td>688</td>\n",
       "      <td>7.9</td>\n",
       "    </tr>\n",
       "    <tr>\n",
       "      <td>959</td>\n",
       "      <td>4.8</td>\n",
       "    </tr>\n",
       "    <tr>\n",
       "      <td>1095</td>\n",
       "      <td>7.9</td>\n",
       "    </tr>\n",
       "  </tbody>\n",
       "</table>\n",
       "</div>"
      ],
      "text/plain": [
       "      user_score\n",
       "192          4.0\n",
       "458          3.9\n",
       "688          7.9\n",
       "959          4.8\n",
       "1095         7.9"
      ]
     },
     "execution_count": 42,
     "metadata": {},
     "output_type": "execute_result"
    }
   ],
   "source": [
    "pc = top_5yr.loc[top_5yr['platform'] == 'PC']\n",
    "pc = pc.drop(['name', 'platform', 'year_of_release', \n",
    "                          'genre', 'na_sales', 'eu_sales', 'jp_sales', 'other_sales', \n",
    "                          'critic_score', 'rating', 'total_sales'], axis=1)\n",
    "pc.head()"
   ]
  },
  {
   "cell_type": "code",
   "execution_count": 43,
   "metadata": {},
   "outputs": [
    {
     "name": "stdout",
     "output_type": "stream",
     "text": [
      "p-value:  [0.20535911]\n",
      "We can't reject the null hypothesis\n"
     ]
    }
   ],
   "source": [
    "from scipy import stats as st\n",
    "\n",
    "alpha = 0.05 #most understood and accepted alpha value\n",
    "\n",
    "results = st.ttest_ind(xbox_one, pc)\n",
    "\n",
    "print('p-value: ', results.pvalue)\n",
    "\n",
    "if results.pvalue < alpha:\n",
    "    print('We reject the null hypothesis')\n",
    "else:\n",
    "    print(\"We can't reject the null hypothesis\") "
   ]
  },
  {
   "cell_type": "markdown",
   "metadata": {},
   "source": [
    "**Conclusion 5.1: Xbox One and PC user ratings t-test**\n",
    "\n",
    "1) The results of the test show that the p-value is greater than the alpha value (0.21 > 0.05) This means that the the null hypothesis is accepted and the alt. hypothesis is rejected. The average user rating for Xbox One and PC is not the same. "
   ]
  },
  {
   "cell_type": "markdown",
   "metadata": {},
   "source": [
    "**2nd Test:**\n",
    "\n",
    "**Alt. Hypothesis: Average user ratings for the Action and Sports genres are different.**\n",
    "\n",
    "**Null. Hypothesis: Average user ratings for the Action and Sports genres are not different**"
   ]
  },
  {
   "cell_type": "code",
   "execution_count": 44,
   "metadata": {},
   "outputs": [
    {
     "data": {
      "text/plain": [
       "Action          830\n",
       "Role-Playing    323\n",
       "Adventure       229\n",
       "Sports          205\n",
       "Shooter         186\n",
       "Misc            151\n",
       "Racing           93\n",
       "Fighting         89\n",
       "Platform         75\n",
       "Simulation       68\n",
       "Strategy         64\n",
       "Puzzle           23\n",
       "Name: genre, dtype: int64"
      ]
     },
     "execution_count": 44,
     "metadata": {},
     "output_type": "execute_result"
    }
   ],
   "source": [
    "top_5yr['genre'].value_counts()"
   ]
  },
  {
   "cell_type": "code",
   "execution_count": 45,
   "metadata": {},
   "outputs": [
    {
     "data": {
      "text/html": [
       "<div>\n",
       "<style scoped>\n",
       "    .dataframe tbody tr th:only-of-type {\n",
       "        vertical-align: middle;\n",
       "    }\n",
       "\n",
       "    .dataframe tbody tr th {\n",
       "        vertical-align: top;\n",
       "    }\n",
       "\n",
       "    .dataframe thead th {\n",
       "        text-align: right;\n",
       "    }\n",
       "</style>\n",
       "<table border=\"1\" class=\"dataframe\">\n",
       "  <thead>\n",
       "    <tr style=\"text-align: right;\">\n",
       "      <th></th>\n",
       "      <th>user_score</th>\n",
       "    </tr>\n",
       "  </thead>\n",
       "  <tbody>\n",
       "    <tr>\n",
       "      <td>16</td>\n",
       "      <td>8.2</td>\n",
       "    </tr>\n",
       "    <tr>\n",
       "      <td>42</td>\n",
       "      <td>8.3</td>\n",
       "    </tr>\n",
       "    <tr>\n",
       "      <td>81</td>\n",
       "      <td>6.6</td>\n",
       "    </tr>\n",
       "    <tr>\n",
       "      <td>127</td>\n",
       "      <td>6.9</td>\n",
       "    </tr>\n",
       "    <tr>\n",
       "      <td>149</td>\n",
       "      <td>9.1</td>\n",
       "    </tr>\n",
       "  </tbody>\n",
       "</table>\n",
       "</div>"
      ],
      "text/plain": [
       "     user_score\n",
       "16          8.2\n",
       "42          8.3\n",
       "81          6.6\n",
       "127         6.9\n",
       "149         9.1"
      ]
     },
     "execution_count": 45,
     "metadata": {},
     "output_type": "execute_result"
    }
   ],
   "source": [
    "#First create two populations: Action and Sports, only include the user_score\n",
    "action = top_5yr.loc[top_5yr['genre'] == 'Action']\n",
    "action = action.drop(['name', 'platform', 'year_of_release', \n",
    "                          'genre', 'na_sales', 'eu_sales', 'jp_sales', 'other_sales', \n",
    "                          'critic_score', 'rating', 'total_sales'], axis=1)\n",
    "action.head()"
   ]
  },
  {
   "cell_type": "code",
   "execution_count": 46,
   "metadata": {},
   "outputs": [
    {
     "data": {
      "text/html": [
       "<div>\n",
       "<style scoped>\n",
       "    .dataframe tbody tr th:only-of-type {\n",
       "        vertical-align: middle;\n",
       "    }\n",
       "\n",
       "    .dataframe tbody tr th {\n",
       "        vertical-align: top;\n",
       "    }\n",
       "\n",
       "    .dataframe thead th {\n",
       "        text-align: right;\n",
       "    }\n",
       "</style>\n",
       "<table border=\"1\" class=\"dataframe\">\n",
       "  <thead>\n",
       "    <tr style=\"text-align: right;\">\n",
       "      <th></th>\n",
       "      <th>user_score</th>\n",
       "    </tr>\n",
       "  </thead>\n",
       "  <tbody>\n",
       "    <tr>\n",
       "      <td>77</td>\n",
       "      <td>4.3</td>\n",
       "    </tr>\n",
       "    <tr>\n",
       "      <td>94</td>\n",
       "      <td>5.0</td>\n",
       "    </tr>\n",
       "    <tr>\n",
       "      <td>126</td>\n",
       "      <td>4.3</td>\n",
       "    </tr>\n",
       "    <tr>\n",
       "      <td>143</td>\n",
       "      <td>5.7</td>\n",
       "    </tr>\n",
       "    <tr>\n",
       "      <td>264</td>\n",
       "      <td>4.5</td>\n",
       "    </tr>\n",
       "  </tbody>\n",
       "</table>\n",
       "</div>"
      ],
      "text/plain": [
       "     user_score\n",
       "77          4.3\n",
       "94          5.0\n",
       "126         4.3\n",
       "143         5.7\n",
       "264         4.5"
      ]
     },
     "execution_count": 46,
     "metadata": {},
     "output_type": "execute_result"
    }
   ],
   "source": [
    "sports = top_5yr.loc[top_5yr['genre'] == 'Sports']\n",
    "sports = sports.drop(['name', 'platform', 'year_of_release', \n",
    "                          'genre', 'na_sales', 'eu_sales', 'jp_sales', 'other_sales', \n",
    "                          'critic_score', 'rating', 'total_sales'], axis=1)\n",
    "sports.head()"
   ]
  },
  {
   "cell_type": "code",
   "execution_count": 47,
   "metadata": {},
   "outputs": [
    {
     "name": "stdout",
     "output_type": "stream",
     "text": [
      "p-value:  [2.85891149e-32]\n",
      "We reject the null hypothesis\n"
     ]
    }
   ],
   "source": [
    "alpha = 0.05 #most understood and accepted alpha value\n",
    "\n",
    "results = st.ttest_ind(action, sports)\n",
    "\n",
    "print('p-value: ', results.pvalue)\n",
    "\n",
    "if results.pvalue < alpha:\n",
    "    print('We reject the null hypothesis')\n",
    "else:\n",
    "    print(\"We can't reject the null hypothesis\") "
   ]
  },
  {
   "cell_type": "markdown",
   "metadata": {},
   "source": [
    "**Conclusion 5.2: Action and Sports User Review T-test**\n",
    "\n",
    "1) The results of the t-test show that the pvalue is much smaller than the alpha (2.85e-32 < 0.05). This means the null hypothesis is rejected and the alt hypothesis is accepted. Therefore, average user ratings for the Action and Sports genres are different."
   ]
  },
  {
   "cell_type": "markdown",
   "metadata": {},
   "source": [
    "# General Conclusion\n",
    "\n",
    "1) In order to forecast 2017 game sales performance, it is important to realize that only the most relevant platforms and games should be analyzed, therefore only games released in the last 5 years were analyzed\n",
    "\n",
    "2) The main platforms that should be focused on are PS4 and Xbox One since their graphs showed they were trending towards their prime sales output. Other platforms, such as the 3DS, are downtrending and outlived their prime sales output.\n",
    "\n",
    "3) Out of all the action and shooter games that are released, only a few become very popular and lucrative. Games to be sold should follow game series that are already established or have a lot positive community engagement about. "
   ]
  }
 ],
 "metadata": {
  "ExecuteTimeLog": [
   {
    "duration": 130,
    "start_time": "2021-10-21T14:22:47.765Z"
   },
   {
    "duration": 131,
    "start_time": "2021-10-21T14:32:21.845Z"
   },
   {
    "duration": 136,
    "start_time": "2021-10-21T14:34:44.067Z"
   },
   {
    "duration": 142,
    "start_time": "2021-10-21T14:34:48.762Z"
   },
   {
    "duration": 829,
    "start_time": "2021-10-21T14:35:15.247Z"
   },
   {
    "duration": 56,
    "start_time": "2021-10-21T14:38:12.249Z"
   },
   {
    "duration": 18,
    "start_time": "2021-10-21T15:00:49.204Z"
   },
   {
    "duration": 449,
    "start_time": "2021-10-21T15:07:50.368Z"
   },
   {
    "duration": 8,
    "start_time": "2021-10-21T15:08:30.302Z"
   },
   {
    "duration": 427,
    "start_time": "2021-10-21T15:09:37.640Z"
   },
   {
    "duration": 368,
    "start_time": "2021-10-21T15:10:13.775Z"
   },
   {
    "duration": 713,
    "start_time": "2021-10-21T15:10:37.578Z"
   },
   {
    "duration": 18,
    "start_time": "2021-10-21T15:10:38.293Z"
   },
   {
    "duration": 449,
    "start_time": "2021-10-21T15:10:38.313Z"
   },
   {
    "duration": 5,
    "start_time": "2021-10-21T15:11:46.952Z"
   },
   {
    "duration": 395,
    "start_time": "2021-10-21T15:17:09.878Z"
   },
   {
    "duration": 20,
    "start_time": "2021-10-21T15:17:21.270Z"
   },
   {
    "duration": 392,
    "start_time": "2021-10-21T18:51:36.050Z"
   },
   {
    "duration": 858,
    "start_time": "2021-10-21T18:51:50.645Z"
   },
   {
    "duration": 37,
    "start_time": "2021-10-21T18:51:51.506Z"
   },
   {
    "duration": 31,
    "start_time": "2021-10-21T18:51:51.546Z"
   },
   {
    "duration": 79,
    "start_time": "2021-10-21T18:51:51.580Z"
   },
   {
    "duration": 844,
    "start_time": "2021-10-21T18:53:09.699Z"
   },
   {
    "duration": 25,
    "start_time": "2021-10-21T18:53:10.547Z"
   },
   {
    "duration": 56,
    "start_time": "2021-10-21T18:53:10.575Z"
   },
   {
    "duration": 90,
    "start_time": "2021-10-21T18:53:10.634Z"
   },
   {
    "duration": 433,
    "start_time": "2021-10-21T18:53:40.862Z"
   },
   {
    "duration": 2309,
    "start_time": "2021-10-21T18:54:01.287Z"
   },
   {
    "duration": 153,
    "start_time": "2021-10-21T18:55:40.817Z"
   },
   {
    "duration": 873,
    "start_time": "2021-10-21T18:55:59.933Z"
   },
   {
    "duration": 32,
    "start_time": "2021-10-21T18:56:00.809Z"
   },
   {
    "duration": 35,
    "start_time": "2021-10-21T18:56:00.844Z"
   },
   {
    "duration": 171,
    "start_time": "2021-10-21T18:56:00.883Z"
   },
   {
    "duration": 133,
    "start_time": "2021-10-21T18:56:53.659Z"
   },
   {
    "duration": 56,
    "start_time": "2021-10-21T19:11:47.295Z"
   },
   {
    "duration": 834,
    "start_time": "2021-10-21T19:12:08.019Z"
   },
   {
    "duration": 25,
    "start_time": "2021-10-21T19:12:08.856Z"
   },
   {
    "duration": 65,
    "start_time": "2021-10-21T19:12:08.884Z"
   },
   {
    "duration": 148,
    "start_time": "2021-10-21T19:12:08.952Z"
   },
   {
    "duration": 63,
    "start_time": "2021-10-21T19:12:09.103Z"
   },
   {
    "duration": 72,
    "start_time": "2021-10-21T19:13:08.065Z"
   },
   {
    "duration": 6998,
    "start_time": "2021-10-21T19:16:55.598Z"
   },
   {
    "duration": 772,
    "start_time": "2021-10-21T19:17:26.874Z"
   },
   {
    "duration": 24,
    "start_time": "2021-10-21T19:17:27.649Z"
   },
   {
    "duration": 48,
    "start_time": "2021-10-21T19:17:27.676Z"
   },
   {
    "duration": 153,
    "start_time": "2021-10-21T19:17:27.726Z"
   },
   {
    "duration": 78,
    "start_time": "2021-10-21T19:17:27.881Z"
   },
   {
    "duration": 6736,
    "start_time": "2021-10-21T19:17:27.961Z"
   },
   {
    "duration": 841,
    "start_time": "2021-10-21T19:20:32.742Z"
   },
   {
    "duration": 23,
    "start_time": "2021-10-21T19:20:33.586Z"
   },
   {
    "duration": 36,
    "start_time": "2021-10-21T19:20:33.625Z"
   },
   {
    "duration": 180,
    "start_time": "2021-10-21T19:20:33.664Z"
   },
   {
    "duration": 59,
    "start_time": "2021-10-21T19:20:33.849Z"
   },
   {
    "duration": 35,
    "start_time": "2021-10-21T19:20:33.910Z"
   },
   {
    "duration": 817,
    "start_time": "2021-10-21T19:21:33.260Z"
   },
   {
    "duration": 23,
    "start_time": "2021-10-21T19:21:34.079Z"
   },
   {
    "duration": 52,
    "start_time": "2021-10-21T19:21:34.105Z"
   },
   {
    "duration": 162,
    "start_time": "2021-10-21T19:21:34.160Z"
   },
   {
    "duration": 62,
    "start_time": "2021-10-21T19:21:34.326Z"
   },
   {
    "duration": 52,
    "start_time": "2021-10-21T19:21:34.391Z"
   },
   {
    "duration": 20,
    "start_time": "2021-10-21T19:22:29.296Z"
   },
   {
    "duration": 36,
    "start_time": "2021-10-21T19:23:27.854Z"
   },
   {
    "duration": 43,
    "start_time": "2021-10-21T19:23:42.231Z"
   },
   {
    "duration": 394,
    "start_time": "2021-10-21T19:27:32.886Z"
   },
   {
    "duration": 315,
    "start_time": "2021-10-21T19:33:33.668Z"
   },
   {
    "duration": 308,
    "start_time": "2021-10-21T19:34:27.272Z"
   },
   {
    "duration": 311,
    "start_time": "2021-10-21T19:35:09.914Z"
   },
   {
    "duration": 303,
    "start_time": "2021-10-21T19:35:57.117Z"
   },
   {
    "duration": 20,
    "start_time": "2021-10-21T19:37:05.460Z"
   },
   {
    "duration": 25,
    "start_time": "2021-10-21T19:38:55.017Z"
   },
   {
    "duration": 15,
    "start_time": "2021-10-21T19:39:26.893Z"
   },
   {
    "duration": 32,
    "start_time": "2021-10-21T19:39:41.546Z"
   },
   {
    "duration": 45,
    "start_time": "2021-10-21T19:40:15.905Z"
   },
   {
    "duration": 277,
    "start_time": "2021-10-21T20:00:11.484Z"
   },
   {
    "duration": 29,
    "start_time": "2021-10-21T20:02:24.445Z"
   },
   {
    "duration": 94,
    "start_time": "2021-10-21T20:04:29.808Z"
   },
   {
    "duration": 838,
    "start_time": "2021-10-21T20:07:33.988Z"
   },
   {
    "duration": 26,
    "start_time": "2021-10-21T20:07:34.830Z"
   },
   {
    "duration": 33,
    "start_time": "2021-10-21T20:07:34.860Z"
   },
   {
    "duration": 153,
    "start_time": "2021-10-21T20:07:34.924Z"
   },
   {
    "duration": 79,
    "start_time": "2021-10-21T20:07:35.080Z"
   },
   {
    "duration": 359,
    "start_time": "2021-10-21T20:07:35.162Z"
   },
   {
    "duration": -104,
    "start_time": "2021-10-21T20:07:35.629Z"
   },
   {
    "duration": -104,
    "start_time": "2021-10-21T20:07:35.631Z"
   },
   {
    "duration": -105,
    "start_time": "2021-10-21T20:07:35.635Z"
   },
   {
    "duration": -112,
    "start_time": "2021-10-21T20:07:35.644Z"
   },
   {
    "duration": 771,
    "start_time": "2021-10-21T20:08:18.563Z"
   },
   {
    "duration": 25,
    "start_time": "2021-10-21T20:08:19.337Z"
   },
   {
    "duration": 32,
    "start_time": "2021-10-21T20:08:19.364Z"
   },
   {
    "duration": 169,
    "start_time": "2021-10-21T20:08:19.399Z"
   },
   {
    "duration": 83,
    "start_time": "2021-10-21T20:08:19.571Z"
   },
   {
    "duration": 36,
    "start_time": "2021-10-21T20:08:19.657Z"
   },
   {
    "duration": 51,
    "start_time": "2021-10-21T20:08:19.695Z"
   },
   {
    "duration": 5,
    "start_time": "2021-10-21T20:08:19.749Z"
   },
   {
    "duration": 19,
    "start_time": "2021-10-21T20:08:19.756Z"
   },
   {
    "duration": 6,
    "start_time": "2021-10-21T20:09:00.567Z"
   },
   {
    "duration": 877,
    "start_time": "2021-10-21T20:09:09.692Z"
   },
   {
    "duration": 22,
    "start_time": "2021-10-21T20:09:10.572Z"
   },
   {
    "duration": 43,
    "start_time": "2021-10-21T20:09:10.598Z"
   },
   {
    "duration": 150,
    "start_time": "2021-10-21T20:09:10.644Z"
   },
   {
    "duration": 73,
    "start_time": "2021-10-21T20:09:10.796Z"
   },
   {
    "duration": 53,
    "start_time": "2021-10-21T20:09:10.871Z"
   },
   {
    "duration": 35,
    "start_time": "2021-10-21T20:09:10.926Z"
   },
   {
    "duration": 6,
    "start_time": "2021-10-21T20:09:10.964Z"
   },
   {
    "duration": 59,
    "start_time": "2021-10-21T20:09:10.973Z"
   },
   {
    "duration": 15,
    "start_time": "2021-10-21T20:11:08.503Z"
   },
   {
    "duration": 9,
    "start_time": "2021-10-21T20:11:45.426Z"
   },
   {
    "duration": 924,
    "start_time": "2021-10-21T20:16:02.332Z"
   },
   {
    "duration": 24,
    "start_time": "2021-10-21T20:16:03.260Z"
   },
   {
    "duration": 47,
    "start_time": "2021-10-21T20:16:03.287Z"
   },
   {
    "duration": 158,
    "start_time": "2021-10-21T20:16:03.337Z"
   },
   {
    "duration": 80,
    "start_time": "2021-10-21T20:16:03.498Z"
   },
   {
    "duration": 59,
    "start_time": "2021-10-21T20:16:03.581Z"
   },
   {
    "duration": 36,
    "start_time": "2021-10-21T20:16:03.643Z"
   },
   {
    "duration": 44,
    "start_time": "2021-10-21T20:16:03.683Z"
   },
   {
    "duration": 40,
    "start_time": "2021-10-21T20:16:03.730Z"
   },
   {
    "duration": 54,
    "start_time": "2021-10-21T20:16:03.772Z"
   },
   {
    "duration": 48,
    "start_time": "2021-10-21T20:16:12.822Z"
   },
   {
    "duration": 24,
    "start_time": "2021-10-21T21:12:43.250Z"
   },
   {
    "duration": 1010,
    "start_time": "2021-10-21T21:13:03.895Z"
   },
   {
    "duration": 24,
    "start_time": "2021-10-21T21:13:04.907Z"
   },
   {
    "duration": 27,
    "start_time": "2021-10-21T21:13:04.934Z"
   },
   {
    "duration": 166,
    "start_time": "2021-10-21T21:13:04.963Z"
   },
   {
    "duration": 61,
    "start_time": "2021-10-21T21:13:05.132Z"
   },
   {
    "duration": 66,
    "start_time": "2021-10-21T21:13:05.196Z"
   },
   {
    "duration": 61,
    "start_time": "2021-10-21T21:13:05.264Z"
   },
   {
    "duration": 13,
    "start_time": "2021-10-21T21:13:05.329Z"
   },
   {
    "duration": 81,
    "start_time": "2021-10-21T21:13:05.345Z"
   },
   {
    "duration": 29,
    "start_time": "2021-10-21T21:13:05.429Z"
   },
   {
    "duration": 14,
    "start_time": "2021-10-21T21:19:44.891Z"
   },
   {
    "duration": 14,
    "start_time": "2021-10-21T21:24:31.068Z"
   },
   {
    "duration": 9,
    "start_time": "2021-10-21T21:25:12.188Z"
   },
   {
    "duration": 16,
    "start_time": "2021-10-21T21:26:11.224Z"
   },
   {
    "duration": 17,
    "start_time": "2021-10-21T21:26:13.442Z"
   },
   {
    "duration": 825,
    "start_time": "2021-10-21T21:26:20.705Z"
   },
   {
    "duration": 23,
    "start_time": "2021-10-21T21:26:21.533Z"
   },
   {
    "duration": 30,
    "start_time": "2021-10-21T21:26:21.559Z"
   },
   {
    "duration": 167,
    "start_time": "2021-10-21T21:26:21.592Z"
   },
   {
    "duration": 35,
    "start_time": "2021-10-21T21:26:21.762Z"
   },
   {
    "duration": 32,
    "start_time": "2021-10-21T21:26:21.822Z"
   },
   {
    "duration": 11,
    "start_time": "2021-10-21T21:26:21.857Z"
   },
   {
    "duration": 55,
    "start_time": "2021-10-21T21:26:21.872Z"
   },
   {
    "duration": 11,
    "start_time": "2021-10-21T21:26:21.930Z"
   },
   {
    "duration": 14,
    "start_time": "2021-10-21T21:26:21.944Z"
   },
   {
    "duration": 17,
    "start_time": "2021-10-21T21:26:21.961Z"
   },
   {
    "duration": 48,
    "start_time": "2021-10-21T21:26:21.980Z"
   },
   {
    "duration": 33,
    "start_time": "2021-10-21T21:26:55.595Z"
   },
   {
    "duration": 822,
    "start_time": "2021-10-21T21:27:03.648Z"
   },
   {
    "duration": 24,
    "start_time": "2021-10-21T21:27:04.472Z"
   },
   {
    "duration": 46,
    "start_time": "2021-10-21T21:27:04.499Z"
   },
   {
    "duration": 143,
    "start_time": "2021-10-21T21:27:04.548Z"
   },
   {
    "duration": 55,
    "start_time": "2021-10-21T21:27:04.693Z"
   },
   {
    "duration": 32,
    "start_time": "2021-10-21T21:27:04.750Z"
   },
   {
    "duration": 38,
    "start_time": "2021-10-21T21:27:04.784Z"
   },
   {
    "duration": 33,
    "start_time": "2021-10-21T21:27:04.825Z"
   },
   {
    "duration": 10,
    "start_time": "2021-10-21T21:27:04.861Z"
   },
   {
    "duration": 51,
    "start_time": "2021-10-21T21:27:04.874Z"
   },
   {
    "duration": 14,
    "start_time": "2021-10-21T21:27:04.928Z"
   },
   {
    "duration": 13,
    "start_time": "2021-10-21T21:27:04.945Z"
   },
   {
    "duration": 44,
    "start_time": "2021-10-21T21:27:23.115Z"
   },
   {
    "duration": 825,
    "start_time": "2021-10-21T21:27:39.680Z"
   },
   {
    "duration": 24,
    "start_time": "2021-10-21T21:27:40.508Z"
   },
   {
    "duration": 28,
    "start_time": "2021-10-21T21:27:40.535Z"
   },
   {
    "duration": 170,
    "start_time": "2021-10-21T21:27:40.566Z"
   },
   {
    "duration": 37,
    "start_time": "2021-10-21T21:27:40.738Z"
   },
   {
    "duration": 67,
    "start_time": "2021-10-21T21:27:40.778Z"
   },
   {
    "duration": 9,
    "start_time": "2021-10-21T21:27:40.848Z"
   },
   {
    "duration": 81,
    "start_time": "2021-10-21T21:27:40.860Z"
   },
   {
    "duration": 11,
    "start_time": "2021-10-21T21:27:40.945Z"
   },
   {
    "duration": 20,
    "start_time": "2021-10-21T21:27:40.959Z"
   },
   {
    "duration": 48,
    "start_time": "2021-10-21T21:27:40.983Z"
   },
   {
    "duration": 10,
    "start_time": "2021-10-21T21:27:41.033Z"
   },
   {
    "duration": 39,
    "start_time": "2021-10-21T21:31:13.114Z"
   },
   {
    "duration": 836,
    "start_time": "2021-10-21T21:31:23.197Z"
   },
   {
    "duration": 24,
    "start_time": "2021-10-21T21:31:24.036Z"
   },
   {
    "duration": 26,
    "start_time": "2021-10-21T21:31:24.063Z"
   },
   {
    "duration": 144,
    "start_time": "2021-10-21T21:31:24.122Z"
   },
   {
    "duration": 56,
    "start_time": "2021-10-21T21:31:24.268Z"
   },
   {
    "duration": 33,
    "start_time": "2021-10-21T21:31:24.326Z"
   },
   {
    "duration": 9,
    "start_time": "2021-10-21T21:31:24.361Z"
   },
   {
    "duration": 73,
    "start_time": "2021-10-21T21:31:24.373Z"
   },
   {
    "duration": 9,
    "start_time": "2021-10-21T21:31:24.449Z"
   },
   {
    "duration": 17,
    "start_time": "2021-10-21T21:31:24.460Z"
   },
   {
    "duration": 43,
    "start_time": "2021-10-21T21:31:24.479Z"
   },
   {
    "duration": 10,
    "start_time": "2021-10-21T21:31:24.525Z"
   },
   {
    "duration": 12,
    "start_time": "2021-10-21T21:33:30.503Z"
   },
   {
    "duration": 340,
    "start_time": "2021-10-21T21:33:52.159Z"
   },
   {
    "duration": 14,
    "start_time": "2021-10-21T21:33:57.080Z"
   },
   {
    "duration": 14,
    "start_time": "2021-10-21T21:34:14.659Z"
   },
   {
    "duration": 18,
    "start_time": "2021-10-21T21:36:26.676Z"
   },
   {
    "duration": 26,
    "start_time": "2021-10-21T21:41:27.488Z"
   },
   {
    "duration": 24,
    "start_time": "2021-10-21T21:43:29.901Z"
   },
   {
    "duration": 865,
    "start_time": "2021-10-21T21:50:11.634Z"
   },
   {
    "duration": 32,
    "start_time": "2021-10-21T21:50:12.502Z"
   },
   {
    "duration": 26,
    "start_time": "2021-10-21T21:50:12.537Z"
   },
   {
    "duration": 193,
    "start_time": "2021-10-21T21:50:12.566Z"
   },
   {
    "duration": 75,
    "start_time": "2021-10-21T21:50:12.762Z"
   },
   {
    "duration": 32,
    "start_time": "2021-10-21T21:50:12.839Z"
   },
   {
    "duration": 9,
    "start_time": "2021-10-21T21:50:12.873Z"
   },
   {
    "duration": 73,
    "start_time": "2021-10-21T21:50:12.885Z"
   },
   {
    "duration": 14,
    "start_time": "2021-10-21T21:50:12.963Z"
   },
   {
    "duration": 51,
    "start_time": "2021-10-21T21:50:12.980Z"
   },
   {
    "duration": 15,
    "start_time": "2021-10-21T21:50:13.033Z"
   },
   {
    "duration": 13,
    "start_time": "2021-10-21T21:50:13.051Z"
   },
   {
    "duration": 14,
    "start_time": "2021-10-21T21:50:13.067Z"
   },
   {
    "duration": 52,
    "start_time": "2021-10-21T21:50:13.083Z"
   },
   {
    "duration": 24,
    "start_time": "2021-10-21T21:50:13.138Z"
   },
   {
    "duration": 26,
    "start_time": "2021-10-21T21:51:23.259Z"
   },
   {
    "duration": 9,
    "start_time": "2021-10-21T22:37:37.140Z"
   },
   {
    "duration": 406,
    "start_time": "2021-10-21T22:41:12.284Z"
   },
   {
    "duration": 296,
    "start_time": "2021-10-21T22:41:30.155Z"
   },
   {
    "duration": 447,
    "start_time": "2021-10-21T22:42:27.640Z"
   },
   {
    "duration": 399,
    "start_time": "2021-10-21T22:42:36.173Z"
   },
   {
    "duration": 346,
    "start_time": "2021-10-21T22:42:41.186Z"
   },
   {
    "duration": 799,
    "start_time": "2021-10-21T22:44:58.576Z"
   },
   {
    "duration": 352,
    "start_time": "2021-10-21T22:45:43.521Z"
   },
   {
    "duration": 10,
    "start_time": "2021-10-21T22:52:51.512Z"
   },
   {
    "duration": 11,
    "start_time": "2021-10-21T22:53:23.473Z"
   },
   {
    "duration": 12,
    "start_time": "2021-10-21T22:57:31.578Z"
   },
   {
    "duration": 270,
    "start_time": "2021-10-21T22:59:23.094Z"
   },
   {
    "duration": 260,
    "start_time": "2021-10-21T23:02:29.102Z"
   },
   {
    "duration": 279,
    "start_time": "2021-10-21T23:02:50.269Z"
   },
   {
    "duration": 308,
    "start_time": "2021-10-21T23:07:29.764Z"
   },
   {
    "duration": 27,
    "start_time": "2021-10-21T23:07:37.636Z"
   },
   {
    "duration": 27,
    "start_time": "2021-10-21T23:07:53.051Z"
   },
   {
    "duration": 347,
    "start_time": "2021-10-21T23:12:13.738Z"
   },
   {
    "duration": 328,
    "start_time": "2021-10-21T23:12:20.941Z"
   },
   {
    "duration": 380,
    "start_time": "2021-10-21T23:17:46.844Z"
   },
   {
    "duration": 49,
    "start_time": "2021-10-22T00:07:32.368Z"
   },
   {
    "duration": 541,
    "start_time": "2021-10-22T00:08:42.895Z"
   },
   {
    "duration": 372,
    "start_time": "2021-10-22T00:09:09.315Z"
   },
   {
    "duration": 469,
    "start_time": "2021-10-22T00:09:51.975Z"
   },
   {
    "duration": 409,
    "start_time": "2021-10-22T00:10:02.136Z"
   },
   {
    "duration": 460,
    "start_time": "2021-10-22T00:10:13.445Z"
   },
   {
    "duration": 426,
    "start_time": "2021-10-22T00:10:19.881Z"
   },
   {
    "duration": 420,
    "start_time": "2021-10-22T00:11:52.305Z"
   },
   {
    "duration": 704,
    "start_time": "2021-10-22T00:15:13.408Z"
   },
   {
    "duration": 847,
    "start_time": "2021-10-22T00:15:57.983Z"
   },
   {
    "duration": 25,
    "start_time": "2021-10-22T00:15:58.833Z"
   },
   {
    "duration": 27,
    "start_time": "2021-10-22T00:15:58.861Z"
   },
   {
    "duration": 179,
    "start_time": "2021-10-22T00:15:58.890Z"
   },
   {
    "duration": 52,
    "start_time": "2021-10-22T00:15:59.071Z"
   },
   {
    "duration": 32,
    "start_time": "2021-10-22T00:15:59.126Z"
   },
   {
    "duration": 9,
    "start_time": "2021-10-22T00:15:59.160Z"
   },
   {
    "duration": 79,
    "start_time": "2021-10-22T00:15:59.173Z"
   },
   {
    "duration": 9,
    "start_time": "2021-10-22T00:15:59.255Z"
   },
   {
    "duration": 15,
    "start_time": "2021-10-22T00:15:59.267Z"
   },
   {
    "duration": 43,
    "start_time": "2021-10-22T00:15:59.284Z"
   },
   {
    "duration": 9,
    "start_time": "2021-10-22T00:15:59.330Z"
   },
   {
    "duration": 16,
    "start_time": "2021-10-22T00:15:59.341Z"
   },
   {
    "duration": 20,
    "start_time": "2021-10-22T00:15:59.359Z"
   },
   {
    "duration": 62,
    "start_time": "2021-10-22T00:15:59.381Z"
   },
   {
    "duration": 26,
    "start_time": "2021-10-22T00:15:59.446Z"
   },
   {
    "duration": 464,
    "start_time": "2021-10-22T00:15:59.475Z"
   },
   {
    "duration": 10,
    "start_time": "2021-10-22T00:15:59.942Z"
   },
   {
    "duration": 25,
    "start_time": "2021-10-22T00:15:59.955Z"
   },
   {
    "duration": 700,
    "start_time": "2021-10-22T00:15:59.982Z"
   },
   {
    "duration": 812,
    "start_time": "2021-10-22T00:16:54.117Z"
   },
   {
    "duration": 410,
    "start_time": "2021-10-22T00:18:35.258Z"
   },
   {
    "duration": 250,
    "start_time": "2021-10-22T23:39:27.145Z"
   },
   {
    "duration": 925,
    "start_time": "2021-10-22T23:39:37.969Z"
   },
   {
    "duration": 37,
    "start_time": "2021-10-22T23:39:38.897Z"
   },
   {
    "duration": 36,
    "start_time": "2021-10-22T23:39:38.938Z"
   },
   {
    "duration": 180,
    "start_time": "2021-10-22T23:39:38.976Z"
   },
   {
    "duration": 37,
    "start_time": "2021-10-22T23:39:39.162Z"
   },
   {
    "duration": 70,
    "start_time": "2021-10-22T23:39:39.202Z"
   },
   {
    "duration": 8,
    "start_time": "2021-10-22T23:39:39.274Z"
   },
   {
    "duration": 85,
    "start_time": "2021-10-22T23:39:39.285Z"
   },
   {
    "duration": 10,
    "start_time": "2021-10-22T23:39:39.373Z"
   },
   {
    "duration": 14,
    "start_time": "2021-10-22T23:39:39.385Z"
   },
   {
    "duration": 42,
    "start_time": "2021-10-22T23:39:39.402Z"
   },
   {
    "duration": 12,
    "start_time": "2021-10-22T23:39:39.447Z"
   },
   {
    "duration": 13,
    "start_time": "2021-10-22T23:39:39.462Z"
   },
   {
    "duration": 18,
    "start_time": "2021-10-22T23:39:39.478Z"
   },
   {
    "duration": 67,
    "start_time": "2021-10-22T23:39:39.498Z"
   },
   {
    "duration": 24,
    "start_time": "2021-10-22T23:39:39.568Z"
   },
   {
    "duration": 516,
    "start_time": "2021-10-22T23:39:39.594Z"
   },
   {
    "duration": 19,
    "start_time": "2021-10-22T23:39:40.112Z"
   },
   {
    "duration": 33,
    "start_time": "2021-10-22T23:39:40.133Z"
   },
   {
    "duration": 510,
    "start_time": "2021-10-22T23:39:40.168Z"
   },
   {
    "duration": 16,
    "start_time": "2021-10-22T23:39:40.681Z"
   },
   {
    "duration": 47,
    "start_time": "2021-10-22T23:41:01.738Z"
   },
   {
    "duration": 28,
    "start_time": "2021-10-22T23:45:44.826Z"
   },
   {
    "duration": 46,
    "start_time": "2021-10-23T00:46:02.206Z"
   },
   {
    "duration": 49,
    "start_time": "2021-10-23T00:46:20.535Z"
   },
   {
    "duration": 1078,
    "start_time": "2021-10-23T00:47:06.014Z"
   },
   {
    "duration": 43,
    "start_time": "2021-10-23T00:47:07.095Z"
   },
   {
    "duration": 30,
    "start_time": "2021-10-23T00:47:07.142Z"
   },
   {
    "duration": 176,
    "start_time": "2021-10-23T00:47:07.175Z"
   },
   {
    "duration": 36,
    "start_time": "2021-10-23T00:47:07.353Z"
   },
   {
    "duration": 61,
    "start_time": "2021-10-23T00:47:07.392Z"
   },
   {
    "duration": 8,
    "start_time": "2021-10-23T00:47:07.455Z"
   },
   {
    "duration": 37,
    "start_time": "2021-10-23T00:47:07.466Z"
   },
   {
    "duration": 36,
    "start_time": "2021-10-23T00:47:07.506Z"
   },
   {
    "duration": 16,
    "start_time": "2021-10-23T00:47:07.546Z"
   },
   {
    "duration": 14,
    "start_time": "2021-10-23T00:47:07.564Z"
   },
   {
    "duration": 8,
    "start_time": "2021-10-23T00:47:07.580Z"
   },
   {
    "duration": 18,
    "start_time": "2021-10-23T00:47:07.630Z"
   },
   {
    "duration": 23,
    "start_time": "2021-10-23T00:47:07.651Z"
   },
   {
    "duration": 58,
    "start_time": "2021-10-23T00:47:07.676Z"
   },
   {
    "duration": 27,
    "start_time": "2021-10-23T00:47:07.737Z"
   },
   {
    "duration": 458,
    "start_time": "2021-10-23T00:47:07.766Z"
   },
   {
    "duration": 18,
    "start_time": "2021-10-23T00:47:08.228Z"
   },
   {
    "duration": 29,
    "start_time": "2021-10-23T00:47:08.250Z"
   },
   {
    "duration": 464,
    "start_time": "2021-10-23T00:47:08.282Z"
   },
   {
    "duration": 12,
    "start_time": "2021-10-23T00:47:08.748Z"
   },
   {
    "duration": 68,
    "start_time": "2021-10-23T00:47:08.762Z"
   },
   {
    "duration": 82,
    "start_time": "2021-10-23T00:49:01.464Z"
   },
   {
    "duration": 777,
    "start_time": "2021-10-23T00:49:25.088Z"
   },
   {
    "duration": 24,
    "start_time": "2021-10-23T00:49:25.868Z"
   },
   {
    "duration": 57,
    "start_time": "2021-10-23T00:49:25.895Z"
   },
   {
    "duration": 159,
    "start_time": "2021-10-23T00:49:25.956Z"
   },
   {
    "duration": 37,
    "start_time": "2021-10-23T00:49:26.994Z"
   },
   {
    "duration": 36,
    "start_time": "2021-10-23T00:49:27.034Z"
   },
   {
    "duration": 9,
    "start_time": "2021-10-23T00:49:27.214Z"
   },
   {
    "duration": 39,
    "start_time": "2021-10-23T00:49:27.226Z"
   },
   {
    "duration": 9,
    "start_time": "2021-10-23T00:49:27.268Z"
   },
   {
    "duration": 15,
    "start_time": "2021-10-23T00:49:27.280Z"
   },
   {
    "duration": 41,
    "start_time": "2021-10-23T00:49:27.298Z"
   },
   {
    "duration": 10,
    "start_time": "2021-10-23T00:49:27.477Z"
   },
   {
    "duration": 21,
    "start_time": "2021-10-23T00:49:27.491Z"
   },
   {
    "duration": 19,
    "start_time": "2021-10-23T00:49:27.515Z"
   },
   {
    "duration": 31,
    "start_time": "2021-10-23T00:49:27.536Z"
   },
   {
    "duration": 47,
    "start_time": "2021-10-23T00:49:27.570Z"
   },
   {
    "duration": 472,
    "start_time": "2021-10-23T00:49:27.619Z"
   },
   {
    "duration": 13,
    "start_time": "2021-10-23T00:49:28.095Z"
   },
   {
    "duration": 45,
    "start_time": "2021-10-23T00:49:28.111Z"
   },
   {
    "duration": 445,
    "start_time": "2021-10-23T00:49:28.159Z"
   },
   {
    "duration": 26,
    "start_time": "2021-10-23T00:49:28.606Z"
   },
   {
    "duration": 78,
    "start_time": "2021-10-23T00:49:28.635Z"
   },
   {
    "duration": 26,
    "start_time": "2021-10-23T00:49:44.740Z"
   },
   {
    "duration": 311,
    "start_time": "2021-10-23T00:49:58.698Z"
   },
   {
    "duration": 13,
    "start_time": "2021-10-23T00:50:20.317Z"
   },
   {
    "duration": 52,
    "start_time": "2021-10-23T00:51:28.664Z"
   },
   {
    "duration": 15,
    "start_time": "2021-10-23T00:52:09.427Z"
   },
   {
    "duration": 11,
    "start_time": "2021-10-23T00:56:41.734Z"
   },
   {
    "duration": 453,
    "start_time": "2021-10-23T01:00:36.793Z"
   },
   {
    "duration": 468,
    "start_time": "2021-10-23T01:04:04.740Z"
   },
   {
    "duration": 821,
    "start_time": "2021-10-23T01:06:17.098Z"
   },
   {
    "duration": 22,
    "start_time": "2021-10-23T01:06:17.922Z"
   },
   {
    "duration": 25,
    "start_time": "2021-10-23T01:06:17.947Z"
   },
   {
    "duration": 158,
    "start_time": "2021-10-23T01:06:17.975Z"
   },
   {
    "duration": 34,
    "start_time": "2021-10-23T01:06:18.135Z"
   },
   {
    "duration": 58,
    "start_time": "2021-10-23T01:06:18.172Z"
   },
   {
    "duration": 8,
    "start_time": "2021-10-23T01:06:18.233Z"
   },
   {
    "duration": 42,
    "start_time": "2021-10-23T01:06:18.244Z"
   },
   {
    "duration": 9,
    "start_time": "2021-10-23T01:06:18.290Z"
   },
   {
    "duration": 17,
    "start_time": "2021-10-23T01:06:18.330Z"
   },
   {
    "duration": 14,
    "start_time": "2021-10-23T01:06:18.349Z"
   },
   {
    "duration": 14,
    "start_time": "2021-10-23T01:06:18.366Z"
   },
   {
    "duration": 17,
    "start_time": "2021-10-23T01:06:18.383Z"
   },
   {
    "duration": 20,
    "start_time": "2021-10-23T01:06:18.429Z"
   },
   {
    "duration": 24,
    "start_time": "2021-10-23T01:06:18.451Z"
   },
   {
    "duration": 52,
    "start_time": "2021-10-23T01:06:18.478Z"
   },
   {
    "duration": 443,
    "start_time": "2021-10-23T01:06:18.533Z"
   },
   {
    "duration": 11,
    "start_time": "2021-10-23T01:06:18.978Z"
   },
   {
    "duration": 44,
    "start_time": "2021-10-23T01:06:18.991Z"
   },
   {
    "duration": 413,
    "start_time": "2021-10-23T01:06:19.037Z"
   },
   {
    "duration": 12,
    "start_time": "2021-10-23T01:06:19.452Z"
   },
   {
    "duration": 10,
    "start_time": "2021-10-23T01:06:19.467Z"
   },
   {
    "duration": 470,
    "start_time": "2021-10-23T01:06:19.479Z"
   },
   {
    "duration": 86,
    "start_time": "2021-10-23T01:09:39.449Z"
   },
   {
    "duration": 426,
    "start_time": "2021-10-23T01:10:48.409Z"
   },
   {
    "duration": 796,
    "start_time": "2021-10-23T01:47:00.101Z"
   },
   {
    "duration": 35,
    "start_time": "2021-10-23T01:47:00.900Z"
   },
   {
    "duration": 25,
    "start_time": "2021-10-23T01:47:00.939Z"
   },
   {
    "duration": 164,
    "start_time": "2021-10-23T01:47:00.966Z"
   },
   {
    "duration": 36,
    "start_time": "2021-10-23T01:47:01.132Z"
   },
   {
    "duration": 62,
    "start_time": "2021-10-23T01:47:01.170Z"
   },
   {
    "duration": 9,
    "start_time": "2021-10-23T01:47:01.234Z"
   },
   {
    "duration": 43,
    "start_time": "2021-10-23T01:47:01.245Z"
   },
   {
    "duration": 38,
    "start_time": "2021-10-23T01:47:01.292Z"
   },
   {
    "duration": 17,
    "start_time": "2021-10-23T01:47:01.333Z"
   },
   {
    "duration": 15,
    "start_time": "2021-10-23T01:47:01.352Z"
   },
   {
    "duration": 20,
    "start_time": "2021-10-23T01:47:01.369Z"
   },
   {
    "duration": 44,
    "start_time": "2021-10-23T01:47:01.392Z"
   },
   {
    "duration": 19,
    "start_time": "2021-10-23T01:47:01.439Z"
   },
   {
    "duration": 24,
    "start_time": "2021-10-23T01:47:01.461Z"
   },
   {
    "duration": 56,
    "start_time": "2021-10-23T01:47:01.488Z"
   },
   {
    "duration": 451,
    "start_time": "2021-10-23T01:47:01.547Z"
   },
   {
    "duration": 12,
    "start_time": "2021-10-23T01:47:02.000Z"
   },
   {
    "duration": 26,
    "start_time": "2021-10-23T01:47:02.030Z"
   },
   {
    "duration": 424,
    "start_time": "2021-10-23T01:47:02.058Z"
   },
   {
    "duration": 13,
    "start_time": "2021-10-23T01:47:02.484Z"
   },
   {
    "duration": 33,
    "start_time": "2021-10-23T01:47:02.499Z"
   },
   {
    "duration": 471,
    "start_time": "2021-10-23T01:47:02.534Z"
   },
   {
    "duration": 496,
    "start_time": "2021-10-23T01:47:03.008Z"
   },
   {
    "duration": 526,
    "start_time": "2021-10-23T01:49:55.892Z"
   },
   {
    "duration": 693,
    "start_time": "2021-10-23T01:53:56.304Z"
   },
   {
    "duration": 478,
    "start_time": "2021-10-23T01:54:23.132Z"
   },
   {
    "duration": 836,
    "start_time": "2021-10-23T01:56:40.533Z"
   },
   {
    "duration": 25,
    "start_time": "2021-10-23T01:56:41.372Z"
   },
   {
    "duration": 51,
    "start_time": "2021-10-23T01:56:41.400Z"
   },
   {
    "duration": 160,
    "start_time": "2021-10-23T01:56:41.454Z"
   },
   {
    "duration": 49,
    "start_time": "2021-10-23T01:56:41.616Z"
   },
   {
    "duration": 29,
    "start_time": "2021-10-23T01:56:41.667Z"
   },
   {
    "duration": 37,
    "start_time": "2021-10-23T01:56:41.698Z"
   },
   {
    "duration": 40,
    "start_time": "2021-10-23T01:56:41.739Z"
   },
   {
    "duration": 10,
    "start_time": "2021-10-23T01:56:41.785Z"
   },
   {
    "duration": 22,
    "start_time": "2021-10-23T01:56:41.832Z"
   },
   {
    "duration": 14,
    "start_time": "2021-10-23T01:56:41.856Z"
   },
   {
    "duration": 19,
    "start_time": "2021-10-23T01:56:41.873Z"
   },
   {
    "duration": 42,
    "start_time": "2021-10-23T01:56:41.894Z"
   },
   {
    "duration": 21,
    "start_time": "2021-10-23T01:56:41.939Z"
   },
   {
    "duration": 25,
    "start_time": "2021-10-23T01:56:41.962Z"
   },
   {
    "duration": 58,
    "start_time": "2021-10-23T01:56:41.989Z"
   },
   {
    "duration": 457,
    "start_time": "2021-10-23T01:56:42.049Z"
   },
   {
    "duration": 21,
    "start_time": "2021-10-23T01:56:42.508Z"
   },
   {
    "duration": 29,
    "start_time": "2021-10-23T01:56:42.532Z"
   },
   {
    "duration": 453,
    "start_time": "2021-10-23T01:56:42.564Z"
   },
   {
    "duration": 21,
    "start_time": "2021-10-23T01:56:43.020Z"
   },
   {
    "duration": 11,
    "start_time": "2021-10-23T01:56:43.044Z"
   },
   {
    "duration": 523,
    "start_time": "2021-10-23T01:56:43.057Z"
   },
   {
    "duration": 575,
    "start_time": "2021-10-23T01:56:43.582Z"
   },
   {
    "duration": 372,
    "start_time": "2021-10-23T20:41:19.993Z"
   },
   {
    "duration": 756,
    "start_time": "2021-10-23T20:41:36.455Z"
   },
   {
    "duration": 16,
    "start_time": "2021-10-23T20:41:37.213Z"
   },
   {
    "duration": 19,
    "start_time": "2021-10-23T20:41:37.231Z"
   },
   {
    "duration": 115,
    "start_time": "2021-10-23T20:41:37.252Z"
   },
   {
    "duration": 29,
    "start_time": "2021-10-23T20:41:37.376Z"
   },
   {
    "duration": 29,
    "start_time": "2021-10-23T20:41:37.408Z"
   },
   {
    "duration": 7,
    "start_time": "2021-10-23T20:41:37.439Z"
   },
   {
    "duration": 28,
    "start_time": "2021-10-23T20:41:37.486Z"
   },
   {
    "duration": 7,
    "start_time": "2021-10-23T20:41:37.517Z"
   },
   {
    "duration": 12,
    "start_time": "2021-10-23T20:41:37.526Z"
   },
   {
    "duration": 10,
    "start_time": "2021-10-23T20:41:37.540Z"
   },
   {
    "duration": 10,
    "start_time": "2021-10-23T20:41:37.577Z"
   },
   {
    "duration": 17,
    "start_time": "2021-10-23T20:41:37.589Z"
   },
   {
    "duration": 17,
    "start_time": "2021-10-23T20:41:37.608Z"
   },
   {
    "duration": 15,
    "start_time": "2021-10-23T20:41:37.627Z"
   },
   {
    "duration": 56,
    "start_time": "2021-10-23T20:41:37.644Z"
   },
   {
    "duration": 296,
    "start_time": "2021-10-23T20:41:37.702Z"
   },
   {
    "duration": 8,
    "start_time": "2021-10-23T20:41:38.000Z"
   },
   {
    "duration": 16,
    "start_time": "2021-10-23T20:41:38.010Z"
   },
   {
    "duration": 303,
    "start_time": "2021-10-23T20:41:38.028Z"
   },
   {
    "duration": 9,
    "start_time": "2021-10-23T20:41:38.333Z"
   },
   {
    "duration": 8,
    "start_time": "2021-10-23T20:41:38.343Z"
   },
   {
    "duration": 319,
    "start_time": "2021-10-23T20:41:38.354Z"
   },
   {
    "duration": 376,
    "start_time": "2021-10-23T20:41:38.677Z"
   },
   {
    "duration": 398,
    "start_time": "2021-10-23T20:41:39.055Z"
   },
   {
    "duration": 22,
    "start_time": "2021-10-23T20:43:01.174Z"
   },
   {
    "duration": 381,
    "start_time": "2021-10-23T20:46:19.460Z"
   },
   {
    "duration": 12,
    "start_time": "2021-10-23T20:46:35.801Z"
   },
   {
    "duration": 2717,
    "start_time": "2021-10-23T20:48:32.802Z"
   },
   {
    "duration": 2913,
    "start_time": "2021-10-23T20:49:00.063Z"
   },
   {
    "duration": 3157,
    "start_time": "2021-10-23T20:49:20.192Z"
   },
   {
    "duration": 3002,
    "start_time": "2021-10-23T20:49:36.054Z"
   },
   {
    "duration": 4547,
    "start_time": "2021-10-23T20:52:27.363Z"
   },
   {
    "duration": 3097,
    "start_time": "2021-10-23T20:52:38.917Z"
   },
   {
    "duration": 2821,
    "start_time": "2021-10-23T20:52:43.844Z"
   },
   {
    "duration": 356,
    "start_time": "2021-10-23T20:54:32.844Z"
   },
   {
    "duration": 743,
    "start_time": "2021-10-23T20:54:46.655Z"
   },
   {
    "duration": 22,
    "start_time": "2021-10-23T20:54:47.400Z"
   },
   {
    "duration": 31,
    "start_time": "2021-10-23T20:54:47.425Z"
   },
   {
    "duration": 141,
    "start_time": "2021-10-23T20:54:47.458Z"
   },
   {
    "duration": 24,
    "start_time": "2021-10-23T20:54:47.601Z"
   },
   {
    "duration": 53,
    "start_time": "2021-10-23T20:54:47.627Z"
   },
   {
    "duration": 8,
    "start_time": "2021-10-23T20:54:47.686Z"
   },
   {
    "duration": 25,
    "start_time": "2021-10-23T20:54:47.698Z"
   },
   {
    "duration": 6,
    "start_time": "2021-10-23T20:54:47.725Z"
   },
   {
    "duration": 12,
    "start_time": "2021-10-23T20:54:47.733Z"
   },
   {
    "duration": 20,
    "start_time": "2021-10-23T20:54:47.776Z"
   },
   {
    "duration": 9,
    "start_time": "2021-10-23T20:54:47.797Z"
   },
   {
    "duration": 11,
    "start_time": "2021-10-23T20:54:47.808Z"
   },
   {
    "duration": 14,
    "start_time": "2021-10-23T20:54:47.820Z"
   },
   {
    "duration": 55,
    "start_time": "2021-10-23T20:54:47.836Z"
   },
   {
    "duration": 18,
    "start_time": "2021-10-23T20:54:47.894Z"
   },
   {
    "duration": 312,
    "start_time": "2021-10-23T20:54:47.914Z"
   },
   {
    "duration": 9,
    "start_time": "2021-10-23T20:54:48.229Z"
   },
   {
    "duration": 39,
    "start_time": "2021-10-23T20:54:48.240Z"
   },
   {
    "duration": 271,
    "start_time": "2021-10-23T20:54:48.283Z"
   },
   {
    "duration": 21,
    "start_time": "2021-10-23T20:54:48.556Z"
   },
   {
    "duration": 10,
    "start_time": "2021-10-23T20:54:48.580Z"
   },
   {
    "duration": 322,
    "start_time": "2021-10-23T20:54:48.593Z"
   },
   {
    "duration": 380,
    "start_time": "2021-10-23T20:54:48.917Z"
   },
   {
    "duration": 14,
    "start_time": "2021-10-23T20:54:49.299Z"
   },
   {
    "duration": 16,
    "start_time": "2021-10-23T20:54:49.315Z"
   },
   {
    "duration": 2568,
    "start_time": "2021-10-23T20:54:49.333Z"
   },
   {
    "duration": 122,
    "start_time": "2021-10-23T20:56:10.810Z"
   },
   {
    "duration": 42,
    "start_time": "2021-10-23T20:56:14.579Z"
   },
   {
    "duration": 26,
    "start_time": "2021-10-23T20:58:21.781Z"
   },
   {
    "duration": 452,
    "start_time": "2021-10-23T21:00:28.527Z"
   },
   {
    "duration": 19,
    "start_time": "2021-10-23T21:00:44.778Z"
   },
   {
    "duration": 718,
    "start_time": "2021-10-23T21:00:55.580Z"
   },
   {
    "duration": 16,
    "start_time": "2021-10-23T21:00:56.300Z"
   },
   {
    "duration": 19,
    "start_time": "2021-10-23T21:00:56.318Z"
   },
   {
    "duration": 128,
    "start_time": "2021-10-23T21:00:56.339Z"
   },
   {
    "duration": 32,
    "start_time": "2021-10-23T21:00:56.468Z"
   },
   {
    "duration": 23,
    "start_time": "2021-10-23T21:00:56.501Z"
   },
   {
    "duration": 6,
    "start_time": "2021-10-23T21:00:56.526Z"
   },
   {
    "duration": 66,
    "start_time": "2021-10-23T21:00:56.535Z"
   },
   {
    "duration": 12,
    "start_time": "2021-10-23T21:00:56.604Z"
   },
   {
    "duration": 9,
    "start_time": "2021-10-23T21:00:56.617Z"
   },
   {
    "duration": 16,
    "start_time": "2021-10-23T21:00:56.628Z"
   },
   {
    "duration": 39,
    "start_time": "2021-10-23T21:00:56.646Z"
   },
   {
    "duration": 7,
    "start_time": "2021-10-23T21:00:56.687Z"
   },
   {
    "duration": 24,
    "start_time": "2021-10-23T21:00:56.696Z"
   },
   {
    "duration": 34,
    "start_time": "2021-10-23T21:00:56.722Z"
   },
   {
    "duration": 15,
    "start_time": "2021-10-23T21:00:56.758Z"
   },
   {
    "duration": 21,
    "start_time": "2021-10-23T21:00:56.775Z"
   },
   {
    "duration": 297,
    "start_time": "2021-10-23T21:00:56.798Z"
   },
   {
    "duration": 8,
    "start_time": "2021-10-23T21:00:57.097Z"
   },
   {
    "duration": 16,
    "start_time": "2021-10-23T21:00:57.106Z"
   },
   {
    "duration": 326,
    "start_time": "2021-10-23T21:00:57.124Z"
   },
   {
    "duration": 12,
    "start_time": "2021-10-23T21:00:57.452Z"
   },
   {
    "duration": 13,
    "start_time": "2021-10-23T21:00:57.482Z"
   },
   {
    "duration": 310,
    "start_time": "2021-10-23T21:00:57.496Z"
   },
   {
    "duration": 382,
    "start_time": "2021-10-23T21:00:57.809Z"
   },
   {
    "duration": 14,
    "start_time": "2021-10-23T21:00:58.193Z"
   },
   {
    "duration": 19,
    "start_time": "2021-10-23T21:00:58.209Z"
   },
   {
    "duration": 2786,
    "start_time": "2021-10-23T21:00:58.229Z"
   },
   {
    "duration": 413,
    "start_time": "2021-10-23T21:02:10.156Z"
   },
   {
    "duration": 2336,
    "start_time": "2021-10-23T21:02:18.378Z"
   },
   {
    "duration": 2427,
    "start_time": "2021-10-23T21:02:53.452Z"
   },
   {
    "duration": 348,
    "start_time": "2021-10-23T21:03:07.852Z"
   },
   {
    "duration": 4632,
    "start_time": "2021-10-23T21:03:23.232Z"
   },
   {
    "duration": 689,
    "start_time": "2021-10-23T21:03:41.038Z"
   },
   {
    "duration": 15,
    "start_time": "2021-10-23T21:03:41.729Z"
   },
   {
    "duration": 19,
    "start_time": "2021-10-23T21:03:41.745Z"
   },
   {
    "duration": 99,
    "start_time": "2021-10-23T21:03:41.777Z"
   },
   {
    "duration": 24,
    "start_time": "2021-10-23T21:03:41.878Z"
   },
   {
    "duration": 22,
    "start_time": "2021-10-23T21:03:41.904Z"
   },
   {
    "duration": 6,
    "start_time": "2021-10-23T21:03:41.927Z"
   },
   {
    "duration": 65,
    "start_time": "2021-10-23T21:03:41.935Z"
   },
   {
    "duration": 12,
    "start_time": "2021-10-23T21:03:42.002Z"
   },
   {
    "duration": 7,
    "start_time": "2021-10-23T21:03:42.016Z"
   },
   {
    "duration": 10,
    "start_time": "2021-10-23T21:03:42.025Z"
   },
   {
    "duration": 41,
    "start_time": "2021-10-23T21:03:42.037Z"
   },
   {
    "duration": 7,
    "start_time": "2021-10-23T21:03:42.080Z"
   },
   {
    "duration": 11,
    "start_time": "2021-10-23T21:03:42.089Z"
   },
   {
    "duration": 13,
    "start_time": "2021-10-23T21:03:42.102Z"
   },
   {
    "duration": 17,
    "start_time": "2021-10-23T21:03:42.116Z"
   },
   {
    "duration": 52,
    "start_time": "2021-10-23T21:03:42.135Z"
   },
   {
    "duration": 282,
    "start_time": "2021-10-23T21:03:42.188Z"
   },
   {
    "duration": 8,
    "start_time": "2021-10-23T21:03:42.476Z"
   },
   {
    "duration": 17,
    "start_time": "2021-10-23T21:03:42.486Z"
   },
   {
    "duration": 362,
    "start_time": "2021-10-23T21:03:42.505Z"
   },
   {
    "duration": 14,
    "start_time": "2021-10-23T21:03:42.868Z"
   },
   {
    "duration": 8,
    "start_time": "2021-10-23T21:03:42.885Z"
   },
   {
    "duration": 312,
    "start_time": "2021-10-23T21:03:42.895Z"
   },
   {
    "duration": 367,
    "start_time": "2021-10-23T21:03:43.209Z"
   },
   {
    "duration": 15,
    "start_time": "2021-10-23T21:03:43.578Z"
   },
   {
    "duration": 17,
    "start_time": "2021-10-23T21:03:43.595Z"
   },
   {
    "duration": 3505,
    "start_time": "2021-10-23T21:03:43.614Z"
   },
   {
    "duration": 12,
    "start_time": "2021-10-23T21:34:22.632Z"
   },
   {
    "duration": 2750,
    "start_time": "2021-10-23T21:37:35.526Z"
   },
   {
    "duration": 7083,
    "start_time": "2021-10-23T21:40:36.344Z"
   },
   {
    "duration": 435,
    "start_time": "2021-10-23T21:44:00.663Z"
   },
   {
    "duration": 666,
    "start_time": "2021-10-23T21:44:54.002Z"
   },
   {
    "duration": 20,
    "start_time": "2021-10-23T21:44:54.670Z"
   },
   {
    "duration": 18,
    "start_time": "2021-10-23T21:44:54.693Z"
   },
   {
    "duration": 114,
    "start_time": "2021-10-23T21:44:54.713Z"
   },
   {
    "duration": 25,
    "start_time": "2021-10-23T21:44:54.829Z"
   },
   {
    "duration": 41,
    "start_time": "2021-10-23T21:44:54.856Z"
   },
   {
    "duration": 6,
    "start_time": "2021-10-23T21:44:54.898Z"
   },
   {
    "duration": 35,
    "start_time": "2021-10-23T21:44:54.906Z"
   },
   {
    "duration": 40,
    "start_time": "2021-10-23T21:44:54.943Z"
   },
   {
    "duration": 7,
    "start_time": "2021-10-23T21:44:54.986Z"
   },
   {
    "duration": 11,
    "start_time": "2021-10-23T21:44:54.995Z"
   },
   {
    "duration": 9,
    "start_time": "2021-10-23T21:44:55.008Z"
   },
   {
    "duration": 8,
    "start_time": "2021-10-23T21:44:55.018Z"
   },
   {
    "duration": 56,
    "start_time": "2021-10-23T21:44:55.028Z"
   },
   {
    "duration": 15,
    "start_time": "2021-10-23T21:44:55.086Z"
   },
   {
    "duration": 17,
    "start_time": "2021-10-23T21:44:55.103Z"
   },
   {
    "duration": 16,
    "start_time": "2021-10-23T21:44:55.122Z"
   },
   {
    "duration": 313,
    "start_time": "2021-10-23T21:44:55.140Z"
   },
   {
    "duration": 9,
    "start_time": "2021-10-23T21:44:55.455Z"
   },
   {
    "duration": 21,
    "start_time": "2021-10-23T21:44:55.480Z"
   },
   {
    "duration": 286,
    "start_time": "2021-10-23T21:44:55.503Z"
   },
   {
    "duration": 14,
    "start_time": "2021-10-23T21:44:55.791Z"
   },
   {
    "duration": 8,
    "start_time": "2021-10-23T21:44:55.807Z"
   },
   {
    "duration": 318,
    "start_time": "2021-10-23T21:44:55.817Z"
   },
   {
    "duration": 369,
    "start_time": "2021-10-23T21:44:56.137Z"
   },
   {
    "duration": 14,
    "start_time": "2021-10-23T21:44:56.507Z"
   },
   {
    "duration": 17,
    "start_time": "2021-10-23T21:44:56.522Z"
   },
   {
    "duration": 3300,
    "start_time": "2021-10-23T21:44:56.541Z"
   },
   {
    "duration": 736,
    "start_time": "2021-10-23T21:57:06.247Z"
   },
   {
    "duration": 22,
    "start_time": "2021-10-23T21:57:06.985Z"
   },
   {
    "duration": 32,
    "start_time": "2021-10-23T21:57:07.010Z"
   },
   {
    "duration": 120,
    "start_time": "2021-10-23T21:57:07.045Z"
   },
   {
    "duration": 33,
    "start_time": "2021-10-23T21:57:07.167Z"
   },
   {
    "duration": 22,
    "start_time": "2021-10-23T21:57:07.201Z"
   },
   {
    "duration": 6,
    "start_time": "2021-10-23T21:57:07.225Z"
   },
   {
    "duration": 69,
    "start_time": "2021-10-23T21:57:07.233Z"
   },
   {
    "duration": 20,
    "start_time": "2021-10-23T21:57:07.305Z"
   },
   {
    "duration": 9,
    "start_time": "2021-10-23T21:57:07.327Z"
   },
   {
    "duration": 44,
    "start_time": "2021-10-23T21:57:07.338Z"
   },
   {
    "duration": 12,
    "start_time": "2021-10-23T21:57:07.385Z"
   },
   {
    "duration": 8,
    "start_time": "2021-10-23T21:57:07.399Z"
   },
   {
    "duration": 14,
    "start_time": "2021-10-23T21:57:07.409Z"
   },
   {
    "duration": 18,
    "start_time": "2021-10-23T21:57:07.425Z"
   },
   {
    "duration": 22,
    "start_time": "2021-10-23T21:57:07.484Z"
   },
   {
    "duration": 21,
    "start_time": "2021-10-23T21:57:07.508Z"
   },
   {
    "duration": 310,
    "start_time": "2021-10-23T21:57:07.531Z"
   },
   {
    "duration": 7,
    "start_time": "2021-10-23T21:57:07.843Z"
   },
   {
    "duration": 36,
    "start_time": "2021-10-23T21:57:07.852Z"
   },
   {
    "duration": 278,
    "start_time": "2021-10-23T21:57:07.889Z"
   },
   {
    "duration": 17,
    "start_time": "2021-10-23T21:57:08.168Z"
   },
   {
    "duration": 12,
    "start_time": "2021-10-23T21:57:08.188Z"
   },
   {
    "duration": 476,
    "start_time": "2021-10-23T21:57:08.202Z"
   },
   {
    "duration": 568,
    "start_time": "2021-10-23T21:57:08.681Z"
   },
   {
    "duration": 14,
    "start_time": "2021-10-23T21:57:09.251Z"
   },
   {
    "duration": 19,
    "start_time": "2021-10-23T21:57:09.279Z"
   },
   {
    "duration": 3408,
    "start_time": "2021-10-23T21:57:09.300Z"
   },
   {
    "duration": 3283,
    "start_time": "2021-10-23T21:57:12.710Z"
   },
   {
    "duration": 115,
    "start_time": "2021-10-23T21:59:41.639Z"
   },
   {
    "duration": 290,
    "start_time": "2021-10-23T22:00:00.016Z"
   },
   {
    "duration": 722,
    "start_time": "2021-10-23T22:00:37.121Z"
   },
   {
    "duration": 17,
    "start_time": "2021-10-23T22:00:37.844Z"
   },
   {
    "duration": 33,
    "start_time": "2021-10-23T22:00:37.863Z"
   },
   {
    "duration": 130,
    "start_time": "2021-10-23T22:00:37.899Z"
   },
   {
    "duration": 25,
    "start_time": "2021-10-23T22:00:38.030Z"
   },
   {
    "duration": 53,
    "start_time": "2021-10-23T22:00:38.057Z"
   },
   {
    "duration": 6,
    "start_time": "2021-10-23T22:00:38.112Z"
   },
   {
    "duration": 34,
    "start_time": "2021-10-23T22:00:38.119Z"
   },
   {
    "duration": 39,
    "start_time": "2021-10-23T22:00:38.156Z"
   },
   {
    "duration": 10,
    "start_time": "2021-10-23T22:00:38.197Z"
   },
   {
    "duration": 12,
    "start_time": "2021-10-23T22:00:38.209Z"
   },
   {
    "duration": 10,
    "start_time": "2021-10-23T22:00:38.223Z"
   },
   {
    "duration": 8,
    "start_time": "2021-10-23T22:00:38.234Z"
   },
   {
    "duration": 46,
    "start_time": "2021-10-23T22:00:38.243Z"
   },
   {
    "duration": 23,
    "start_time": "2021-10-23T22:00:38.293Z"
   },
   {
    "duration": 16,
    "start_time": "2021-10-23T22:00:38.318Z"
   },
   {
    "duration": 15,
    "start_time": "2021-10-23T22:00:38.336Z"
   },
   {
    "duration": 317,
    "start_time": "2021-10-23T22:00:38.377Z"
   },
   {
    "duration": 9,
    "start_time": "2021-10-23T22:00:38.697Z"
   },
   {
    "duration": 19,
    "start_time": "2021-10-23T22:00:38.709Z"
   },
   {
    "duration": 317,
    "start_time": "2021-10-23T22:00:38.730Z"
   },
   {
    "duration": 12,
    "start_time": "2021-10-23T22:00:39.049Z"
   },
   {
    "duration": 11,
    "start_time": "2021-10-23T22:00:39.081Z"
   },
   {
    "duration": 333,
    "start_time": "2021-10-23T22:00:39.094Z"
   },
   {
    "duration": 397,
    "start_time": "2021-10-23T22:00:39.430Z"
   },
   {
    "duration": 20,
    "start_time": "2021-10-23T22:00:39.829Z"
   },
   {
    "duration": 47,
    "start_time": "2021-10-23T22:00:39.853Z"
   },
   {
    "duration": 3990,
    "start_time": "2021-10-23T22:00:39.902Z"
   },
   {
    "duration": 690,
    "start_time": "2021-10-23T22:08:42.014Z"
   },
   {
    "duration": 17,
    "start_time": "2021-10-23T22:08:42.705Z"
   },
   {
    "duration": 19,
    "start_time": "2021-10-23T22:08:42.724Z"
   },
   {
    "duration": 123,
    "start_time": "2021-10-23T22:08:42.745Z"
   },
   {
    "duration": 39,
    "start_time": "2021-10-23T22:08:42.870Z"
   },
   {
    "duration": 23,
    "start_time": "2021-10-23T22:08:42.911Z"
   },
   {
    "duration": 8,
    "start_time": "2021-10-23T22:08:42.936Z"
   },
   {
    "duration": 70,
    "start_time": "2021-10-23T22:08:42.947Z"
   },
   {
    "duration": 14,
    "start_time": "2021-10-23T22:08:43.021Z"
   },
   {
    "duration": 9,
    "start_time": "2021-10-23T22:08:43.038Z"
   },
   {
    "duration": 40,
    "start_time": "2021-10-23T22:08:43.048Z"
   },
   {
    "duration": 9,
    "start_time": "2021-10-23T22:08:43.090Z"
   },
   {
    "duration": 6,
    "start_time": "2021-10-23T22:08:43.101Z"
   },
   {
    "duration": 11,
    "start_time": "2021-10-23T22:08:43.109Z"
   },
   {
    "duration": 13,
    "start_time": "2021-10-23T22:08:43.122Z"
   },
   {
    "duration": 54,
    "start_time": "2021-10-23T22:08:43.137Z"
   },
   {
    "duration": 15,
    "start_time": "2021-10-23T22:08:43.193Z"
   },
   {
    "duration": 313,
    "start_time": "2021-10-23T22:08:43.209Z"
   },
   {
    "duration": 8,
    "start_time": "2021-10-23T22:08:43.524Z"
   },
   {
    "duration": 18,
    "start_time": "2021-10-23T22:08:43.533Z"
   },
   {
    "duration": 298,
    "start_time": "2021-10-23T22:08:43.552Z"
   },
   {
    "duration": 9,
    "start_time": "2021-10-23T22:08:43.852Z"
   },
   {
    "duration": 22,
    "start_time": "2021-10-23T22:08:43.863Z"
   },
   {
    "duration": 344,
    "start_time": "2021-10-23T22:08:43.887Z"
   },
   {
    "duration": 368,
    "start_time": "2021-10-23T22:08:44.233Z"
   },
   {
    "duration": 16,
    "start_time": "2021-10-23T22:08:44.603Z"
   },
   {
    "duration": 18,
    "start_time": "2021-10-23T22:08:44.624Z"
   },
   {
    "duration": 4277,
    "start_time": "2021-10-23T22:08:44.644Z"
   },
   {
    "duration": 6911,
    "start_time": "2021-10-23T22:08:48.923Z"
   },
   {
    "duration": 5608,
    "start_time": "2021-10-23T22:16:06.317Z"
   },
   {
    "duration": 6,
    "start_time": "2021-10-23T22:28:39.862Z"
   },
   {
    "duration": 618,
    "start_time": "2021-10-23T22:31:24.641Z"
   },
   {
    "duration": 312,
    "start_time": "2021-10-23T22:32:20.633Z"
   },
   {
    "duration": 524,
    "start_time": "2021-10-23T22:32:51.331Z"
   },
   {
    "duration": 112,
    "start_time": "2021-10-23T22:33:56.784Z"
   },
   {
    "duration": 326,
    "start_time": "2021-10-23T22:34:01.632Z"
   },
   {
    "duration": 233,
    "start_time": "2021-10-23T22:34:24.156Z"
   },
   {
    "duration": 172,
    "start_time": "2021-10-23T22:35:43.174Z"
   },
   {
    "duration": 490,
    "start_time": "2021-10-23T22:35:47.094Z"
   },
   {
    "duration": 504,
    "start_time": "2021-10-23T22:37:36.637Z"
   },
   {
    "duration": 601,
    "start_time": "2021-10-23T22:39:05.581Z"
   },
   {
    "duration": 14622,
    "start_time": "2021-10-23T22:40:19.879Z"
   },
   {
    "duration": 719,
    "start_time": "2021-10-23T22:42:00.550Z"
   },
   {
    "duration": 18,
    "start_time": "2021-10-23T22:42:01.271Z"
   },
   {
    "duration": 19,
    "start_time": "2021-10-23T22:42:01.291Z"
   },
   {
    "duration": 106,
    "start_time": "2021-10-23T22:42:01.312Z"
   },
   {
    "duration": 23,
    "start_time": "2021-10-23T22:42:01.420Z"
   },
   {
    "duration": 40,
    "start_time": "2021-10-23T22:42:01.445Z"
   },
   {
    "duration": 6,
    "start_time": "2021-10-23T22:42:01.487Z"
   },
   {
    "duration": 34,
    "start_time": "2021-10-23T22:42:01.495Z"
   },
   {
    "duration": 12,
    "start_time": "2021-10-23T22:42:01.531Z"
   },
   {
    "duration": 8,
    "start_time": "2021-10-23T22:42:01.577Z"
   },
   {
    "duration": 12,
    "start_time": "2021-10-23T22:42:01.586Z"
   },
   {
    "duration": 9,
    "start_time": "2021-10-23T22:42:01.599Z"
   },
   {
    "duration": 7,
    "start_time": "2021-10-23T22:42:01.609Z"
   },
   {
    "duration": 16,
    "start_time": "2021-10-23T22:42:01.617Z"
   },
   {
    "duration": 46,
    "start_time": "2021-10-23T22:42:01.635Z"
   },
   {
    "duration": 17,
    "start_time": "2021-10-23T22:42:01.683Z"
   },
   {
    "duration": 16,
    "start_time": "2021-10-23T22:42:01.701Z"
   },
   {
    "duration": 301,
    "start_time": "2021-10-23T22:42:01.718Z"
   },
   {
    "duration": 9,
    "start_time": "2021-10-23T22:42:02.021Z"
   },
   {
    "duration": 27,
    "start_time": "2021-10-23T22:42:02.031Z"
   },
   {
    "duration": 279,
    "start_time": "2021-10-23T22:42:02.060Z"
   },
   {
    "duration": 10,
    "start_time": "2021-10-23T22:42:02.340Z"
   },
   {
    "duration": 24,
    "start_time": "2021-10-23T22:42:02.354Z"
   },
   {
    "duration": 301,
    "start_time": "2021-10-23T22:42:02.379Z"
   },
   {
    "duration": 362,
    "start_time": "2021-10-23T22:42:02.681Z"
   },
   {
    "duration": 14,
    "start_time": "2021-10-23T22:42:03.044Z"
   },
   {
    "duration": 30,
    "start_time": "2021-10-23T22:42:03.060Z"
   },
   {
    "duration": 3146,
    "start_time": "2021-10-23T22:42:03.092Z"
   },
   {
    "duration": 5915,
    "start_time": "2021-10-23T22:42:06.240Z"
   },
   {
    "duration": 521,
    "start_time": "2021-10-23T22:42:12.158Z"
   },
   {
    "duration": 7,
    "start_time": "2021-10-23T22:43:53.155Z"
   },
   {
    "duration": 510,
    "start_time": "2021-10-23T22:45:38.237Z"
   },
   {
    "duration": 40974,
    "start_time": "2021-10-23T22:47:25.285Z"
   },
   {
    "duration": 298,
    "start_time": "2021-10-24T00:41:26.783Z"
   },
   {
    "duration": 642,
    "start_time": "2021-10-24T00:41:58.294Z"
   },
   {
    "duration": 17,
    "start_time": "2021-10-24T00:41:58.938Z"
   },
   {
    "duration": 40,
    "start_time": "2021-10-24T00:41:58.958Z"
   },
   {
    "duration": 107,
    "start_time": "2021-10-24T00:41:59.000Z"
   },
   {
    "duration": 22,
    "start_time": "2021-10-24T00:41:59.109Z"
   },
   {
    "duration": 34,
    "start_time": "2021-10-24T00:41:59.133Z"
   },
   {
    "duration": 13,
    "start_time": "2021-10-24T00:41:59.169Z"
   },
   {
    "duration": 45,
    "start_time": "2021-10-24T00:41:59.184Z"
   },
   {
    "duration": 23,
    "start_time": "2021-10-24T00:41:59.232Z"
   },
   {
    "duration": 24,
    "start_time": "2021-10-24T00:41:59.258Z"
   },
   {
    "duration": 18,
    "start_time": "2021-10-24T00:41:59.283Z"
   },
   {
    "duration": 18,
    "start_time": "2021-10-24T00:41:59.303Z"
   },
   {
    "duration": 16,
    "start_time": "2021-10-24T00:41:59.323Z"
   },
   {
    "duration": 40,
    "start_time": "2021-10-24T00:41:59.340Z"
   },
   {
    "duration": 29,
    "start_time": "2021-10-24T00:41:59.382Z"
   },
   {
    "duration": 22,
    "start_time": "2021-10-24T00:41:59.412Z"
   },
   {
    "duration": 36,
    "start_time": "2021-10-24T00:41:59.436Z"
   },
   {
    "duration": 292,
    "start_time": "2021-10-24T00:41:59.474Z"
   },
   {
    "duration": 8,
    "start_time": "2021-10-24T00:41:59.768Z"
   },
   {
    "duration": 55,
    "start_time": "2021-10-24T00:41:59.778Z"
   },
   {
    "duration": 272,
    "start_time": "2021-10-24T00:41:59.835Z"
   },
   {
    "duration": 9,
    "start_time": "2021-10-24T00:42:00.109Z"
   },
   {
    "duration": 30,
    "start_time": "2021-10-24T00:42:00.119Z"
   },
   {
    "duration": 317,
    "start_time": "2021-10-24T00:42:00.151Z"
   },
   {
    "duration": 355,
    "start_time": "2021-10-24T00:42:00.469Z"
   },
   {
    "duration": 23,
    "start_time": "2021-10-24T00:42:00.825Z"
   },
   {
    "duration": 38,
    "start_time": "2021-10-24T00:42:00.852Z"
   },
   {
    "duration": 3315,
    "start_time": "2021-10-24T00:42:00.891Z"
   },
   {
    "duration": 6697,
    "start_time": "2021-10-24T00:42:04.208Z"
   },
   {
    "duration": 522,
    "start_time": "2021-10-24T00:42:10.907Z"
   },
   {
    "duration": 42947,
    "start_time": "2021-10-24T00:42:11.430Z"
   },
   {
    "duration": 538,
    "start_time": "2021-10-24T00:44:36.825Z"
   },
   {
    "duration": 3598,
    "start_time": "2021-10-24T00:44:48.408Z"
   },
   {
    "duration": 5,
    "start_time": "2021-10-24T00:47:23.484Z"
   },
   {
    "duration": 6,
    "start_time": "2021-10-24T00:47:28.778Z"
   },
   {
    "duration": 390,
    "start_time": "2021-10-24T00:52:06.787Z"
   },
   {
    "duration": 289,
    "start_time": "2021-10-24T00:52:46.878Z"
   },
   {
    "duration": 639,
    "start_time": "2021-10-24T00:54:23.076Z"
   },
   {
    "duration": 14,
    "start_time": "2021-10-24T00:54:23.716Z"
   },
   {
    "duration": 20,
    "start_time": "2021-10-24T00:54:23.732Z"
   },
   {
    "duration": 96,
    "start_time": "2021-10-24T00:54:23.754Z"
   },
   {
    "duration": 27,
    "start_time": "2021-10-24T00:54:23.853Z"
   },
   {
    "duration": 21,
    "start_time": "2021-10-24T00:54:23.881Z"
   },
   {
    "duration": 44,
    "start_time": "2021-10-24T00:54:23.904Z"
   },
   {
    "duration": 31,
    "start_time": "2021-10-24T00:54:23.952Z"
   },
   {
    "duration": 12,
    "start_time": "2021-10-24T00:54:23.985Z"
   },
   {
    "duration": 6,
    "start_time": "2021-10-24T00:54:23.999Z"
   },
   {
    "duration": 41,
    "start_time": "2021-10-24T00:54:24.007Z"
   },
   {
    "duration": 13,
    "start_time": "2021-10-24T00:54:24.050Z"
   },
   {
    "duration": 7,
    "start_time": "2021-10-24T00:54:24.065Z"
   },
   {
    "duration": 14,
    "start_time": "2021-10-24T00:54:24.074Z"
   },
   {
    "duration": 14,
    "start_time": "2021-10-24T00:54:24.090Z"
   },
   {
    "duration": 50,
    "start_time": "2021-10-24T00:54:24.106Z"
   },
   {
    "duration": 16,
    "start_time": "2021-10-24T00:54:24.159Z"
   },
   {
    "duration": 277,
    "start_time": "2021-10-24T00:54:24.177Z"
   },
   {
    "duration": 11,
    "start_time": "2021-10-24T00:54:24.456Z"
   },
   {
    "duration": 16,
    "start_time": "2021-10-24T00:54:24.468Z"
   },
   {
    "duration": 292,
    "start_time": "2021-10-24T00:54:24.486Z"
   },
   {
    "duration": 9,
    "start_time": "2021-10-24T00:54:24.780Z"
   },
   {
    "duration": 6,
    "start_time": "2021-10-24T00:54:24.792Z"
   },
   {
    "duration": 332,
    "start_time": "2021-10-24T00:54:24.800Z"
   },
   {
    "duration": 349,
    "start_time": "2021-10-24T00:54:25.133Z"
   },
   {
    "duration": 13,
    "start_time": "2021-10-24T00:54:25.484Z"
   },
   {
    "duration": 16,
    "start_time": "2021-10-24T00:54:25.498Z"
   },
   {
    "duration": 3218,
    "start_time": "2021-10-24T00:54:25.515Z"
   },
   {
    "duration": 6345,
    "start_time": "2021-10-24T00:54:28.735Z"
   },
   {
    "duration": 636,
    "start_time": "2021-10-24T00:55:34.962Z"
   },
   {
    "duration": 16,
    "start_time": "2021-10-24T00:55:35.599Z"
   },
   {
    "duration": 35,
    "start_time": "2021-10-24T00:55:35.617Z"
   },
   {
    "duration": 104,
    "start_time": "2021-10-24T00:55:35.654Z"
   },
   {
    "duration": 24,
    "start_time": "2021-10-24T00:55:35.760Z"
   },
   {
    "duration": 27,
    "start_time": "2021-10-24T00:55:35.786Z"
   },
   {
    "duration": 34,
    "start_time": "2021-10-24T00:55:35.815Z"
   },
   {
    "duration": 32,
    "start_time": "2021-10-24T00:55:35.852Z"
   },
   {
    "duration": 12,
    "start_time": "2021-10-24T00:55:35.886Z"
   },
   {
    "duration": 7,
    "start_time": "2021-10-24T00:55:35.899Z"
   },
   {
    "duration": 45,
    "start_time": "2021-10-24T00:55:35.907Z"
   },
   {
    "duration": 12,
    "start_time": "2021-10-24T00:55:35.954Z"
   },
   {
    "duration": 6,
    "start_time": "2021-10-24T00:55:35.968Z"
   },
   {
    "duration": 10,
    "start_time": "2021-10-24T00:55:35.976Z"
   },
   {
    "duration": 13,
    "start_time": "2021-10-24T00:55:35.988Z"
   },
   {
    "duration": 55,
    "start_time": "2021-10-24T00:55:36.002Z"
   },
   {
    "duration": 19,
    "start_time": "2021-10-24T00:55:36.059Z"
   },
   {
    "duration": 312,
    "start_time": "2021-10-24T00:55:36.080Z"
   },
   {
    "duration": 9,
    "start_time": "2021-10-24T00:55:36.394Z"
   },
   {
    "duration": 30,
    "start_time": "2021-10-24T00:55:36.405Z"
   },
   {
    "duration": 267,
    "start_time": "2021-10-24T00:55:36.443Z"
   },
   {
    "duration": 9,
    "start_time": "2021-10-24T00:55:36.712Z"
   },
   {
    "duration": 22,
    "start_time": "2021-10-24T00:55:36.724Z"
   },
   {
    "duration": 338,
    "start_time": "2021-10-24T00:55:36.747Z"
   },
   {
    "duration": 342,
    "start_time": "2021-10-24T00:55:37.086Z"
   },
   {
    "duration": 21,
    "start_time": "2021-10-24T00:55:37.429Z"
   },
   {
    "duration": 18,
    "start_time": "2021-10-24T00:55:37.451Z"
   },
   {
    "duration": 3363,
    "start_time": "2021-10-24T00:55:37.470Z"
   },
   {
    "duration": 6184,
    "start_time": "2021-10-24T00:55:40.834Z"
   },
   {
    "duration": 574,
    "start_time": "2021-10-24T00:55:47.020Z"
   },
   {
    "duration": 5,
    "start_time": "2021-10-24T00:55:47.596Z"
   },
   {
    "duration": 332,
    "start_time": "2021-10-24T00:55:47.602Z"
   },
   {
    "duration": 41260,
    "start_time": "2021-10-24T00:58:59.857Z"
   },
   {
    "duration": 43209,
    "start_time": "2021-10-24T01:00:29.574Z"
   },
   {
    "duration": 3342,
    "start_time": "2021-10-24T01:03:23.034Z"
   },
   {
    "duration": 8,
    "start_time": "2021-10-24T01:05:12.058Z"
   },
   {
    "duration": 1599,
    "start_time": "2021-10-24T01:14:03.707Z"
   },
   {
    "duration": 14,
    "start_time": "2021-10-24T01:19:53.790Z"
   },
   {
    "duration": 90,
    "start_time": "2021-10-24T01:29:57.287Z"
   },
   {
    "duration": 1606,
    "start_time": "2021-10-24T01:30:00.628Z"
   },
   {
    "duration": 1640,
    "start_time": "2021-10-24T01:30:10.943Z"
   },
   {
    "duration": 6,
    "start_time": "2021-10-24T01:45:17.957Z"
   },
   {
    "duration": 8,
    "start_time": "2021-10-24T01:45:58.146Z"
   },
   {
    "duration": 7,
    "start_time": "2021-10-24T01:47:20.546Z"
   },
   {
    "duration": 9,
    "start_time": "2021-10-24T01:47:58.247Z"
   },
   {
    "duration": 9,
    "start_time": "2021-10-24T02:00:22.546Z"
   },
   {
    "duration": 7,
    "start_time": "2021-10-24T02:00:38.013Z"
   },
   {
    "duration": 385,
    "start_time": "2021-10-24T02:01:02.088Z"
   },
   {
    "duration": 7,
    "start_time": "2021-10-24T02:01:11.505Z"
   },
   {
    "duration": 7,
    "start_time": "2021-10-24T02:01:34.160Z"
   },
   {
    "duration": 7,
    "start_time": "2021-10-24T02:01:50.402Z"
   },
   {
    "duration": 14,
    "start_time": "2021-10-24T02:03:35.155Z"
   },
   {
    "duration": 268,
    "start_time": "2021-10-24T02:04:20.231Z"
   },
   {
    "duration": 9,
    "start_time": "2021-10-24T02:04:55.571Z"
   },
   {
    "duration": 6,
    "start_time": "2021-10-24T02:05:12.124Z"
   },
   {
    "duration": 6,
    "start_time": "2021-10-24T02:05:39.994Z"
   },
   {
    "duration": 281,
    "start_time": "2021-10-24T02:24:22.356Z"
   },
   {
    "duration": 7,
    "start_time": "2021-10-24T02:24:44.084Z"
   },
   {
    "duration": 8,
    "start_time": "2021-10-24T02:25:51.432Z"
   },
   {
    "duration": 8,
    "start_time": "2021-10-24T02:26:22.276Z"
   },
   {
    "duration": 14,
    "start_time": "2021-10-24T02:37:37.707Z"
   },
   {
    "duration": 303,
    "start_time": "2021-10-24T02:39:47.199Z"
   },
   {
    "duration": 260,
    "start_time": "2021-10-24T02:40:23.196Z"
   },
   {
    "duration": 267,
    "start_time": "2021-10-24T02:40:48.384Z"
   },
   {
    "duration": 9,
    "start_time": "2021-10-24T02:41:08.314Z"
   },
   {
    "duration": 271,
    "start_time": "2021-10-24T02:41:34.497Z"
   },
   {
    "duration": 9,
    "start_time": "2021-10-24T02:41:51.026Z"
   },
   {
    "duration": 378,
    "start_time": "2021-10-24T02:45:25.895Z"
   },
   {
    "duration": 6,
    "start_time": "2021-10-24T02:52:44.276Z"
   },
   {
    "duration": 10,
    "start_time": "2021-10-24T02:53:05.849Z"
   },
   {
    "duration": 9,
    "start_time": "2021-10-24T02:53:32.347Z"
   },
   {
    "duration": 5,
    "start_time": "2021-10-24T02:54:02.907Z"
   },
   {
    "duration": 837,
    "start_time": "2021-10-24T19:58:59.520Z"
   },
   {
    "duration": 25,
    "start_time": "2021-10-24T19:59:00.359Z"
   },
   {
    "duration": 46,
    "start_time": "2021-10-24T19:59:00.387Z"
   },
   {
    "duration": 163,
    "start_time": "2021-10-24T19:59:00.436Z"
   },
   {
    "duration": 48,
    "start_time": "2021-10-24T19:59:00.602Z"
   },
   {
    "duration": 33,
    "start_time": "2021-10-24T19:59:00.653Z"
   },
   {
    "duration": 40,
    "start_time": "2021-10-24T19:59:00.688Z"
   },
   {
    "duration": 90,
    "start_time": "2021-10-24T19:59:00.734Z"
   },
   {
    "duration": 21,
    "start_time": "2021-10-24T19:59:00.828Z"
   },
   {
    "duration": 11,
    "start_time": "2021-10-24T19:59:00.851Z"
   },
   {
    "duration": 20,
    "start_time": "2021-10-24T19:59:00.864Z"
   },
   {
    "duration": 46,
    "start_time": "2021-10-24T19:59:00.886Z"
   },
   {
    "duration": 9,
    "start_time": "2021-10-24T19:59:00.935Z"
   },
   {
    "duration": 20,
    "start_time": "2021-10-24T19:59:00.947Z"
   },
   {
    "duration": 21,
    "start_time": "2021-10-24T19:59:00.969Z"
   },
   {
    "duration": 25,
    "start_time": "2021-10-24T19:59:01.024Z"
   },
   {
    "duration": 32,
    "start_time": "2021-10-24T19:59:01.052Z"
   },
   {
    "duration": 487,
    "start_time": "2021-10-24T19:59:01.087Z"
   },
   {
    "duration": 12,
    "start_time": "2021-10-24T19:59:01.576Z"
   },
   {
    "duration": 47,
    "start_time": "2021-10-24T19:59:01.590Z"
   },
   {
    "duration": 418,
    "start_time": "2021-10-24T19:59:01.639Z"
   },
   {
    "duration": 13,
    "start_time": "2021-10-24T19:59:02.060Z"
   },
   {
    "duration": 46,
    "start_time": "2021-10-24T19:59:02.079Z"
   },
   {
    "duration": 501,
    "start_time": "2021-10-24T19:59:02.128Z"
   },
   {
    "duration": 812,
    "start_time": "2021-10-24T19:59:02.632Z"
   },
   {
    "duration": 21,
    "start_time": "2021-10-24T19:59:03.447Z"
   },
   {
    "duration": 53,
    "start_time": "2021-10-24T19:59:03.471Z"
   },
   {
    "duration": 6315,
    "start_time": "2021-10-24T19:59:03.527Z"
   },
   {
    "duration": 9341,
    "start_time": "2021-10-24T19:59:09.845Z"
   },
   {
    "duration": 2539,
    "start_time": "2021-10-24T19:59:19.188Z"
   },
   {
    "duration": 10,
    "start_time": "2021-10-24T19:59:21.729Z"
   },
   {
    "duration": 14,
    "start_time": "2021-10-24T19:59:21.742Z"
   },
   {
    "duration": 12,
    "start_time": "2021-10-24T19:59:21.759Z"
   },
   {
    "duration": 58,
    "start_time": "2021-10-24T19:59:21.773Z"
   },
   {
    "duration": 7,
    "start_time": "2021-10-24T19:59:21.834Z"
   },
   {
    "duration": 9,
    "start_time": "2021-10-24T19:59:21.843Z"
   },
   {
    "duration": 15,
    "start_time": "2021-10-24T19:59:21.854Z"
   },
   {
    "duration": 11,
    "start_time": "2021-10-24T19:59:21.871Z"
   },
   {
    "duration": 44,
    "start_time": "2021-10-24T19:59:21.885Z"
   },
   {
    "duration": 16,
    "start_time": "2021-10-24T19:59:21.931Z"
   },
   {
    "duration": 19,
    "start_time": "2021-10-24T19:59:21.949Z"
   },
   {
    "duration": 632,
    "start_time": "2021-10-24T19:59:21.971Z"
   },
   {
    "duration": 18,
    "start_time": "2021-10-24T19:59:22.605Z"
   },
   {
    "duration": 14,
    "start_time": "2021-10-24T19:59:22.625Z"
   },
   {
    "duration": 15,
    "start_time": "2021-10-24T19:59:22.641Z"
   },
   {
    "duration": 14,
    "start_time": "2021-10-24T19:59:22.659Z"
   },
   {
    "duration": 1026,
    "start_time": "2021-10-24T22:41:12.910Z"
   },
   {
    "duration": 890,
    "start_time": "2021-10-24T22:41:26.762Z"
   },
   {
    "duration": 46,
    "start_time": "2021-10-24T22:41:27.656Z"
   },
   {
    "duration": 29,
    "start_time": "2021-10-24T22:41:27.706Z"
   },
   {
    "duration": 171,
    "start_time": "2021-10-24T22:41:27.739Z"
   },
   {
    "duration": 39,
    "start_time": "2021-10-24T22:41:27.913Z"
   },
   {
    "duration": 72,
    "start_time": "2021-10-24T22:41:27.955Z"
   },
   {
    "duration": 11,
    "start_time": "2021-10-24T22:41:28.030Z"
   },
   {
    "duration": 85,
    "start_time": "2021-10-24T22:41:28.046Z"
   },
   {
    "duration": 21,
    "start_time": "2021-10-24T22:41:28.135Z"
   },
   {
    "duration": 44,
    "start_time": "2021-10-24T22:41:28.158Z"
   },
   {
    "duration": 15,
    "start_time": "2021-10-24T22:41:28.205Z"
   },
   {
    "duration": 12,
    "start_time": "2021-10-24T22:41:28.223Z"
   },
   {
    "duration": 9,
    "start_time": "2021-10-24T22:41:28.238Z"
   },
   {
    "duration": 57,
    "start_time": "2021-10-24T22:41:28.249Z"
   },
   {
    "duration": 19,
    "start_time": "2021-10-24T22:41:28.308Z"
   },
   {
    "duration": 26,
    "start_time": "2021-10-24T22:41:28.329Z"
   },
   {
    "duration": 57,
    "start_time": "2021-10-24T22:41:28.357Z"
   },
   {
    "duration": 892,
    "start_time": "2021-10-24T22:41:28.417Z"
   },
   {
    "duration": -496,
    "start_time": "2021-10-24T22:41:29.808Z"
   },
   {
    "duration": -501,
    "start_time": "2021-10-24T22:41:29.815Z"
   },
   {
    "duration": -505,
    "start_time": "2021-10-24T22:41:29.820Z"
   },
   {
    "duration": -507,
    "start_time": "2021-10-24T22:41:29.824Z"
   },
   {
    "duration": -510,
    "start_time": "2021-10-24T22:41:29.828Z"
   },
   {
    "duration": -512,
    "start_time": "2021-10-24T22:41:29.832Z"
   },
   {
    "duration": -521,
    "start_time": "2021-10-24T22:41:29.842Z"
   },
   {
    "duration": -524,
    "start_time": "2021-10-24T22:41:29.847Z"
   },
   {
    "duration": -527,
    "start_time": "2021-10-24T22:41:29.851Z"
   },
   {
    "duration": -529,
    "start_time": "2021-10-24T22:41:29.855Z"
   },
   {
    "duration": -532,
    "start_time": "2021-10-24T22:41:29.859Z"
   },
   {
    "duration": -534,
    "start_time": "2021-10-24T22:41:29.863Z"
   },
   {
    "duration": -538,
    "start_time": "2021-10-24T22:41:29.868Z"
   },
   {
    "duration": -540,
    "start_time": "2021-10-24T22:41:29.871Z"
   },
   {
    "duration": -544,
    "start_time": "2021-10-24T22:41:29.876Z"
   },
   {
    "duration": -557,
    "start_time": "2021-10-24T22:41:29.890Z"
   },
   {
    "duration": -651,
    "start_time": "2021-10-24T22:41:29.986Z"
   },
   {
    "duration": -654,
    "start_time": "2021-10-24T22:41:29.990Z"
   },
   {
    "duration": -656,
    "start_time": "2021-10-24T22:41:29.994Z"
   },
   {
    "duration": -659,
    "start_time": "2021-10-24T22:41:29.998Z"
   },
   {
    "duration": -664,
    "start_time": "2021-10-24T22:41:30.004Z"
   },
   {
    "duration": -665,
    "start_time": "2021-10-24T22:41:30.007Z"
   },
   {
    "duration": -669,
    "start_time": "2021-10-24T22:41:30.012Z"
   },
   {
    "duration": -671,
    "start_time": "2021-10-24T22:41:30.015Z"
   },
   {
    "duration": -675,
    "start_time": "2021-10-24T22:41:30.020Z"
   },
   {
    "duration": -677,
    "start_time": "2021-10-24T22:41:30.024Z"
   },
   {
    "duration": -629,
    "start_time": "2021-10-24T22:41:30.029Z"
   },
   {
    "duration": -631,
    "start_time": "2021-10-24T22:41:30.033Z"
   },
   {
    "duration": 369,
    "start_time": "2021-10-24T22:49:06.128Z"
   },
   {
    "duration": 397,
    "start_time": "2021-10-24T22:51:00.489Z"
   },
   {
    "duration": 920,
    "start_time": "2021-10-24T22:51:16.872Z"
   },
   {
    "duration": 37,
    "start_time": "2021-10-24T22:51:17.795Z"
   },
   {
    "duration": 40,
    "start_time": "2021-10-24T22:51:17.836Z"
   },
   {
    "duration": 159,
    "start_time": "2021-10-24T22:51:17.900Z"
   },
   {
    "duration": 58,
    "start_time": "2021-10-24T22:51:18.062Z"
   },
   {
    "duration": 34,
    "start_time": "2021-10-24T22:51:18.123Z"
   },
   {
    "duration": 42,
    "start_time": "2021-10-24T22:51:18.161Z"
   },
   {
    "duration": 48,
    "start_time": "2021-10-24T22:51:18.209Z"
   },
   {
    "duration": 53,
    "start_time": "2021-10-24T22:51:18.260Z"
   },
   {
    "duration": 10,
    "start_time": "2021-10-24T22:51:18.315Z"
   },
   {
    "duration": 15,
    "start_time": "2021-10-24T22:51:18.327Z"
   },
   {
    "duration": 11,
    "start_time": "2021-10-24T22:51:18.345Z"
   },
   {
    "duration": 51,
    "start_time": "2021-10-24T22:51:18.358Z"
   },
   {
    "duration": 16,
    "start_time": "2021-10-24T22:51:18.412Z"
   },
   {
    "duration": 18,
    "start_time": "2021-10-24T22:51:18.431Z"
   },
   {
    "duration": 60,
    "start_time": "2021-10-24T22:51:18.452Z"
   },
   {
    "duration": 26,
    "start_time": "2021-10-24T22:51:18.514Z"
   },
   {
    "duration": 525,
    "start_time": "2021-10-24T22:51:18.542Z"
   },
   {
    "duration": 11,
    "start_time": "2021-10-24T22:51:19.069Z"
   },
   {
    "duration": 29,
    "start_time": "2021-10-24T22:51:19.101Z"
   },
   {
    "duration": 444,
    "start_time": "2021-10-24T22:51:19.132Z"
   },
   {
    "duration": 26,
    "start_time": "2021-10-24T22:51:19.578Z"
   },
   {
    "duration": 21,
    "start_time": "2021-10-24T22:51:19.609Z"
   },
   {
    "duration": 629,
    "start_time": "2021-10-24T22:51:19.633Z"
   },
   {
    "duration": 570,
    "start_time": "2021-10-24T22:51:20.264Z"
   },
   {
    "duration": 22,
    "start_time": "2021-10-24T22:51:20.836Z"
   },
   {
    "duration": 52,
    "start_time": "2021-10-24T22:51:20.860Z"
   },
   {
    "duration": 5032,
    "start_time": "2021-10-24T22:51:20.915Z"
   },
   {
    "duration": 9120,
    "start_time": "2021-10-24T22:51:25.950Z"
   },
   {
    "duration": 2644,
    "start_time": "2021-10-24T22:51:35.072Z"
   },
   {
    "duration": 11,
    "start_time": "2021-10-24T22:51:37.719Z"
   },
   {
    "duration": 15,
    "start_time": "2021-10-24T22:51:37.734Z"
   },
   {
    "duration": 50,
    "start_time": "2021-10-24T22:51:37.752Z"
   },
   {
    "duration": 21,
    "start_time": "2021-10-24T22:51:37.805Z"
   },
   {
    "duration": 9,
    "start_time": "2021-10-24T22:51:37.829Z"
   },
   {
    "duration": 10,
    "start_time": "2021-10-24T22:51:37.841Z"
   },
   {
    "duration": 55,
    "start_time": "2021-10-24T22:51:37.853Z"
   },
   {
    "duration": 12,
    "start_time": "2021-10-24T22:51:37.911Z"
   },
   {
    "duration": 14,
    "start_time": "2021-10-24T22:51:37.925Z"
   },
   {
    "duration": 20,
    "start_time": "2021-10-24T22:51:37.942Z"
   },
   {
    "duration": 43,
    "start_time": "2021-10-24T22:51:37.965Z"
   },
   {
    "duration": 685,
    "start_time": "2021-10-24T22:51:38.011Z"
   },
   {
    "duration": 8,
    "start_time": "2021-10-24T22:51:38.701Z"
   },
   {
    "duration": 16,
    "start_time": "2021-10-24T22:51:38.712Z"
   },
   {
    "duration": 16,
    "start_time": "2021-10-24T22:51:38.731Z"
   },
   {
    "duration": 7,
    "start_time": "2021-10-24T22:51:38.749Z"
   },
   {
    "duration": 2910,
    "start_time": "2021-10-24T22:55:46.954Z"
   },
   {
    "duration": 940,
    "start_time": "2021-10-24T22:57:34.113Z"
   },
   {
    "duration": 499,
    "start_time": "2021-10-24T22:57:54.923Z"
   },
   {
    "duration": 594,
    "start_time": "2021-10-24T22:58:44.500Z"
   },
   {
    "duration": 509,
    "start_time": "2021-10-24T22:58:59.744Z"
   },
   {
    "duration": 512,
    "start_time": "2021-10-24T22:59:09.400Z"
   },
   {
    "duration": 894,
    "start_time": "2021-10-24T22:59:18.921Z"
   },
   {
    "duration": 27,
    "start_time": "2021-10-24T22:59:19.819Z"
   },
   {
    "duration": 56,
    "start_time": "2021-10-24T22:59:19.849Z"
   },
   {
    "duration": 153,
    "start_time": "2021-10-24T22:59:19.908Z"
   },
   {
    "duration": 53,
    "start_time": "2021-10-24T22:59:20.064Z"
   },
   {
    "duration": 33,
    "start_time": "2021-10-24T22:59:20.120Z"
   },
   {
    "duration": 7,
    "start_time": "2021-10-24T22:59:20.155Z"
   },
   {
    "duration": 79,
    "start_time": "2021-10-24T22:59:20.166Z"
   },
   {
    "duration": 18,
    "start_time": "2021-10-24T22:59:20.248Z"
   },
   {
    "duration": 39,
    "start_time": "2021-10-24T22:59:20.269Z"
   },
   {
    "duration": 16,
    "start_time": "2021-10-24T22:59:20.311Z"
   },
   {
    "duration": 14,
    "start_time": "2021-10-24T22:59:20.329Z"
   },
   {
    "duration": 10,
    "start_time": "2021-10-24T22:59:20.345Z"
   },
   {
    "duration": 53,
    "start_time": "2021-10-24T22:59:20.357Z"
   },
   {
    "duration": 18,
    "start_time": "2021-10-24T22:59:20.414Z"
   },
   {
    "duration": 26,
    "start_time": "2021-10-24T22:59:20.435Z"
   },
   {
    "duration": 62,
    "start_time": "2021-10-24T22:59:20.463Z"
   },
   {
    "duration": 497,
    "start_time": "2021-10-24T22:59:20.528Z"
   },
   {
    "duration": 10,
    "start_time": "2021-10-24T22:59:21.028Z"
   },
   {
    "duration": 32,
    "start_time": "2021-10-24T22:59:21.040Z"
   },
   {
    "duration": 447,
    "start_time": "2021-10-24T22:59:21.074Z"
   },
   {
    "duration": 12,
    "start_time": "2021-10-24T22:59:21.524Z"
   },
   {
    "duration": 17,
    "start_time": "2021-10-24T22:59:21.542Z"
   },
   {
    "duration": 520,
    "start_time": "2021-10-24T22:59:21.562Z"
   },
   {
    "duration": 569,
    "start_time": "2021-10-24T22:59:22.085Z"
   },
   {
    "duration": 22,
    "start_time": "2021-10-24T22:59:22.657Z"
   },
   {
    "duration": 41,
    "start_time": "2021-10-24T22:59:22.681Z"
   },
   {
    "duration": 5004,
    "start_time": "2021-10-24T22:59:22.725Z"
   },
   {
    "duration": 9678,
    "start_time": "2021-10-24T22:59:27.732Z"
   },
   {
    "duration": 2638,
    "start_time": "2021-10-24T22:59:37.413Z"
   },
   {
    "duration": 527,
    "start_time": "2021-10-24T22:59:40.053Z"
   },
   {
    "duration": 22,
    "start_time": "2021-10-24T22:59:40.583Z"
   },
   {
    "duration": 16,
    "start_time": "2021-10-24T22:59:40.607Z"
   },
   {
    "duration": 13,
    "start_time": "2021-10-24T22:59:40.626Z"
   },
   {
    "duration": 23,
    "start_time": "2021-10-24T22:59:40.641Z"
   },
   {
    "duration": 36,
    "start_time": "2021-10-24T22:59:40.666Z"
   },
   {
    "duration": 8,
    "start_time": "2021-10-24T22:59:40.704Z"
   },
   {
    "duration": 12,
    "start_time": "2021-10-24T22:59:40.715Z"
   },
   {
    "duration": 13,
    "start_time": "2021-10-24T22:59:40.729Z"
   },
   {
    "duration": 10,
    "start_time": "2021-10-24T22:59:40.744Z"
   },
   {
    "duration": 53,
    "start_time": "2021-10-24T22:59:40.757Z"
   },
   {
    "duration": 12,
    "start_time": "2021-10-24T22:59:40.813Z"
   },
   {
    "duration": 661,
    "start_time": "2021-10-24T22:59:40.828Z"
   },
   {
    "duration": 13,
    "start_time": "2021-10-24T22:59:41.491Z"
   },
   {
    "duration": 22,
    "start_time": "2021-10-24T22:59:41.507Z"
   },
   {
    "duration": 15,
    "start_time": "2021-10-24T22:59:41.531Z"
   },
   {
    "duration": 8,
    "start_time": "2021-10-24T22:59:41.549Z"
   },
   {
    "duration": 1083,
    "start_time": "2021-10-24T23:05:53.300Z"
   },
   {
    "duration": 891,
    "start_time": "2021-10-24T23:06:25.094Z"
   },
   {
    "duration": 3026,
    "start_time": "2021-10-24T23:06:51.988Z"
   },
   {
    "duration": 3155,
    "start_time": "2021-10-24T23:07:01.835Z"
   },
   {
    "duration": 2924,
    "start_time": "2021-10-24T23:08:31.315Z"
   },
   {
    "duration": 3050,
    "start_time": "2021-10-24T23:09:15.025Z"
   },
   {
    "duration": 11,
    "start_time": "2021-10-24T23:12:29.782Z"
   },
   {
    "duration": 872,
    "start_time": "2021-10-24T23:12:37.706Z"
   },
   {
    "duration": 29,
    "start_time": "2021-10-24T23:12:38.581Z"
   },
   {
    "duration": 28,
    "start_time": "2021-10-24T23:12:38.613Z"
   },
   {
    "duration": 174,
    "start_time": "2021-10-24T23:12:38.644Z"
   },
   {
    "duration": 38,
    "start_time": "2021-10-24T23:12:38.821Z"
   },
   {
    "duration": 57,
    "start_time": "2021-10-24T23:12:38.862Z"
   },
   {
    "duration": 9,
    "start_time": "2021-10-24T23:12:38.921Z"
   },
   {
    "duration": 87,
    "start_time": "2021-10-24T23:12:38.933Z"
   },
   {
    "duration": 19,
    "start_time": "2021-10-24T23:12:39.024Z"
   },
   {
    "duration": 10,
    "start_time": "2021-10-24T23:12:39.046Z"
   },
   {
    "duration": 48,
    "start_time": "2021-10-24T23:12:39.058Z"
   },
   {
    "duration": 13,
    "start_time": "2021-10-24T23:12:39.109Z"
   },
   {
    "duration": 9,
    "start_time": "2021-10-24T23:12:39.124Z"
   },
   {
    "duration": 15,
    "start_time": "2021-10-24T23:12:39.135Z"
   },
   {
    "duration": 48,
    "start_time": "2021-10-24T23:12:39.152Z"
   },
   {
    "duration": 25,
    "start_time": "2021-10-24T23:12:39.203Z"
   },
   {
    "duration": 25,
    "start_time": "2021-10-24T23:12:39.230Z"
   },
   {
    "duration": 517,
    "start_time": "2021-10-24T23:12:39.257Z"
   },
   {
    "duration": 11,
    "start_time": "2021-10-24T23:12:39.776Z"
   },
   {
    "duration": 26,
    "start_time": "2021-10-24T23:12:39.802Z"
   },
   {
    "duration": 447,
    "start_time": "2021-10-24T23:12:39.831Z"
   },
   {
    "duration": 24,
    "start_time": "2021-10-24T23:12:40.281Z"
   },
   {
    "duration": 18,
    "start_time": "2021-10-24T23:12:40.308Z"
   },
   {
    "duration": 525,
    "start_time": "2021-10-24T23:12:40.329Z"
   },
   {
    "duration": 563,
    "start_time": "2021-10-24T23:12:40.856Z"
   },
   {
    "duration": 21,
    "start_time": "2021-10-24T23:12:41.421Z"
   },
   {
    "duration": 23,
    "start_time": "2021-10-24T23:12:41.448Z"
   },
   {
    "duration": 5633,
    "start_time": "2021-10-24T23:12:41.502Z"
   },
   {
    "duration": 11423,
    "start_time": "2021-10-24T23:12:47.138Z"
   },
   {
    "duration": 2643,
    "start_time": "2021-10-24T23:12:58.563Z"
   },
   {
    "duration": 3101,
    "start_time": "2021-10-24T23:13:01.209Z"
   },
   {
    "duration": 9,
    "start_time": "2021-10-24T23:13:04.313Z"
   },
   {
    "duration": 12,
    "start_time": "2021-10-24T23:13:04.325Z"
   },
   {
    "duration": 10,
    "start_time": "2021-10-24T23:13:04.339Z"
   },
   {
    "duration": 60,
    "start_time": "2021-10-24T23:13:04.351Z"
   },
   {
    "duration": 8,
    "start_time": "2021-10-24T23:13:04.414Z"
   },
   {
    "duration": 9,
    "start_time": "2021-10-24T23:13:04.424Z"
   },
   {
    "duration": 14,
    "start_time": "2021-10-24T23:13:04.436Z"
   },
   {
    "duration": 47,
    "start_time": "2021-10-24T23:13:04.453Z"
   },
   {
    "duration": 12,
    "start_time": "2021-10-24T23:13:04.502Z"
   },
   {
    "duration": 14,
    "start_time": "2021-10-24T23:13:04.516Z"
   },
   {
    "duration": 14,
    "start_time": "2021-10-24T23:13:04.532Z"
   },
   {
    "duration": 471,
    "start_time": "2021-10-24T23:13:04.549Z"
   },
   {
    "duration": 9,
    "start_time": "2021-10-24T23:13:05.023Z"
   },
   {
    "duration": 16,
    "start_time": "2021-10-24T23:13:05.035Z"
   },
   {
    "duration": 18,
    "start_time": "2021-10-24T23:13:05.054Z"
   },
   {
    "duration": 7,
    "start_time": "2021-10-24T23:13:05.101Z"
   },
   {
    "duration": 497,
    "start_time": "2021-10-24T23:14:43.143Z"
   },
   {
    "duration": 20,
    "start_time": "2021-10-24T23:14:47.741Z"
   },
   {
    "duration": 19,
    "start_time": "2021-10-24T23:14:54.417Z"
   }
  ],
  "kernelspec": {
   "display_name": "Python 3 (ipykernel)",
   "language": "python",
   "name": "python3"
  },
  "language_info": {
   "codemirror_mode": {
    "name": "ipython",
    "version": 3
   },
   "file_extension": ".py",
   "mimetype": "text/x-python",
   "name": "python",
   "nbconvert_exporter": "python",
   "pygments_lexer": "ipython3",
   "version": "3.9.7"
  },
  "toc": {
   "base_numbering": 1,
   "nav_menu": {},
   "number_sections": true,
   "sideBar": true,
   "skip_h1_title": true,
   "title_cell": "Table of Contents",
   "title_sidebar": "Contents",
   "toc_cell": false,
   "toc_position": {},
   "toc_section_display": true,
   "toc_window_display": false
  }
 },
 "nbformat": 4,
 "nbformat_minor": 2
}
